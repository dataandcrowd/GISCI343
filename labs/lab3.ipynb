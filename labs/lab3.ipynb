{
 "cells": [
  {
   "cell_type": "code",
   "execution_count": 48,
   "metadata": {},
   "outputs": [],
   "source": [
    "import pandas as pd"
   ]
  },
  {
   "cell_type": "code",
   "execution_count": 49,
   "metadata": {},
   "outputs": [],
   "source": [
    "census = pd.read_csv('pop23_total.csv')\n",
    "census_ethnicity = pd.read_csv('pop23_ethnicity.csv')"
   ]
  },
  {
   "cell_type": "code",
   "execution_count": 50,
   "metadata": {},
   "outputs": [
    {
     "data": {
      "text/html": [
       "<div>\n",
       "<style scoped>\n",
       "    .dataframe tbody tr th:only-of-type {\n",
       "        vertical-align: middle;\n",
       "    }\n",
       "\n",
       "    .dataframe tbody tr th {\n",
       "        vertical-align: top;\n",
       "    }\n",
       "\n",
       "    .dataframe thead th {\n",
       "        text-align: right;\n",
       "    }\n",
       "</style>\n",
       "<table border=\"1\" class=\"dataframe\">\n",
       "  <thead>\n",
       "    <tr style=\"text-align: right;\">\n",
       "      <th></th>\n",
       "      <th>Regional council area</th>\n",
       "      <th>2023</th>\n",
       "      <th>Island</th>\n",
       "    </tr>\n",
       "  </thead>\n",
       "  <tbody>\n",
       "    <tr>\n",
       "      <th>0</th>\n",
       "      <td>Northland region</td>\n",
       "      <td>194007</td>\n",
       "      <td>North Island</td>\n",
       "    </tr>\n",
       "    <tr>\n",
       "      <th>1</th>\n",
       "      <td>Auckland region</td>\n",
       "      <td>1656486</td>\n",
       "      <td>North Island</td>\n",
       "    </tr>\n",
       "    <tr>\n",
       "      <th>2</th>\n",
       "      <td>Waikato region</td>\n",
       "      <td>498771</td>\n",
       "      <td>North Island</td>\n",
       "    </tr>\n",
       "    <tr>\n",
       "      <th>3</th>\n",
       "      <td>Bay of Plenty region</td>\n",
       "      <td>334140</td>\n",
       "      <td>North Island</td>\n",
       "    </tr>\n",
       "    <tr>\n",
       "      <th>4</th>\n",
       "      <td>Gisborne region</td>\n",
       "      <td>51135</td>\n",
       "      <td>North Island</td>\n",
       "    </tr>\n",
       "    <tr>\n",
       "      <th>5</th>\n",
       "      <td>Hawke's Bay region</td>\n",
       "      <td>175074</td>\n",
       "      <td>North Island</td>\n",
       "    </tr>\n",
       "    <tr>\n",
       "      <th>6</th>\n",
       "      <td>Taranaki region</td>\n",
       "      <td>126015</td>\n",
       "      <td>North Island</td>\n",
       "    </tr>\n",
       "    <tr>\n",
       "      <th>7</th>\n",
       "      <td>Manawatū-Whanganui region</td>\n",
       "      <td>251412</td>\n",
       "      <td>North Island</td>\n",
       "    </tr>\n",
       "    <tr>\n",
       "      <th>8</th>\n",
       "      <td>Wellington region</td>\n",
       "      <td>520971</td>\n",
       "      <td>North Island</td>\n",
       "    </tr>\n",
       "    <tr>\n",
       "      <th>9</th>\n",
       "      <td>Tasman region</td>\n",
       "      <td>57807</td>\n",
       "      <td>South Island</td>\n",
       "    </tr>\n",
       "    <tr>\n",
       "      <th>10</th>\n",
       "      <td>Nelson region</td>\n",
       "      <td>52584</td>\n",
       "      <td>South Island</td>\n",
       "    </tr>\n",
       "    <tr>\n",
       "      <th>11</th>\n",
       "      <td>Marlborough region</td>\n",
       "      <td>49431</td>\n",
       "      <td>South Island</td>\n",
       "    </tr>\n",
       "    <tr>\n",
       "      <th>12</th>\n",
       "      <td>West Coast region</td>\n",
       "      <td>33390</td>\n",
       "      <td>South Island</td>\n",
       "    </tr>\n",
       "    <tr>\n",
       "      <th>13</th>\n",
       "      <td>Canterbury region</td>\n",
       "      <td>651027</td>\n",
       "      <td>South Island</td>\n",
       "    </tr>\n",
       "    <tr>\n",
       "      <th>14</th>\n",
       "      <td>Otago region</td>\n",
       "      <td>240900</td>\n",
       "      <td>South Island</td>\n",
       "    </tr>\n",
       "    <tr>\n",
       "      <th>15</th>\n",
       "      <td>Southland region</td>\n",
       "      <td>100143</td>\n",
       "      <td>South Island</td>\n",
       "    </tr>\n",
       "    <tr>\n",
       "      <th>16</th>\n",
       "      <td>Area outside region</td>\n",
       "      <td>633</td>\n",
       "      <td>Not Included</td>\n",
       "    </tr>\n",
       "  </tbody>\n",
       "</table>\n",
       "</div>"
      ],
      "text/plain": [
       "        Regional council area     2023        Island\n",
       "0            Northland region   194007  North Island\n",
       "1             Auckland region  1656486  North Island\n",
       "2              Waikato region   498771  North Island\n",
       "3        Bay of Plenty region   334140  North Island\n",
       "4             Gisborne region    51135  North Island\n",
       "5          Hawke's Bay region   175074  North Island\n",
       "6             Taranaki region   126015  North Island\n",
       "7   Manawatū-Whanganui region   251412  North Island\n",
       "8           Wellington region   520971  North Island\n",
       "9               Tasman region    57807  South Island\n",
       "10              Nelson region    52584  South Island\n",
       "11         Marlborough region    49431  South Island\n",
       "12          West Coast region    33390  South Island\n",
       "13          Canterbury region   651027  South Island\n",
       "14               Otago region   240900  South Island\n",
       "15           Southland region   100143  South Island\n",
       "16        Area outside region      633  Not Included"
      ]
     },
     "execution_count": 50,
     "metadata": {},
     "output_type": "execute_result"
    }
   ],
   "source": [
    "census"
   ]
  },
  {
   "cell_type": "code",
   "execution_count": 51,
   "metadata": {},
   "outputs": [
    {
     "name": "stdout",
     "output_type": "stream",
     "text": [
      "<class 'pandas.core.frame.DataFrame'>\n",
      "RangeIndex: 16 entries, 0 to 15\n",
      "Data columns (total 8 columns):\n",
      " #   Column                                 Non-Null Count  Dtype \n",
      "---  ------                                 --------------  ----- \n",
      " 0   Regional council area                  16 non-null     object\n",
      " 1   European                               16 non-null     object\n",
      " 2   Māori                                  16 non-null     object\n",
      " 3   Pacific peoples                        16 non-null     object\n",
      " 4   Asian                                  16 non-null     object\n",
      " 5   Middle Eastern/Latin American/African  16 non-null     object\n",
      " 6   Other ethnicity                        16 non-null     object\n",
      " 7   total                                  16 non-null     object\n",
      "dtypes: object(8)\n",
      "memory usage: 1.1+ KB\n"
     ]
    }
   ],
   "source": [
    "census_ethnicity.info()"
   ]
  },
  {
   "cell_type": "code",
   "execution_count": 52,
   "metadata": {},
   "outputs": [
    {
     "data": {
      "text/plain": [
       "0       141,5949,345\n",
       "1     825,144518,178\n",
       "2      357,62460,792\n",
       "3      240,08729,262\n",
       "4        28,9051,968\n",
       "5      128,41511,361\n",
       "6       105,3667,215\n",
       "7      196,43119,329\n",
       "8      378,42979,314\n",
       "9        52,4162,298\n",
       "10       44,5444,533\n",
       "11       42,4502,667\n",
       "12       29,9641,335\n",
       "13     522,49886,430\n",
       "14     205,22420,379\n",
       "15       84,1957,152\n",
       "dtype: object"
      ]
     },
     "execution_count": 52,
     "metadata": {},
     "output_type": "execute_result"
    }
   ],
   "source": [
    "census_ethnicity[\"European\"] + census_ethnicity[\"Asian\"]"
   ]
  },
  {
   "cell_type": "code",
   "execution_count": 53,
   "metadata": {},
   "outputs": [],
   "source": [
    "column_headings = census_ethnicity.columns"
   ]
  },
  {
   "cell_type": "code",
   "execution_count": 54,
   "metadata": {},
   "outputs": [
    {
     "data": {
      "text/plain": [
       "Index(['Regional council area', 'European', 'Māori', 'Pacific peoples',\n",
       "       'Asian', 'Middle Eastern/Latin American/African', 'Other ethnicity',\n",
       "       'total'],\n",
       "      dtype='object')"
      ]
     },
     "execution_count": 54,
     "metadata": {},
     "output_type": "execute_result"
    }
   ],
   "source": [
    "column_headings"
   ]
  },
  {
   "cell_type": "code",
   "execution_count": 55,
   "metadata": {},
   "outputs": [],
   "source": [
    "column_headings_list = census_ethnicity.columns.tolist()"
   ]
  },
  {
   "cell_type": "code",
   "execution_count": 56,
   "metadata": {},
   "outputs": [
    {
     "data": {
      "text/plain": [
       "['Regional council area',\n",
       " 'European',\n",
       " 'Māori',\n",
       " 'Pacific peoples',\n",
       " 'Asian',\n",
       " 'Middle Eastern/Latin American/African',\n",
       " 'Other ethnicity',\n",
       " 'total']"
      ]
     },
     "execution_count": 56,
     "metadata": {},
     "output_type": "execute_result"
    }
   ],
   "source": [
    "column_headings_list"
   ]
  },
  {
   "cell_type": "code",
   "execution_count": 57,
   "metadata": {},
   "outputs": [],
   "source": [
    "column_headings_list.remove('Regional council area')"
   ]
  },
  {
   "cell_type": "code",
   "execution_count": 58,
   "metadata": {},
   "outputs": [
    {
     "data": {
      "text/plain": [
       "['European',\n",
       " 'Māori',\n",
       " 'Pacific peoples',\n",
       " 'Asian',\n",
       " 'Middle Eastern/Latin American/African',\n",
       " 'Other ethnicity',\n",
       " 'total']"
      ]
     },
     "execution_count": 58,
     "metadata": {},
     "output_type": "execute_result"
    }
   ],
   "source": [
    "column_headings_list"
   ]
  },
  {
   "cell_type": "code",
   "execution_count": 59,
   "metadata": {},
   "outputs": [
    {
     "name": "stdout",
     "output_type": "stream",
     "text": [
      "        Regional council area  European   Māori  Pacific peoples   Asian  \\\n",
      "0            Northland region    141594   72612             9486    9345   \n",
      "1             Auckland region    825144  203544           275079  518178   \n",
      "2              Waikato region    357624  125574            26139   60792   \n",
      "3        Bay of Plenty region    240087  102387            14202   29262   \n",
      "4             Gisborne region     28905   28029             2841    1968   \n",
      "5          Hawke's Bay region    128415   50076            10902   11361   \n",
      "6             Taranaki region    105366   27411             3234    7215   \n",
      "7   Manawatū-Whanganui region    196431   63177            12522   19329   \n",
      "8           Wellington region    378429   80613            47349   79314   \n",
      "9               Tasman region     52416    5745             1509    2298   \n",
      "10              Nelson region     44544    6252             1485    4533   \n",
      "11         Marlborough region     42450    7344             1821    2667   \n",
      "12          West Coast region     29964    4491              540    1335   \n",
      "13          Canterbury region    522498   69060            23868   86430   \n",
      "14               Otago region    205224   23910             8274   20379   \n",
      "15           Southland region     84195   16848             3351    7152   \n",
      "\n",
      "    Middle Eastern/Latin American/African  Other ethnicity    total  \n",
      "0                                    1263             2208   194007  \n",
      "1                                   44718            15144  1656486  \n",
      "2                                    7146             5742   498771  \n",
      "3                                    3954             3558   334140  \n",
      "4                                     381              468    51135  \n",
      "5                                    1398             2118   175074  \n",
      "6                                     978             1719   126015  \n",
      "7                                    2394             3339   251412  \n",
      "8                                   11934             5823   520971  \n",
      "9                                     435              915    57807  \n",
      "10                                    714              705    52584  \n",
      "11                                    738              744    49431  \n",
      "12                                    180              723    33390  \n",
      "13                                  10299             8205   651027  \n",
      "14                                   5211             3207   240900  \n",
      "15                                   1014             1509   100143  \n"
     ]
    }
   ],
   "source": [
    "census_ethnicity[column_headings_list] = census_ethnicity[column_headings_list].replace({',': ''}, regex=True).apply(pd.to_numeric)\n",
    "\n",
    "print(census_ethnicity)"
   ]
  },
  {
   "cell_type": "code",
   "execution_count": 60,
   "metadata": {},
   "outputs": [
    {
     "data": {
      "text/html": [
       "<div>\n",
       "<style scoped>\n",
       "    .dataframe tbody tr th:only-of-type {\n",
       "        vertical-align: middle;\n",
       "    }\n",
       "\n",
       "    .dataframe tbody tr th {\n",
       "        vertical-align: top;\n",
       "    }\n",
       "\n",
       "    .dataframe thead th {\n",
       "        text-align: right;\n",
       "    }\n",
       "</style>\n",
       "<table border=\"1\" class=\"dataframe\">\n",
       "  <thead>\n",
       "    <tr style=\"text-align: right;\">\n",
       "      <th></th>\n",
       "      <th>European</th>\n",
       "      <th>Māori</th>\n",
       "      <th>Pacific peoples</th>\n",
       "      <th>Asian</th>\n",
       "      <th>Middle Eastern/Latin American/African</th>\n",
       "      <th>Other ethnicity</th>\n",
       "      <th>total</th>\n",
       "    </tr>\n",
       "  </thead>\n",
       "  <tbody>\n",
       "    <tr>\n",
       "      <th>count</th>\n",
       "      <td>16.000000</td>\n",
       "      <td>16.000000</td>\n",
       "      <td>16.000000</td>\n",
       "      <td>16.000000</td>\n",
       "      <td>16.000000</td>\n",
       "      <td>16.000000</td>\n",
       "      <td>1.600000e+01</td>\n",
       "    </tr>\n",
       "    <tr>\n",
       "      <th>mean</th>\n",
       "      <td>211455.375000</td>\n",
       "      <td>55442.062500</td>\n",
       "      <td>27662.625000</td>\n",
       "      <td>53847.375000</td>\n",
       "      <td>5797.312500</td>\n",
       "      <td>3507.937500</td>\n",
       "      <td>3.120808e+05</td>\n",
       "    </tr>\n",
       "    <tr>\n",
       "      <th>std</th>\n",
       "      <td>217699.642115</td>\n",
       "      <td>54208.755998</td>\n",
       "      <td>67128.445528</td>\n",
       "      <td>126905.663117</td>\n",
       "      <td>11006.024512</td>\n",
       "      <td>3811.968424</td>\n",
       "      <td>4.057111e+05</td>\n",
       "    </tr>\n",
       "    <tr>\n",
       "      <th>min</th>\n",
       "      <td>28905.000000</td>\n",
       "      <td>4491.000000</td>\n",
       "      <td>540.000000</td>\n",
       "      <td>1335.000000</td>\n",
       "      <td>180.000000</td>\n",
       "      <td>468.000000</td>\n",
       "      <td>3.339000e+04</td>\n",
       "    </tr>\n",
       "    <tr>\n",
       "      <th>25%</th>\n",
       "      <td>50448.000000</td>\n",
       "      <td>14472.000000</td>\n",
       "      <td>2586.000000</td>\n",
       "      <td>4066.500000</td>\n",
       "      <td>732.000000</td>\n",
       "      <td>872.250000</td>\n",
       "      <td>5.650125e+04</td>\n",
       "    </tr>\n",
       "    <tr>\n",
       "      <th>50%</th>\n",
       "      <td>135004.500000</td>\n",
       "      <td>39052.500000</td>\n",
       "      <td>8880.000000</td>\n",
       "      <td>10353.000000</td>\n",
       "      <td>1330.500000</td>\n",
       "      <td>2163.000000</td>\n",
       "      <td>1.845405e+05</td>\n",
       "    </tr>\n",
       "    <tr>\n",
       "      <th>75%</th>\n",
       "      <td>269471.250000</td>\n",
       "      <td>74612.250000</td>\n",
       "      <td>16618.500000</td>\n",
       "      <td>37144.500000</td>\n",
       "      <td>5694.750000</td>\n",
       "      <td>4104.000000</td>\n",
       "      <td>3.752978e+05</td>\n",
       "    </tr>\n",
       "    <tr>\n",
       "      <th>max</th>\n",
       "      <td>825144.000000</td>\n",
       "      <td>203544.000000</td>\n",
       "      <td>275079.000000</td>\n",
       "      <td>518178.000000</td>\n",
       "      <td>44718.000000</td>\n",
       "      <td>15144.000000</td>\n",
       "      <td>1.656486e+06</td>\n",
       "    </tr>\n",
       "  </tbody>\n",
       "</table>\n",
       "</div>"
      ],
      "text/plain": [
       "            European          Māori  Pacific peoples          Asian  \\\n",
       "count      16.000000      16.000000        16.000000      16.000000   \n",
       "mean   211455.375000   55442.062500     27662.625000   53847.375000   \n",
       "std    217699.642115   54208.755998     67128.445528  126905.663117   \n",
       "min     28905.000000    4491.000000       540.000000    1335.000000   \n",
       "25%     50448.000000   14472.000000      2586.000000    4066.500000   \n",
       "50%    135004.500000   39052.500000      8880.000000   10353.000000   \n",
       "75%    269471.250000   74612.250000     16618.500000   37144.500000   \n",
       "max    825144.000000  203544.000000    275079.000000  518178.000000   \n",
       "\n",
       "       Middle Eastern/Latin American/African  Other ethnicity         total  \n",
       "count                              16.000000        16.000000  1.600000e+01  \n",
       "mean                             5797.312500      3507.937500  3.120808e+05  \n",
       "std                             11006.024512      3811.968424  4.057111e+05  \n",
       "min                               180.000000       468.000000  3.339000e+04  \n",
       "25%                               732.000000       872.250000  5.650125e+04  \n",
       "50%                              1330.500000      2163.000000  1.845405e+05  \n",
       "75%                              5694.750000      4104.000000  3.752978e+05  \n",
       "max                             44718.000000     15144.000000  1.656486e+06  "
      ]
     },
     "execution_count": 60,
     "metadata": {},
     "output_type": "execute_result"
    }
   ],
   "source": [
    "census_ethnicity.describe()"
   ]
  },
  {
   "cell_type": "code",
   "execution_count": 61,
   "metadata": {},
   "outputs": [
    {
     "data": {
      "text/plain": [
       "3383286"
      ]
     },
     "execution_count": 61,
     "metadata": {},
     "output_type": "execute_result"
    }
   ],
   "source": [
    "census_ethnicity['European'].sum(axis=0)"
   ]
  },
  {
   "cell_type": "code",
   "execution_count": 62,
   "metadata": {},
   "outputs": [
    {
     "name": "stdout",
     "output_type": "stream",
     "text": [
      "  Regional council area  European   Māori  Pacific peoples   Asian  \\\n",
      "0      Northland region    141594   72612             9486    9345   \n",
      "1       Auckland region    825144  203544           275079  518178   \n",
      "2        Waikato region    357624  125574            26139   60792   \n",
      "3  Bay of Plenty region    240087  102387            14202   29262   \n",
      "4       Gisborne region     28905   28029             2841    1968   \n",
      "\n",
      "   Middle Eastern/Latin American/African  Other ethnicity    total     2023  \\\n",
      "0                                   1263             2208   194007   194007   \n",
      "1                                  44718            15144  1656486  1656486   \n",
      "2                                   7146             5742   498771   498771   \n",
      "3                                   3954             3558   334140   334140   \n",
      "4                                    381              468    51135    51135   \n",
      "\n",
      "         Island  \n",
      "0  North Island  \n",
      "1  North Island  \n",
      "2  North Island  \n",
      "3  North Island  \n",
      "4  North Island  \n"
     ]
    }
   ],
   "source": [
    "pop23 = pd.merge(census_ethnicity, census, on='Regional council area')\n",
    "print(pop23.head())"
   ]
  },
  {
   "cell_type": "code",
   "execution_count": 63,
   "metadata": {},
   "outputs": [
    {
     "data": {
      "text/html": [
       "<div>\n",
       "<style scoped>\n",
       "    .dataframe tbody tr th:only-of-type {\n",
       "        vertical-align: middle;\n",
       "    }\n",
       "\n",
       "    .dataframe tbody tr th {\n",
       "        vertical-align: top;\n",
       "    }\n",
       "\n",
       "    .dataframe thead th {\n",
       "        text-align: right;\n",
       "    }\n",
       "</style>\n",
       "<table border=\"1\" class=\"dataframe\">\n",
       "  <thead>\n",
       "    <tr style=\"text-align: right;\">\n",
       "      <th></th>\n",
       "      <th>Regional council area</th>\n",
       "      <th>European</th>\n",
       "      <th>Māori</th>\n",
       "      <th>Pacific peoples</th>\n",
       "      <th>Asian</th>\n",
       "      <th>Middle Eastern/Latin American/African</th>\n",
       "      <th>Other ethnicity</th>\n",
       "      <th>total</th>\n",
       "      <th>2023</th>\n",
       "      <th>Island</th>\n",
       "    </tr>\n",
       "  </thead>\n",
       "  <tbody>\n",
       "    <tr>\n",
       "      <th>0</th>\n",
       "      <td>Northland region</td>\n",
       "      <td>141594</td>\n",
       "      <td>72612</td>\n",
       "      <td>9486</td>\n",
       "      <td>9345</td>\n",
       "      <td>1263</td>\n",
       "      <td>2208</td>\n",
       "      <td>194007</td>\n",
       "      <td>194007</td>\n",
       "      <td>North Island</td>\n",
       "    </tr>\n",
       "    <tr>\n",
       "      <th>1</th>\n",
       "      <td>Auckland region</td>\n",
       "      <td>825144</td>\n",
       "      <td>203544</td>\n",
       "      <td>275079</td>\n",
       "      <td>518178</td>\n",
       "      <td>44718</td>\n",
       "      <td>15144</td>\n",
       "      <td>1656486</td>\n",
       "      <td>1656486</td>\n",
       "      <td>North Island</td>\n",
       "    </tr>\n",
       "    <tr>\n",
       "      <th>2</th>\n",
       "      <td>Waikato region</td>\n",
       "      <td>357624</td>\n",
       "      <td>125574</td>\n",
       "      <td>26139</td>\n",
       "      <td>60792</td>\n",
       "      <td>7146</td>\n",
       "      <td>5742</td>\n",
       "      <td>498771</td>\n",
       "      <td>498771</td>\n",
       "      <td>North Island</td>\n",
       "    </tr>\n",
       "    <tr>\n",
       "      <th>3</th>\n",
       "      <td>Bay of Plenty region</td>\n",
       "      <td>240087</td>\n",
       "      <td>102387</td>\n",
       "      <td>14202</td>\n",
       "      <td>29262</td>\n",
       "      <td>3954</td>\n",
       "      <td>3558</td>\n",
       "      <td>334140</td>\n",
       "      <td>334140</td>\n",
       "      <td>North Island</td>\n",
       "    </tr>\n",
       "    <tr>\n",
       "      <th>4</th>\n",
       "      <td>Gisborne region</td>\n",
       "      <td>28905</td>\n",
       "      <td>28029</td>\n",
       "      <td>2841</td>\n",
       "      <td>1968</td>\n",
       "      <td>381</td>\n",
       "      <td>468</td>\n",
       "      <td>51135</td>\n",
       "      <td>51135</td>\n",
       "      <td>North Island</td>\n",
       "    </tr>\n",
       "    <tr>\n",
       "      <th>5</th>\n",
       "      <td>Hawke's Bay region</td>\n",
       "      <td>128415</td>\n",
       "      <td>50076</td>\n",
       "      <td>10902</td>\n",
       "      <td>11361</td>\n",
       "      <td>1398</td>\n",
       "      <td>2118</td>\n",
       "      <td>175074</td>\n",
       "      <td>175074</td>\n",
       "      <td>North Island</td>\n",
       "    </tr>\n",
       "    <tr>\n",
       "      <th>6</th>\n",
       "      <td>Taranaki region</td>\n",
       "      <td>105366</td>\n",
       "      <td>27411</td>\n",
       "      <td>3234</td>\n",
       "      <td>7215</td>\n",
       "      <td>978</td>\n",
       "      <td>1719</td>\n",
       "      <td>126015</td>\n",
       "      <td>126015</td>\n",
       "      <td>North Island</td>\n",
       "    </tr>\n",
       "    <tr>\n",
       "      <th>7</th>\n",
       "      <td>Manawatū-Whanganui region</td>\n",
       "      <td>196431</td>\n",
       "      <td>63177</td>\n",
       "      <td>12522</td>\n",
       "      <td>19329</td>\n",
       "      <td>2394</td>\n",
       "      <td>3339</td>\n",
       "      <td>251412</td>\n",
       "      <td>251412</td>\n",
       "      <td>North Island</td>\n",
       "    </tr>\n",
       "    <tr>\n",
       "      <th>8</th>\n",
       "      <td>Wellington region</td>\n",
       "      <td>378429</td>\n",
       "      <td>80613</td>\n",
       "      <td>47349</td>\n",
       "      <td>79314</td>\n",
       "      <td>11934</td>\n",
       "      <td>5823</td>\n",
       "      <td>520971</td>\n",
       "      <td>520971</td>\n",
       "      <td>North Island</td>\n",
       "    </tr>\n",
       "    <tr>\n",
       "      <th>9</th>\n",
       "      <td>Tasman region</td>\n",
       "      <td>52416</td>\n",
       "      <td>5745</td>\n",
       "      <td>1509</td>\n",
       "      <td>2298</td>\n",
       "      <td>435</td>\n",
       "      <td>915</td>\n",
       "      <td>57807</td>\n",
       "      <td>57807</td>\n",
       "      <td>South Island</td>\n",
       "    </tr>\n",
       "    <tr>\n",
       "      <th>10</th>\n",
       "      <td>Nelson region</td>\n",
       "      <td>44544</td>\n",
       "      <td>6252</td>\n",
       "      <td>1485</td>\n",
       "      <td>4533</td>\n",
       "      <td>714</td>\n",
       "      <td>705</td>\n",
       "      <td>52584</td>\n",
       "      <td>52584</td>\n",
       "      <td>South Island</td>\n",
       "    </tr>\n",
       "    <tr>\n",
       "      <th>11</th>\n",
       "      <td>Marlborough region</td>\n",
       "      <td>42450</td>\n",
       "      <td>7344</td>\n",
       "      <td>1821</td>\n",
       "      <td>2667</td>\n",
       "      <td>738</td>\n",
       "      <td>744</td>\n",
       "      <td>49431</td>\n",
       "      <td>49431</td>\n",
       "      <td>South Island</td>\n",
       "    </tr>\n",
       "    <tr>\n",
       "      <th>12</th>\n",
       "      <td>West Coast region</td>\n",
       "      <td>29964</td>\n",
       "      <td>4491</td>\n",
       "      <td>540</td>\n",
       "      <td>1335</td>\n",
       "      <td>180</td>\n",
       "      <td>723</td>\n",
       "      <td>33390</td>\n",
       "      <td>33390</td>\n",
       "      <td>South Island</td>\n",
       "    </tr>\n",
       "    <tr>\n",
       "      <th>13</th>\n",
       "      <td>Canterbury region</td>\n",
       "      <td>522498</td>\n",
       "      <td>69060</td>\n",
       "      <td>23868</td>\n",
       "      <td>86430</td>\n",
       "      <td>10299</td>\n",
       "      <td>8205</td>\n",
       "      <td>651027</td>\n",
       "      <td>651027</td>\n",
       "      <td>South Island</td>\n",
       "    </tr>\n",
       "    <tr>\n",
       "      <th>14</th>\n",
       "      <td>Otago region</td>\n",
       "      <td>205224</td>\n",
       "      <td>23910</td>\n",
       "      <td>8274</td>\n",
       "      <td>20379</td>\n",
       "      <td>5211</td>\n",
       "      <td>3207</td>\n",
       "      <td>240900</td>\n",
       "      <td>240900</td>\n",
       "      <td>South Island</td>\n",
       "    </tr>\n",
       "    <tr>\n",
       "      <th>15</th>\n",
       "      <td>Southland region</td>\n",
       "      <td>84195</td>\n",
       "      <td>16848</td>\n",
       "      <td>3351</td>\n",
       "      <td>7152</td>\n",
       "      <td>1014</td>\n",
       "      <td>1509</td>\n",
       "      <td>100143</td>\n",
       "      <td>100143</td>\n",
       "      <td>South Island</td>\n",
       "    </tr>\n",
       "  </tbody>\n",
       "</table>\n",
       "</div>"
      ],
      "text/plain": [
       "        Regional council area  European   Māori  Pacific peoples   Asian  \\\n",
       "0            Northland region    141594   72612             9486    9345   \n",
       "1             Auckland region    825144  203544           275079  518178   \n",
       "2              Waikato region    357624  125574            26139   60792   \n",
       "3        Bay of Plenty region    240087  102387            14202   29262   \n",
       "4             Gisborne region     28905   28029             2841    1968   \n",
       "5          Hawke's Bay region    128415   50076            10902   11361   \n",
       "6             Taranaki region    105366   27411             3234    7215   \n",
       "7   Manawatū-Whanganui region    196431   63177            12522   19329   \n",
       "8           Wellington region    378429   80613            47349   79314   \n",
       "9               Tasman region     52416    5745             1509    2298   \n",
       "10              Nelson region     44544    6252             1485    4533   \n",
       "11         Marlborough region     42450    7344             1821    2667   \n",
       "12          West Coast region     29964    4491              540    1335   \n",
       "13          Canterbury region    522498   69060            23868   86430   \n",
       "14               Otago region    205224   23910             8274   20379   \n",
       "15           Southland region     84195   16848             3351    7152   \n",
       "\n",
       "    Middle Eastern/Latin American/African  Other ethnicity    total     2023  \\\n",
       "0                                    1263             2208   194007   194007   \n",
       "1                                   44718            15144  1656486  1656486   \n",
       "2                                    7146             5742   498771   498771   \n",
       "3                                    3954             3558   334140   334140   \n",
       "4                                     381              468    51135    51135   \n",
       "5                                    1398             2118   175074   175074   \n",
       "6                                     978             1719   126015   126015   \n",
       "7                                    2394             3339   251412   251412   \n",
       "8                                   11934             5823   520971   520971   \n",
       "9                                     435              915    57807    57807   \n",
       "10                                    714              705    52584    52584   \n",
       "11                                    738              744    49431    49431   \n",
       "12                                    180              723    33390    33390   \n",
       "13                                  10299             8205   651027   651027   \n",
       "14                                   5211             3207   240900   240900   \n",
       "15                                   1014             1509   100143   100143   \n",
       "\n",
       "          Island  \n",
       "0   North Island  \n",
       "1   North Island  \n",
       "2   North Island  \n",
       "3   North Island  \n",
       "4   North Island  \n",
       "5   North Island  \n",
       "6   North Island  \n",
       "7   North Island  \n",
       "8   North Island  \n",
       "9   South Island  \n",
       "10  South Island  \n",
       "11  South Island  \n",
       "12  South Island  \n",
       "13  South Island  \n",
       "14  South Island  \n",
       "15  South Island  "
      ]
     },
     "execution_count": 63,
     "metadata": {},
     "output_type": "execute_result"
    }
   ],
   "source": [
    "pop23"
   ]
  },
  {
   "cell_type": "code",
   "execution_count": 64,
   "metadata": {},
   "outputs": [
    {
     "name": "stdout",
     "output_type": "stream",
     "text": [
      "                                          Regional council area  European  \\\n",
      "Island                                                                      \n",
      "North Island  Northland regionAuckland regionWaikato regionB...   2401995   \n",
      "South Island  Tasman regionNelson regionMarlborough regionWe...    981291   \n",
      "\n",
      "               Māori  Pacific peoples   Asian  \\\n",
      "Island                                          \n",
      "North Island  753423           401754  736764   \n",
      "South Island  133650            40848  124794   \n",
      "\n",
      "              Middle Eastern/Latin American/African  Other ethnicity    total  \\\n",
      "Island                                                                          \n",
      "North Island                                  74166            40119  3808011   \n",
      "South Island                                  18591            16008  1185282   \n",
      "\n",
      "                 2023  \n",
      "Island                 \n",
      "North Island  3808011  \n",
      "South Island  1185282  \n"
     ]
    }
   ],
   "source": [
    "grouped_by_island = pop23.groupby('Island')\n",
    "print(grouped_by_island.sum())"
   ]
  },
  {
   "cell_type": "code",
   "execution_count": 65,
   "metadata": {},
   "outputs": [],
   "source": [
    "grouped_by_island = pop23.groupby('Island')[['European', 'Māori', 'Pacific peoples', 'Asian', \n",
    "                                                   'Middle Eastern/Latin American/African', 'Other ethnicity']].sum()\n"
   ]
  },
  {
   "cell_type": "code",
   "execution_count": 66,
   "metadata": {},
   "outputs": [
    {
     "data": {
      "text/html": [
       "<div>\n",
       "<style scoped>\n",
       "    .dataframe tbody tr th:only-of-type {\n",
       "        vertical-align: middle;\n",
       "    }\n",
       "\n",
       "    .dataframe tbody tr th {\n",
       "        vertical-align: top;\n",
       "    }\n",
       "\n",
       "    .dataframe thead th {\n",
       "        text-align: right;\n",
       "    }\n",
       "</style>\n",
       "<table border=\"1\" class=\"dataframe\">\n",
       "  <thead>\n",
       "    <tr style=\"text-align: right;\">\n",
       "      <th></th>\n",
       "      <th>European</th>\n",
       "      <th>Māori</th>\n",
       "      <th>Pacific peoples</th>\n",
       "      <th>Asian</th>\n",
       "      <th>Middle Eastern/Latin American/African</th>\n",
       "      <th>Other ethnicity</th>\n",
       "    </tr>\n",
       "    <tr>\n",
       "      <th>Island</th>\n",
       "      <th></th>\n",
       "      <th></th>\n",
       "      <th></th>\n",
       "      <th></th>\n",
       "      <th></th>\n",
       "      <th></th>\n",
       "    </tr>\n",
       "  </thead>\n",
       "  <tbody>\n",
       "    <tr>\n",
       "      <th>North Island</th>\n",
       "      <td>2401995</td>\n",
       "      <td>753423</td>\n",
       "      <td>401754</td>\n",
       "      <td>736764</td>\n",
       "      <td>74166</td>\n",
       "      <td>40119</td>\n",
       "    </tr>\n",
       "    <tr>\n",
       "      <th>South Island</th>\n",
       "      <td>981291</td>\n",
       "      <td>133650</td>\n",
       "      <td>40848</td>\n",
       "      <td>124794</td>\n",
       "      <td>18591</td>\n",
       "      <td>16008</td>\n",
       "    </tr>\n",
       "  </tbody>\n",
       "</table>\n",
       "</div>"
      ],
      "text/plain": [
       "              European   Māori  Pacific peoples   Asian  \\\n",
       "Island                                                    \n",
       "North Island   2401995  753423           401754  736764   \n",
       "South Island    981291  133650            40848  124794   \n",
       "\n",
       "              Middle Eastern/Latin American/African  Other ethnicity  \n",
       "Island                                                                \n",
       "North Island                                  74166            40119  \n",
       "South Island                                  18591            16008  "
      ]
     },
     "execution_count": 66,
     "metadata": {},
     "output_type": "execute_result"
    }
   ],
   "source": [
    "grouped_by_island"
   ]
  },
  {
   "cell_type": "code",
   "execution_count": 68,
   "metadata": {},
   "outputs": [],
   "source": [
    "import matplotlib.pyplot as plt"
   ]
  },
  {
   "cell_type": "code",
   "execution_count": 69,
   "metadata": {},
   "outputs": [
    {
     "data": {
      "image/png": "[encoded data removed]",
      "text/plain": [
       "<Figure size 1000x600 with 1 Axes>"
      ]
     },
     "metadata": {},
     "output_type": "display_data"
    }
   ],
   "source": [
    "ethnic_group_sums = pop23[['European', 'Māori', 'Pacific peoples', 'Asian', \n",
    "                                 'Middle Eastern/Latin American/African', 'Other ethnicity']].sum()\n",
    "\n",
    "# Plotting the sum of each ethnic group\n",
    "ethnic_group_sums.plot(kind='bar', figsize=(10, 6), title='Sum of Ethnic Groups in New Zealand')\n",
    "plt.xlabel('Ethnic Groups')\n",
    "plt.ylabel('Population')\n",
    "plt.xticks(rotation=45)\n",
    "plt.show()"
   ]
  },
  {
   "cell_type": "code",
   "execution_count": 71,
   "metadata": {},
   "outputs": [],
   "source": [
    "# Group by Island and sum the ethnic groups\n",
    "grouped_by_island = pop23.groupby('Island')[['European', 'Māori', 'Pacific peoples', 'Asian', \n",
    "                                                   'Middle Eastern/Latin American/African', 'Other ethnicity']].sum()\n"
   ]
  },
  {
   "cell_type": "code",
   "execution_count": 72,
   "metadata": {},
   "outputs": [
    {
     "data": {
      "image/png": "[encoded data removed]",
      "text/plain": [
       "<Figure size 1000x600 with 1 Axes>"
      ]
     },
     "metadata": {},
     "output_type": "display_data"
    }
   ],
   "source": [
    "# Plotting the sum of ethnic groups by island\n",
    "grouped_by_island.plot(kind='bar', stacked=True, figsize=(10, 6), title='Sum of Ethnic Groups by Island')\n",
    "plt.xlabel('Island')\n",
    "plt.ylabel('Population')\n",
    "plt.xticks(rotation=0)\n",
    "plt.show()"
   ]
  },
  {
   "cell_type": "code",
   "execution_count": 73,
   "metadata": {},
   "outputs": [],
   "source": [
    "grouped_by_island_percentage = grouped_by_island.div(grouped_by_island.sum(axis=1), axis=0) * 100\n"
   ]
  },
  {
   "cell_type": "code",
   "execution_count": 80,
   "metadata": {},
   "outputs": [
    {
     "data": {
      "text/html": [
       "<div>\n",
       "<style scoped>\n",
       "    .dataframe tbody tr th:only-of-type {\n",
       "        vertical-align: middle;\n",
       "    }\n",
       "\n",
       "    .dataframe tbody tr th {\n",
       "        vertical-align: top;\n",
       "    }\n",
       "\n",
       "    .dataframe thead th {\n",
       "        text-align: right;\n",
       "    }\n",
       "</style>\n",
       "<table border=\"1\" class=\"dataframe\">\n",
       "  <thead>\n",
       "    <tr style=\"text-align: right;\">\n",
       "      <th></th>\n",
       "      <th>European</th>\n",
       "      <th>Māori</th>\n",
       "      <th>Pacific peoples</th>\n",
       "      <th>Asian</th>\n",
       "      <th>Middle Eastern/Latin American/African</th>\n",
       "      <th>Other ethnicity</th>\n",
       "    </tr>\n",
       "    <tr>\n",
       "      <th>Island</th>\n",
       "      <th></th>\n",
       "      <th></th>\n",
       "      <th></th>\n",
       "      <th></th>\n",
       "      <th></th>\n",
       "      <th></th>\n",
       "    </tr>\n",
       "  </thead>\n",
       "  <tbody>\n",
       "    <tr>\n",
       "      <th>North Island</th>\n",
       "      <td>54.488988</td>\n",
       "      <td>17.091316</td>\n",
       "      <td>9.113745</td>\n",
       "      <td>16.713409</td>\n",
       "      <td>1.682447</td>\n",
       "      <td>0.910095</td>\n",
       "    </tr>\n",
       "    <tr>\n",
       "      <th>South Island</th>\n",
       "      <td>74.612563</td>\n",
       "      <td>10.162092</td>\n",
       "      <td>3.105882</td>\n",
       "      <td>9.488725</td>\n",
       "      <td>1.413569</td>\n",
       "      <td>1.217170</td>\n",
       "    </tr>\n",
       "  </tbody>\n",
       "</table>\n",
       "</div>"
      ],
      "text/plain": [
       "               European      Māori  Pacific peoples      Asian  \\\n",
       "Island                                                           \n",
       "North Island  54.488988  17.091316         9.113745  16.713409   \n",
       "South Island  74.612563  10.162092         3.105882   9.488725   \n",
       "\n",
       "              Middle Eastern/Latin American/African  Other ethnicity  \n",
       "Island                                                                \n",
       "North Island                               1.682447         0.910095  \n",
       "South Island                               1.413569         1.217170  "
      ]
     },
     "execution_count": 80,
     "metadata": {},
     "output_type": "execute_result"
    }
   ],
   "source": [
    "grouped_by_island_percentage"
   ]
  },
  {
   "cell_type": "code",
   "execution_count": 81,
   "metadata": {},
   "outputs": [
    {
     "name": "stdout",
     "output_type": "stream",
     "text": [
      "          Island                           Ethnic Group  Percentage\n",
      "0   North Island                               European   54.488988\n",
      "1   South Island                               European   74.612563\n",
      "2   North Island                                  Māori   17.091316\n",
      "3   South Island                                  Māori   10.162092\n",
      "4   North Island                        Pacific peoples    9.113745\n",
      "5   South Island                        Pacific peoples    3.105882\n",
      "6   North Island                                  Asian   16.713409\n",
      "7   South Island                                  Asian    9.488725\n",
      "8   North Island  Middle Eastern/Latin American/African    1.682447\n",
      "9   South Island  Middle Eastern/Latin American/African    1.413569\n",
      "10  North Island                        Other ethnicity    0.910095\n",
      "11  South Island                        Other ethnicity    1.217170\n"
     ]
    }
   ],
   "source": [
    "# Convert to longer format\n",
    "grouped_by_island_percentage_long = grouped_by_island_percentage.reset_index().melt(id_vars='Island', var_name='Ethnic Group', value_name='Percentage')\n",
    "print(grouped_by_island_percentage_long)"
   ]
  },
  {
   "cell_type": "code",
   "execution_count": 79,
   "metadata": {},
   "outputs": [
    {
     "name": "stderr",
     "output_type": "stream",
     "text": [
      "/var/folders/th/wzvst6957_v02h6ztkc7qxw5_3lzg7/T/ipykernel_18768/4237070882.py:8: UserWarning: set_ticklabels() should only be used with a fixed number of ticks, i.e. after set_ticks() or using a FixedLocator.\n",
      "  pop_plot.set_yticklabels(['{:,}'.format(int(x/1000)) + 'k' for x in ax.get_yticks()])\n"
     ]
    },
    {
     "data": {
      "image/png": "[encoded data removed]",
      "text/plain": [
       "<Figure size 1200x800 with 1 Axes>"
      ]
     },
     "metadata": {},
     "output_type": "display_data"
    }
   ],
   "source": [
    "# Plotting the sum of ethnic groups by island\n",
    "pop_plot = grouped_by_island.plot(kind='bar', stacked=True, figsize=(12, 8), title='Sum of Ethnic Groups by Island')\n",
    "plt.xlabel('Island')\n",
    "plt.ylabel('Population (in thousands)')\n",
    "plt.xticks(rotation=0)\n",
    "\n",
    "# Change y-axis to thousands\n",
    "pop_plot.set_yticklabels(['{:,}'.format(int(x/1000)) + 'k' for x in ax.get_yticks()])\n",
    "\n",
    "\n",
    "plt.show()"
   ]
  },
  {
   "cell_type": "code",
   "execution_count": null,
   "metadata": {},
   "outputs": [],
   "source": []
  }
 ],
 "metadata": {
  "kernelspec": {
   "display_name": "base",
   "language": "python",
   "name": "python3"
  },
  "language_info": {
   "codemirror_mode": {
    "name": "ipython",
    "version": 3
   },
   "file_extension": ".py",
   "mimetype": "text/x-python",
   "name": "python",
   "nbconvert_exporter": "python",
   "pygments_lexer": "ipython3",
   "version": "3.12.4"
  }
 },
 "nbformat": 4,
 "nbformat_minor": 2
}
