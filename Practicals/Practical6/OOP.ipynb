{
 "cells": [
  {
   "cell_type": "code",
   "execution_count": 1,
   "metadata": {},
   "outputs": [],
   "source": [
    "import pandas as pd\n",
    "import matplotlib.pyplot as plt\n",
    "from scipy import stats"
   ]
  },
  {
   "cell_type": "code",
   "execution_count": 3,
   "metadata": {},
   "outputs": [],
   "source": [
    "traffic_df = pd.read_csv(\"traffic.csv\")"
   ]
  },
  {
   "cell_type": "code",
   "execution_count": null,
   "metadata": {},
   "outputs": [],
   "source": [
    "traffic_df"
   ]
  },
  {
   "cell_type": "code",
   "execution_count": 2,
   "metadata": {},
   "outputs": [],
   "source": [
    "class Data:\n",
    "    def __init__(self, file_path):\n",
    "        self.data = pd.read_csv(file_path)\n",
    "\n",
    "    def filter_by_date(self, start_date, end_date):\n",
    "        \"\"\"\n",
    "        Filters data by the given date range.\n",
    "        \"\"\"\n",
    "        self.data['dt_date'] = pd.to_datetime(self.data['dt_date'])\n",
    "        self.data = self.data[(self.data['dt_date'] >= start_date) & \n",
    "                              (self.data['dt_date'] <= end_date)]\n",
    "\n",
    "    def get_data(self):\n",
    "        return self.data\n",
    "\n",
    "class TrafficData(Data):\n",
    "    def __init__(self, file_path):\n",
    "        super().__init__(file_path)\n",
    "\n",
    "# Subclass for NO2 Data\n",
    "class NO2Data(Data):\n",
    "    def __init__(self, file_path):\n",
    "        super().__init__(file_path)"
   ]
  },
  {
   "cell_type": "code",
   "execution_count": 3,
   "metadata": {},
   "outputs": [],
   "source": [
    "def calculate_summary_stats(data, group_column, value_column):\n",
    "    \"\"\"\n",
    "    Calculate the mean and standard deviation for each group (e.g., 2022 and 2023).\n",
    "    \"\"\"\n",
    "    summary_stats = data.groupby(group_column)[value_column].agg(['mean', 'std', 'count']).reset_index()\n",
    "    return summary_stats\n",
    "\n",
    "# Function to perform a t-test (or Mann-Whitney U test if necessary)\n",
    "def compare_means(data, group_column, value_column):\n",
    "    \"\"\"\n",
    "    Perform both a t-test and a Mann-Whitney U test to compare means between two groups.\n",
    "    \"\"\"\n",
    "    # Extract data for each group (2022 and 2023)\n",
    "    group_2022 = data[data[group_column] == 2022][value_column]\n",
    "    group_2023 = data[data[group_column] == 2023][value_column]\n",
    "\n",
    "    # Perform t-test assuming normal distribution\n",
    "    t_stat, t_p_value = stats.ttest_ind(group_2022, group_2023, equal_var=False)\n",
    "\n",
    "    # Perform Mann-Whitney U test (for non-parametric comparison)\n",
    "    u_stat, u_p_value = stats.mannwhitneyu(group_2022, group_2023)\n",
    "\n",
    "    # Return both test results as a dictionary\n",
    "    return {\n",
    "        't-test': {'t-statistic': t_stat, 'p-value': t_p_value},\n",
    "        'u-test': {'u-statistic': u_stat, 'p-value': u_p_value}\n",
    "    }\n",
    "\n",
    "\n",
    "# Function to create boxplots with summary statistics\n",
    "def create_boxplot_with_stats(data, x_column, y_column, title):\n",
    "    plt.figure(figsize=(10, 6))\n",
    "    sns.boxplot(x=data[x_column], y=data[y_column])\n",
    "    plt.title(title)\n",
    "    plt.xticks(rotation=45)\n",
    "\n",
    "    # Add mean values to the plot\n",
    "    means = data.groupby(x_column)[y_column].mean().reset_index()\n",
    "    for i, mean_value in enumerate(means[y_column]):\n",
    "        plt.text(i, mean_value, f'{mean_value:.2f}', color='black', ha=\"center\")\n",
    "\n",
    "    plt.tight_layout()\n",
    "    plt.show()"
   ]
  },
  {
   "cell_type": "code",
   "execution_count": 4,
   "metadata": {},
   "outputs": [],
   "source": [
    "traffic = TrafficData(\"traffic.csv\")\n",
    "traffic.filter_by_date(\"2022-08-01\", \"2023-09-30\")\n",
    "filtered_traffic = traffic.get_data()"
   ]
  },
  {
   "cell_type": "code",
   "execution_count": null,
   "metadata": {},
   "outputs": [],
   "source": [
    "filtered_traffic"
   ]
  },
  {
   "cell_type": "code",
   "execution_count": 6,
   "metadata": {},
   "outputs": [],
   "source": [
    "no2 = NO2Data(\"no2.csv\")\n",
    "no2.filter_by_date(\"2022-08-01\", \"2023-09-30\")\n",
    "filtered_no2 = no2.get_data()"
   ]
  },
  {
   "cell_type": "code",
   "execution_count": null,
   "metadata": {},
   "outputs": [],
   "source": [
    "filtered_no2"
   ]
  },
  {
   "cell_type": "code",
   "execution_count": null,
   "metadata": {},
   "outputs": [],
   "source": [
    "traffic_stats = calculate_summary_stats(filtered_traffic, 'dt_year', 'total_flow')\n",
    "print(\"Traffic Flow Summary Statistics:\")\n",
    "print(traffic_stats)"
   ]
  },
  {
   "cell_type": "code",
   "execution_count": null,
   "metadata": {},
   "outputs": [],
   "source": [
    "traffic_test_results = compare_means(filtered_traffic, 'dt_year', 'total_flow')\n",
    "print(\"Traffic Flow Comparison Results:\")\n",
    "print(\"T-test: t-stat = {t-statistic:.3f}, p-value = {p-value:.3f}\".format(**traffic_test_results['t-test']))\n",
    "print(\"U-test: u-stat = {u-statistic:.3f}, p-value = {p-value:.3f}\".format(**traffic_test_results['u-test']))"
   ]
  },
  {
   "cell_type": "code",
   "execution_count": null,
   "metadata": {},
   "outputs": [],
   "source": [
    "print(\"Filtered NO2 Data for 2022:\")\n",
    "print(filtered_no2[filtered_no2['dt_year'] == 2022].head())\n",
    "print(\"Filtered NO2 Data for 2023:\")\n",
    "print(filtered_no2[filtered_no2['dt_year'] == 2023].head())\n",
    "\n",
    "print(\"Summary statistics for NO2 data by year:\")\n",
    "print(filtered_no2.groupby('dt_year')['no2_daily'].describe())\n"
   ]
  },
  {
   "cell_type": "code",
   "execution_count": 58,
   "metadata": {},
   "outputs": [],
   "source": [
    "filtered_no2 = filtered_no2.dropna(subset=['no2_daily'])\n"
   ]
  },
  {
   "cell_type": "code",
   "execution_count": 59,
   "metadata": {},
   "outputs": [],
   "source": [
    "def compare_means(data, group_column, value_column):\n",
    "    \"\"\"\n",
    "    Perform both a t-test and a Mann-Whitney U test to compare means between two groups.\n",
    "    \"\"\"\n",
    "    # Extract data for each group (2022 and 2023)\n",
    "    group_2022 = data[data[group_column] == 2022][value_column]\n",
    "    group_2023 = data[data[group_column] == 2023][value_column]\n",
    "\n",
    "    # Check if the groups are empty or have no variance\n",
    "    if group_2022.empty or group_2023.empty:\n",
    "        return {\n",
    "            't-test': {'t-statistic': float('nan'), 'p-value': float('nan')},\n",
    "            'u-test': {'u-statistic': float('nan'), 'p-value': float('nan')}\n",
    "        }\n",
    "\n",
    "    if group_2022.var() == 0 or group_2023.var() == 0:\n",
    "        print(f\"Warning: One of the groups has no variance. Skipping t-test and U-test.\")\n",
    "        return {\n",
    "            't-test': {'t-statistic': float('nan'), 'p-value': float('nan')},\n",
    "            'u-test': {'u-statistic': float('nan'), 'p-value': float('nan')}\n",
    "        }\n",
    "\n",
    "    # Perform t-test assuming normal distribution\n",
    "    t_stat, t_p_value = stats.ttest_ind(group_2022, group_2023, equal_var=False)\n",
    "\n",
    "    # Perform Mann-Whitney U test (for non-parametric comparison)\n",
    "    u_stat, u_p_value = stats.mannwhitneyu(group_2022, group_2023)\n",
    "\n",
    "    # Return both test results as a dictionary\n",
    "    return {\n",
    "        't-test': {'t-statistic': t_stat, 'p-value': t_p_value},\n",
    "        'u-test': {'u-statistic': u_stat, 'p-value': u_p_value}\n",
    "    }\n"
   ]
  },
  {
   "cell_type": "code",
   "execution_count": null,
   "metadata": {},
   "outputs": [],
   "source": [
    "# Perform t-test and u-test for NO2 Data\n",
    "no2_test_results = compare_means(filtered_no2, 'dt_year', 'no2_daily')\n",
    "print(\"\\nNO2 Levels Comparison Results:\")\n",
    "print(\"T-test: t-stat = {t-statistic:.3f}, p-value = {p-value:.3f}\".format(**no2_test_results['t-test']))\n",
    "print(\"U-test: u-stat = {u-statistic:.3f}, p-value = {p-value:.3f}\".format(**no2_test_results['u-test']))\n"
   ]
  },
  {
   "cell_type": "code",
   "execution_count": null,
   "metadata": {},
   "outputs": [],
   "source": [
    "sns.boxplot(x='dt_year', y='no2_daily', data=filtered_no2)\n",
    "plt.title('Boxplot of NO2 Levels by Year')\n",
    "plt.show()\n"
   ]
  },
  {
   "cell_type": "code",
   "execution_count": 10,
   "metadata": {},
   "outputs": [],
   "source": [
    "traffic_df = pd.read_csv(\"traffic.csv\")"
   ]
  },
  {
   "cell_type": "code",
   "execution_count": null,
   "metadata": {},
   "outputs": [],
   "source": [
    "traffic_df.info()"
   ]
  },
  {
   "cell_type": "code",
   "execution_count": 1,
   "metadata": {},
   "outputs": [],
   "source": [
    "import pandas as pd\n",
    "import seaborn as sns\n",
    "import matplotlib.pyplot as plt\n",
    "from scipy import stats\n",
    "\n",
    "# Base Class for Shared Functionality\n",
    "class Data:\n",
    "    \"\"\"\n",
    "    Encapsulation: \n",
    "    The Data class encapsulates the loading, filtering, and getting of data. \n",
    "    It hides the internal details of how data is loaded and processed.\n",
    "    \n",
    "    Inheritance: \n",
    "    This is a base class that provides shared methods for subclasses like TrafficData and NO2Data.\n",
    "    \"\"\"\n",
    "    def __init__(self, file_path):\n",
    "        self.data = pd.read_csv(file_path)\n",
    "\n",
    "    def filter_by_date(self, start_date, end_date):\n",
    "        \"\"\"\n",
    "        Abstraction:\n",
    "        This method provides a simple interface for filtering data by date, \n",
    "        without exposing the underlying implementation details.\n",
    "        \"\"\"\n",
    "        self.data['dt_date'] = pd.to_datetime(self.data['dt_date'])\n",
    "        self.data = self.data[(self.data['dt_date'] >= start_date) & \n",
    "                              (self.data['dt_date'] <= end_date)]\n",
    "\n",
    "    def get_data(self):\n",
    "        return self.data\n",
    "\n",
    "# Subclass for Traffic Data\n",
    "class TrafficData(Data):\n",
    "    \"\"\"\n",
    "    Inheritance:\n",
    "    This class inherits from the Data class and uses its methods. \n",
    "    It can be extended with traffic-specific methods if necessary.\n",
    "    \"\"\"\n",
    "    def __init__(self, file_path):\n",
    "        super().__init__(file_path)  # Inheritance from the base class Data\n",
    "\n",
    "# Subclass for NO2 Data\n",
    "class NO2Data(Data):\n",
    "    \"\"\"\n",
    "    Inheritance:\n",
    "    This class inherits from Data and could be extended with NO2-specific \n",
    "    functionality like normalization or statistical analysis.\n",
    "\n",
    "    Polymorphism (potential):\n",
    "    You could override or add specific statistical methods here to create polymorphic behavior.\n",
    "    \"\"\"\n",
    "    def __init__(self, file_path):\n",
    "        super().__init__(file_path)  # Inheritance from the base class Data\n",
    "\n",
    "# Function to calculate summary statistics (mean and std)\n",
    "def calculate_summary_stats(data, group_column, value_column):\n",
    "    \"\"\"\n",
    "    Abstraction:\n",
    "    This function abstracts away the complex logic of calculating summary statistics \n",
    "    and provides a simple interface for getting mean and standard deviation.\n",
    "    \"\"\"\n",
    "    summary_stats = data.groupby(group_column)[value_column].agg(['mean', 'std', 'count']).reset_index()\n",
    "    return summary_stats\n",
    "\n",
    "def check_normality(group):\n",
    "    \"\"\"\n",
    "    Checks if the data follows a normal distribution using the Shapiro-Wilk test.\n",
    "    Returns True if the data is normally distributed, False otherwise.\n",
    "    \"\"\"\n",
    "    stat, p_value = stats.shapiro(group)\n",
    "    return p_value > 0.05  # If p-value > 0.05, assume normal distribution\n",
    "\n",
    "def compare_means(data, group_column, value_column):\n",
    "    \"\"\"\n",
    "    Perform both a t-test and a Mann-Whitney U test to compare means between two groups.\n",
    "    Chooses the appropriate test based on the normality of the data.\n",
    "    \"\"\"\n",
    "    # Extract data for each group (2022 and 2023)\n",
    "    group_2022 = data[data[group_column] == 2022][value_column]\n",
    "    group_2023 = data[data[group_column] == 2023][value_column]\n",
    "\n",
    "    # Check if the groups are empty or have no variance\n",
    "    if group_2022.empty or group_2023.empty:\n",
    "        return {\n",
    "            'test': 'None',\n",
    "            'result': {'statistic': float('nan'), 'p-value': float('nan')}\n",
    "        }\n",
    "\n",
    "    if group_2022.var() == 0 or group_2023.var() == 0:\n",
    "        print(f\"Warning: One of the groups has no variance. Skipping tests.\")\n",
    "        return {\n",
    "            'test': 'None',\n",
    "            'result': {'statistic': float('nan'), 'p-value': float('nan')}\n",
    "        }\n",
    "\n",
    "    # Check if both groups are normally distributed\n",
    "    normal_2022 = check_normality(group_2022)\n",
    "    normal_2023 = check_normality(group_2023)\n",
    "\n",
    "    if normal_2022 and normal_2023:\n",
    "        # Perform t-test assuming normal distribution\n",
    "        t_stat, t_p_value = stats.ttest_ind(group_2022, group_2023, equal_var=False)\n",
    "        return {\n",
    "            'test': 't-test',\n",
    "            'result': {'statistic': t_stat, 'p-value': t_p_value}\n",
    "        }\n",
    "    else:\n",
    "        # Perform Mann-Whitney U test (non-parametric)\n",
    "        u_stat, u_p_value = stats.mannwhitneyu(group_2022, group_2023)\n",
    "        return {\n",
    "            'test': 'u-test',\n",
    "            'result': {'statistic': u_stat, 'p-value': u_p_value}\n",
    "        }\n",
    "\n",
    "\n",
    "# Function to create boxplots with summary statistics\n",
    "def create_boxplot_with_stats(data, x_column, y_column, title):\n",
    "    \"\"\"\n",
    "    Abstraction:\n",
    "    This function abstracts the logic for plotting the boxplots with statistics, \n",
    "    hiding the complexity from the user.\n",
    "    \"\"\"\n",
    "    plt.figure(figsize=(10, 6))\n",
    "    sns.boxplot(x=data[x_column], y=data[y_column])\n",
    "    plt.title(title)\n",
    "    plt.xticks(rotation=45)\n",
    "\n",
    "    # Add mean values to the plot\n",
    "    means = data.groupby(x_column)[y_column].mean().reset_index()\n",
    "    for i, mean_value in enumerate(means[y_column]):\n",
    "        plt.text(i, mean_value, f'{mean_value:.2f}', color='black', ha=\"center\")\n",
    "\n",
    "    plt.tight_layout()\n",
    "    plt.show()\n",
    "\n"
   ]
  },
  {
   "cell_type": "code",
   "execution_count": 2,
   "metadata": {},
   "outputs": [],
   "source": [
    "def run_shapiro_test(data, group_column, value_column):\n",
    "    group_2022 = data[data[group_column] == 2022][value_column]\n",
    "    group_2023 = data[data[group_column] == 2023][value_column]\n",
    "\n",
    "    print(\"Shapiro-Wilk Test for Normality:\")\n",
    "\n",
    "    # Shapiro-Wilk test for 2022 data\n",
    "    stat_2022, p_value_2022 = stats.shapiro(group_2022)\n",
    "    print(f\"2022 {value_column}: stat = {stat_2022:.3f}, p-value = {p_value_2022:.3f}\")\n",
    "    if p_value_2022 > 0.05:\n",
    "        print(\"2022 data looks normally distributed (fail to reject H0)\")\n",
    "    else:\n",
    "        print(\"2022 data does not look normally distributed (reject H0)\")\n",
    "\n",
    "    # Shapiro-Wilk test for 2023 data\n",
    "    stat_2023, p_value_2023 = stats.shapiro(group_2023)\n",
    "    print(f\"2023 {value_column}: stat = {stat_2023:.3f}, p-value = {p_value_2023:.3f}\")\n",
    "    if p_value_2023 > 0.05:\n",
    "        print(\"2023 data looks normally distributed (fail to reject H0)\")\n",
    "    else:\n",
    "        print(\"2023 data does not look normally distributed (reject H0)\")\n"
   ]
  },
  {
   "cell_type": "code",
   "execution_count": 4,
   "metadata": {},
   "outputs": [],
   "source": [
    "# Load Traffic Data\n",
    "traffic = TrafficData(\"traffic.csv\")\n",
    "traffic.filter_by_date(\"2022-08-01\", \"2023-09-30\")\n",
    "filtered_traffic = traffic.get_data()\n",
    "\n",
    "# Load NO2 Data\n",
    "no2 = NO2Data(\"no2.csv\")\n",
    "no2.filter_by_date(\"2022-08-01\", \"2023-09-30\")\n",
    "filtered_no2 = no2.get_data()\n",
    "filtered_no2 = filtered_no2.dropna(subset=['no2_daily'])"
   ]
  },
  {
   "cell_type": "code",
   "execution_count": null,
   "metadata": {},
   "outputs": [],
   "source": [
    "if traffic_test_results['test'] != 'None':\n",
    "    print(f\"Test used: {traffic_test_results['test']}\")\n",
    "    print(f\"Statistic: {traffic_test_results['result']['statistic']:.3f}, P-value: {traffic_test_results['result']['p-value']:.3f}\")"
   ]
  },
  {
   "cell_type": "code",
   "execution_count": null,
   "metadata": {},
   "outputs": [],
   "source": [
    "# Perform test for Traffic Data (automatic choice of t-test or u-test)\n",
    "traffic_test_results = compare_means(filtered_traffic, 'dt_year', 'total_flow')\n",
    "print(\"Traffic Flow Comparison Results:\")\n",
    "print(f\"Test used: {traffic_test_results['test']}\")\n",
    "print(f\"Statistic: {traffic_test_results['result']['statistic']:.3f}, P-value: {traffic_test_results['result']['p-value']:.3f}\")\n"
   ]
  },
  {
   "cell_type": "code",
   "execution_count": 11,
   "metadata": {},
   "outputs": [
    {
     "data": {
      "text/plain": [
       "{'test': 'u-test',\n",
       " 'result': {'statistic': 32294.5, 'p-value': 0.10485968634854848}}"
      ]
     },
     "execution_count": 11,
     "metadata": {},
     "output_type": "execute_result"
    }
   ],
   "source": [
    "traffic_test_results"
   ]
  },
  {
   "cell_type": "code",
   "execution_count": 14,
   "metadata": {},
   "outputs": [
    {
     "name": "stdout",
     "output_type": "stream",
     "text": [
      "{32294.5}\n"
     ]
    }
   ],
   "source": [
    "print({traffic_test_results['result']['statistic']})"
   ]
  },
  {
   "cell_type": "code",
   "execution_count": 12,
   "metadata": {},
   "outputs": [
    {
     "name": "stdout",
     "output_type": "stream",
     "text": [
      "Statistic: 32294.500, P-value: 0.105\n"
     ]
    }
   ],
   "source": [
    "print(f\"Statistic: {traffic_test_results['result']['statistic']:.3f}, P-value: {traffic_test_results['result']['p-value']:.3f}\")"
   ]
  },
  {
   "cell_type": "code",
   "execution_count": null,
   "metadata": {},
   "outputs": [],
   "source": [
    "# Perform test for NO2 Data (automatic choice of t-test or u-test)\n",
    "no2_test_results = compare_means(filtered_no2, 'dt_year', 'no2_daily')\n",
    "print(\"\\nNO2 Levels Comparison Results:\")\n",
    "print(f\"Test used: {no2_test_results['test']}\")\n",
    "print(f\"Statistic: {no2_test_results['result']['statistic']:.3f}, P-value: {no2_test_results['result']['p-value']:.3f}\")\n"
   ]
  },
  {
   "cell_type": "code",
   "execution_count": null,
   "metadata": {},
   "outputs": [],
   "source": [
    "# Generate Boxplot for Traffic Data with Mean Values\n",
    "create_boxplot_with_stats(filtered_traffic, 'dt_year', 'total_flow', 'Traffic Flow Comparison 2022 vs 2023')\n",
    "\n",
    "# Generate Boxplot for NO2 Data with Mean Values\n",
    "create_boxplot_with_stats(filtered_no2, 'dt_year', 'no2_daily', 'NO2 Levels Comparison 2022 vs 2023')\n",
    "\n"
   ]
  },
  {
   "cell_type": "code",
   "execution_count": null,
   "metadata": {},
   "outputs": [],
   "source": [
    "run_shapiro_test(filtered_no2, 'dt_year', 'no2_daily')"
   ]
  },
  {
   "cell_type": "code",
   "execution_count": null,
   "metadata": {},
   "outputs": [],
   "source": [
    "run_shapiro_test(filtered_traffic, 'dt_year', 'total_flow')"
   ]
  }
 ],
 "metadata": {
  "kernelspec": {
   "display_name": "Python 3",
   "language": "python",
   "name": "python3"
  },
  "language_info": {
   "codemirror_mode": {
    "name": "ipython",
    "version": 3
   },
   "file_extension": ".py",
   "mimetype": "text/x-python",
   "name": "python",
   "nbconvert_exporter": "python",
   "pygments_lexer": "ipython3",
   "version": "3.12.3"
  }
 },
 "nbformat": 4,
 "nbformat_minor": 2
}
