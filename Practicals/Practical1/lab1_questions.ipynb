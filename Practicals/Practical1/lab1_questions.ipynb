{
 "cells": [
  {
   "cell_type": "markdown",
   "id": "1ab0c66b",
   "metadata": {},
   "source": [
    "# Lab1: Lists and Arrays"
   ]
  },
  {
   "cell_type": "markdown",
   "id": "290faa51",
   "metadata": {},
   "source": [
    "## Objectives\n",
    "1. Review the understanding of basic Python programming concepts.\n",
    "2. Test basic Python programming skills with various examples."
   ]
  },
  {
   "cell_type": "markdown",
   "id": "2e13a7a9",
   "metadata": {},
   "source": [
    "## Part 1: Python Basics Recap"
   ]
  },
  {
   "cell_type": "markdown",
   "id": "e04ecbbe",
   "metadata": {},
   "source": [
    "### Step 1: Setting Up the Environment\n",
    "* Open Jupyter Lab/Notebook or Google Colab."
   ]
  },
  {
   "cell_type": "markdown",
   "id": "5c3915ff",
   "metadata": {},
   "source": [
    "### Step 2: Simple Python Maths\n",
    "Perform basic arithmetic operations in Python."
   ]
  },
  {
   "cell_type": "code",
   "execution_count": null,
   "id": "02d22db1",
   "metadata": {},
   "outputs": [],
   "source": [
    "print(1 + 1)\n",
    "print(45 * 7)\n",
    "print(2**4) # again white spacing is important here\n",
    "print(15 % 7)"
   ]
  },
  {
   "cell_type": "markdown",
   "id": "8b7ac825",
   "metadata": {},
   "source": [
    "### Step 3: Working with Strings\n",
    "Practice string manipulations."
   ]
  },
  {
   "cell_type": "code",
   "execution_count": null,
   "id": "2d4f4769",
   "metadata": {},
   "outputs": [],
   "source": [
    "my_string = \"Hello, GIS!\"\n",
    "# Convert the string to uppercase\n",
    "print(my_string.______)\n",
    "# Convert the string to lowercase\n",
    "print(my_string.______)\n",
    "# Get the length of the string\n",
    "print(len(_________))"
   ]
  },
  {
   "cell_type": "markdown",
   "id": "83905b99",
   "metadata": {},
   "source": [
    "### Step 4: Variables and Data Types"
   ]
  },
  {
   "cell_type": "code",
   "execution_count": null,
   "id": "733b886a",
   "metadata": {},
   "outputs": [],
   "source": [
    "my_int = 10\n",
    "my_float = 3.14\n",
    "my_str = \"Python\"\n",
    "my_bool = True\n",
    "# Print the types of the variables\n",
    "print(type(________), type(________), type(________), type(________))"
   ]
  },
  {
   "cell_type": "code",
   "execution_count": null,
   "id": "7c83262c",
   "metadata": {},
   "outputs": [],
   "source": [
    "cities = [\"Auckland\", \"Wellington\", \"Christchurch\"]\n",
    "print(cities)\n",
    "# Add a new city to the list\n",
    "cities.________(\"Hamilton\")\n",
    "print(________)\n",
    "# Change the second city to \"Dunedin\"\n",
    "cities[____] = \"Dunedin\"\n",
    "print(________)"
   ]
  },
  {
   "cell_type": "markdown",
   "id": "7f9a53f2",
   "metadata": {},
   "source": [
    "## Part 2: Lists"
   ]
  },
  {
   "cell_type": "markdown",
   "id": "6942dc28",
   "metadata": {},
   "source": [
    "### Creating and Modifying Lists"
   ]
  },
  {
   "cell_type": "code",
   "execution_count": null,
   "id": "12c41815",
   "metadata": {},
   "outputs": [],
   "source": [
    "mylist1 = [1, 2, 3, 4, 5, 6, 7, 8, 9, 10]\n",
    "mylist2 = [\"Auckland\", \"Wellington\", \"Christchurch\"]\n",
    "mylist3 = [1, 2, 3.5, \"string\", True, 6, 7]\n",
    "\n",
    "print(type(mylist1))\n",
    "\n",
    "print(mylist1)\n",
    "print(mylist2)\n",
    "print(mylist3)"
   ]
  },
  {
   "cell_type": "markdown",
   "id": "9696e6f4",
   "metadata": {},
   "source": [
    "### Length"
   ]
  },
  {
   "cell_type": "code",
   "execution_count": null,
   "id": "b859b661",
   "metadata": {},
   "outputs": [],
   "source": [
    "mylist = [1, 2, 3, 4, 5, 6, 7, 8, 9, 10]\n",
    "\n",
    "mylist_len = len(mylist)\n",
    "print(mylist_len)"
   ]
  },
  {
   "cell_type": "markdown",
   "id": "503fa0b4",
   "metadata": {},
   "source": [
    "### Indexing"
   ]
  },
  {
   "cell_type": "code",
   "execution_count": null,
   "id": "b802f141",
   "metadata": {},
   "outputs": [],
   "source": [
    "mylist = [1, 2, 3, 4, 5, 6, 7, 8, 9, 10]\n",
    "\n",
    "print(mylist[0])\n",
    "print(mylist[3])\n",
    "\n",
    "print('\\n---------------------\\n')\n",
    "\n",
    "print(mylist[-1])\n",
    "print(mylist[-4])\n",
    "\n",
    "print('\\n---------------------\\n')\n",
    "\n",
    "print(mylist[5:7])\n",
    "print(mylist[4:])"
   ]
  },
  {
   "cell_type": "markdown",
   "id": "8daf1178",
   "metadata": {},
   "source": [
    "### List manipulation using append and remove"
   ]
  },
  {
   "cell_type": "code",
   "execution_count": null,
   "id": "3a3f51a5",
   "metadata": {},
   "outputs": [],
   "source": [
    "mylist = [1, 2, 3]\n",
    "print(mylist)\n",
    "\n",
    "print('\\n---------------------\\n')\n",
    "\n",
    "mylist.append('new')\n",
    "print(mylist)\n",
    "mylist.remove('new')\n",
    "print(mylist)\n",
    "\n",
    "print('\\n---------------------\\n')\n",
    "\n",
    "mylist.insert(1, 'new')\n",
    "print(mylist)\n",
    "mylist.pop(1)\n",
    "print(mylist)"
   ]
  },
  {
   "cell_type": "markdown",
   "id": "69a7390c",
   "metadata": {},
   "source": [
    "### Reversing and Sorting"
   ]
  },
  {
   "cell_type": "code",
   "execution_count": null,
   "id": "a732e40c",
   "metadata": {},
   "outputs": [],
   "source": [
    "mylist = [18, 54, 1, 47]\n",
    "\n",
    "mylist.sort()\n",
    "print(mylist)\n",
    "\n",
    "print('\\n---------------------\\n')\n",
    "\n",
    "mylist.reverse()\n",
    "print(mylist)"
   ]
  },
  {
   "cell_type": "markdown",
   "id": "fac5e11c",
   "metadata": {},
   "source": [
    "### Exercise\n",
    "\n",
    "Here is a list of ASEAN countries:\n",
    "\n",
    "\n",
    "```python\n",
    "asean_countries = [\"Brunei\", \"Cambodia\", \"Indonesia\", \"Laos\", \"Malaysia\"]\n",
    "```\n",
    "\n",
    "1. Add the following countries to the list: \"Myanmar\", \"Philippines\", \"Singapore\", \"Thailand\", \"Vietnam\".\n",
    "2. Sort the updated list in alphabetical order.\n",
    "3. Print the final sorted list.\n"
   ]
  },
  {
   "cell_type": "markdown",
   "id": "0bf95eb9",
   "metadata": {},
   "source": [
    "## Part 3: Tuples"
   ]
  },
  {
   "cell_type": "markdown",
   "id": "fdd8e3bb",
   "metadata": {},
   "source": [
    "Tuples are similar to lists but they are immutable which means they can't change after they have created\n",
    "\n",
    "And instead of square brackets in Lists, Tuples use normal brackets"
   ]
  },
  {
   "cell_type": "code",
   "execution_count": null,
   "id": "053aa855",
   "metadata": {},
   "outputs": [],
   "source": [
    "mytuple1 = (1, 2, 3, 4, 5, 6, 7, 8, 9, 10)\n",
    "mytuple2 = (\"Laos\", \"Thailand\", \"Cambodia\")\n",
    "mytuple3 = (1, 2, 3.5, \"string\", True, 6, 7)\n",
    "\n",
    "print(type(mylist1))\n",
    "\n",
    "print(mytuple1)\n",
    "print(mytuple2)\n",
    "print(mytuple3)"
   ]
  },
  {
   "cell_type": "markdown",
   "id": "a5118bca",
   "metadata": {},
   "source": [
    "### Exercise \n",
    "\n",
    "Perform same operations as Lists for Tuples also:\n",
    "\n",
    "    - getting length\n",
    "    - accessing the element\n",
    "    - editing the tuple\n",
    "    - reversing and sorting\n",
    "    - check element available or not"
   ]
  },
  {
   "cell_type": "markdown",
   "id": "fc9e3c80",
   "metadata": {},
   "source": [
    "### Good news! \n",
    "\n",
    "Lists can be converted to a tuples and tuples can be converted to lists"
   ]
  },
  {
   "cell_type": "code",
   "execution_count": null,
   "id": "81b14861",
   "metadata": {},
   "outputs": [],
   "source": [
    "a = [1, 2, 3, 4, 5]\n",
    "b = tuple(a)\n",
    "print(b)\n",
    "\n",
    "print('\\n---------------------\\n')\n",
    "\n",
    "a = (1, 2, 3, 4, 5)\n",
    "b = list(a)\n",
    "print(b)"
   ]
  },
  {
   "cell_type": "markdown",
   "id": "ca107c66",
   "metadata": {},
   "source": [
    "## Part 4: Dictionaries"
   ]
  },
  {
   "cell_type": "markdown",
   "id": "98412316",
   "metadata": {},
   "source": [
    "Dictionaries are used to store data values in `key:value` pairs.\n",
    "\n",
    "A dictionary is a collection which is ordered*, changeable and do not allow duplicates."
   ]
  },
  {
   "cell_type": "code",
   "execution_count": null,
   "id": "ab8632f8",
   "metadata": {},
   "outputs": [],
   "source": [
    "thisdict = {\n",
    "  \"brand\": \"Tesla\",\n",
    "  \"model\": \"Y\",\n",
    "  \"year\": 2025\n",
    "}"
   ]
  },
  {
   "cell_type": "code",
   "execution_count": null,
   "id": "d7df2204",
   "metadata": {},
   "outputs": [],
   "source": [
    "print(thisdict)"
   ]
  },
  {
   "cell_type": "code",
   "execution_count": null,
   "id": "14e02b8b",
   "metadata": {},
   "outputs": [],
   "source": [
    "print(type(thisdict))"
   ]
  },
  {
   "cell_type": "markdown",
   "id": "e5478857",
   "metadata": {},
   "source": [
    "### Dictionary Items\n",
    "\n",
    "Dictionary items are ordered, changeable, and do not allow duplicates.\n",
    "\n",
    "Dictionary items are presented in key:value pairs, and can be referred to by using the key name."
   ]
  },
  {
   "cell_type": "code",
   "execution_count": 7,
   "id": "5a2c5fc0",
   "metadata": {},
   "outputs": [
    {
     "name": "stdout",
     "output_type": "stream",
     "text": [
      "dict_keys(['brand', 'model', 'year'])\n",
      "dict_values(['Tesla', 'Y', 2025])\n"
     ]
    }
   ],
   "source": [
    "thisdict = {\n",
    "  \"brand\": \"Tesla\",\n",
    "  \"model\": \"Y\",\n",
    "  \"year\": 2025\n",
    "}\n",
    "\n",
    "print(thisdict.keys())\n",
    "print(thisdict.values())"
   ]
  },
  {
   "cell_type": "code",
   "execution_count": null,
   "id": "da042a00",
   "metadata": {},
   "outputs": [],
   "source": [
    "thisdict = {\n",
    "  \"brand\": \"Tesla\",\n",
    "  \"model\": \"Y\",\n",
    "  \"year\": 2025\n",
    "}\n",
    "print(thisdict[\"brand\"])"
   ]
  },
  {
   "cell_type": "markdown",
   "id": "6d1c88a9",
   "metadata": {},
   "source": [
    "* Changeable: Dictionaries are changeable, meaning that we can change, add or remove items after the dictionary has been created."
   ]
  },
  {
   "cell_type": "markdown",
   "id": "88732379",
   "metadata": {},
   "source": [
    "### Duplicates Not Allowed\n",
    "\n",
    "Dictionaries cannot have two items with the same key:"
   ]
  },
  {
   "cell_type": "code",
   "execution_count": null,
   "id": "065aa78e",
   "metadata": {},
   "outputs": [],
   "source": [
    "thisdict1 = {\n",
    "  \"brand\": \"Tesla\",\n",
    "  \"model\": \"Y\",\n",
    "  \"year\": 2024,\n",
    "  \"year\": 2025\n",
    "}"
   ]
  },
  {
   "cell_type": "code",
   "execution_count": null,
   "id": "8aca9846",
   "metadata": {},
   "outputs": [],
   "source": [
    "print(thisdict1)"
   ]
  },
  {
   "cell_type": "markdown",
   "id": "97b84119",
   "metadata": {},
   "source": [
    "### Dictionary Length\n",
    "\n",
    "To determine how many items a dictionary has, use the `len()` function:"
   ]
  },
  {
   "cell_type": "code",
   "execution_count": null,
   "id": "0cc1adbd",
   "metadata": {},
   "outputs": [],
   "source": [
    "print(len(thisdict))"
   ]
  },
  {
   "cell_type": "markdown",
   "id": "fc6ee326",
   "metadata": {},
   "source": [
    "### Dictionary Items - Data Types\n",
    "\n",
    "The values in dictionary items can be of any data type:"
   ]
  },
  {
   "cell_type": "code",
   "execution_count": null,
   "id": "edf0d34d",
   "metadata": {},
   "outputs": [],
   "source": [
    "thisdict2 = {\n",
    "  \"brand\": \"Tesla\",\n",
    "  \"model\": \"Y\",\n",
    "  \"electric\": True,\n",
    "  \"year\": 2025,\n",
    "  \"colors\": [\"red\", \"white\", \"blue\"]\n",
    "}"
   ]
  },
  {
   "cell_type": "markdown",
   "id": "8bca6c4f",
   "metadata": {},
   "source": [
    "### The `dict()` Constructor"
   ]
  },
  {
   "cell_type": "code",
   "execution_count": null,
   "id": "7b01c803",
   "metadata": {},
   "outputs": [],
   "source": [
    "thisdict3 = dict(name = \"John\", age = 36, country = \"Norway\")\n",
    "print(thisdict3)"
   ]
  },
  {
   "cell_type": "markdown",
   "id": "bf04f8a7",
   "metadata": {},
   "source": [
    "### Add items"
   ]
  },
  {
   "cell_type": "code",
   "execution_count": null,
   "id": "0b051470",
   "metadata": {},
   "outputs": [],
   "source": [
    "thisdict4 =\t{\n",
    "  \"brand\": \"Tesla\",\n",
    "  \"model\": \"Y\",\n",
    "  \"year\": 2024\n",
    "}\n",
    "thisdict4[\"color\"] = \"red\"\n",
    "print(thisdict4)\n"
   ]
  },
  {
   "cell_type": "markdown",
   "id": "f9a231bc",
   "metadata": {},
   "source": [
    "### Remove Items"
   ]
  },
  {
   "cell_type": "code",
   "execution_count": null,
   "id": "492f9327",
   "metadata": {},
   "outputs": [],
   "source": [
    "thisdict5 = {\n",
    "  \"brand\": \"Tesla\",\n",
    "  \"model\": \"Y\",\n",
    "  \"year\": 2024\n",
    "}\n",
    "thisdict5.pop(\"model\")\n",
    "print(thisdict5)"
   ]
  },
  {
   "cell_type": "code",
   "execution_count": null,
   "id": "5047b3bb",
   "metadata": {},
   "outputs": [],
   "source": [
    "thisdict6 = {\n",
    "  \"brand\": \"Tesla\",\n",
    "  \"model\": \"Y\",\n",
    "  \"year\": 2024\n",
    "}\n",
    "\n",
    "del thisdict6[\"model\"]\n",
    "print(thisdict6)"
   ]
  },
  {
   "cell_type": "markdown",
   "id": "f9c48d2d",
   "metadata": {},
   "source": [
    "### Exercise: Working with Dictionaries in Python\n",
    "\n",
    "A dictionary in Python stores data as key-value pairs. In this exercise, you will create a dictionary containing the estimated population of major cities in New Zealand.\n",
    "\n",
    "**Task 1: Create a Dictionary**\n",
    "Create a dictionary named nz_population where:\n",
    "\n",
    "The keys are city names: ```\"Auckland\", \"Wellington\", \"Hamilton\", \"Christchurch\", and \"Dunedin\"```\n",
    "\n",
    "\n",
    "The values are their estimated populations:\n",
    "\n",
    "* Auckland: 1,600,000\n",
    "* Wellington: 215,000\n",
    "* Hamilton: 180,000\n",
    "* Christchurch: 380,000\n",
    "* Dunedin: 130,000\n",
    "\n",
    "<br>\n",
    "\n",
    "**Task 2: Add a New City**\n",
    "\n",
    "Modify your dictionary by adding \"Tauranga\" with a population of 155,000.\n",
    "\n",
    "<br>\n",
    "\n",
    "**Task 3: Print All Cities and Their Populations**\n",
    "\n",
    "Use a for loop to print each city along with its population using the code below:\n",
    "\n",
    "```python\n",
    "for city, population in nz_population.items():\n",
    "    print(f\"City: {city}, Population: {population}\")\n",
    "```"
   ]
  },
  {
   "cell_type": "markdown",
   "id": "a1c40ad3",
   "metadata": {},
   "source": [
    "## Part 5: For Loops"
   ]
  },
  {
   "cell_type": "markdown",
   "id": "53c509e6",
   "metadata": {},
   "source": [
    "### Double loop"
   ]
  },
  {
   "cell_type": "code",
   "execution_count": null,
   "id": "8094668c",
   "metadata": {},
   "outputs": [],
   "source": [
    "list1 = [1, 2, 3]\n",
    "list2 = [4, 5, 6]\n",
    "pairwise_sum = []\n",
    "\n",
    "for i in list1:\n",
    "    for j in list2:\n",
    "        pairwise_sum.append(i + j)\n",
    "\n",
    "print(pairwise_sum)"
   ]
  },
  {
   "cell_type": "markdown",
   "id": "0d2b72bf",
   "metadata": {},
   "source": [
    "### Step 7: Combining Loops and Conditionals\n",
    "* Use loops and conditionals together"
   ]
  },
  {
   "cell_type": "code",
   "execution_count": null,
   "id": "5f298357",
   "metadata": {},
   "outputs": [],
   "source": [
    "temperatures = [20, 25, 30, 35]\n",
    "for temp in temperatures:\n",
    "    if temp > 28:\n",
    "        print(temp, \"is hot\")\n",
    "    else:\n",
    "        print(temp, \"is not hot\")"
   ]
  },
  {
   "cell_type": "markdown",
   "id": "f83b3a10",
   "metadata": {},
   "source": [
    "## Part 3: Practical Exercises"
   ]
  },
  {
   "cell_type": "markdown",
   "id": "b1a7c006",
   "metadata": {},
   "source": [
    "### Exercise 1: Calculating Mean Temperature\n",
    "* Calculate the mean temperature from a list"
   ]
  },
  {
   "cell_type": "code",
   "execution_count": null,
   "id": "d36f29cd",
   "metadata": {},
   "outputs": [],
   "source": [
    "temperatures = [20, 22, 24, 26, 28, 30]\n",
    "mean_temp = ______(temperatures) / ______(temperatures)\n",
    "print(\"Mean Temperature:\", ________)"
   ]
  },
  {
   "cell_type": "markdown",
   "id": "35cab447",
   "metadata": {},
   "source": [
    "### Exercise 2: Classifying Temperature using elif\n",
    "Modify the loop to include an elif condition to categorize temperatures as Cold, Warm, or Hot."
   ]
  },
  {
   "cell_type": "code",
   "execution_count": null,
   "id": "02948c1d",
   "metadata": {},
   "outputs": [],
   "source": [
    "temperatures = [10, 15, 20, 25, 30, 35, 40]\n",
    "\n",
    "for temp in temperatures:\n",
    "    if temp < 18:\n",
    "        print(____, \"is Cold\")\n",
    "    elif 18 <= temp < 28:\n",
    "        print(____, \"is Warm\")\n",
    "    else:\n",
    "        print(____, \"is Hot\")"
   ]
  }
 ],
 "metadata": {
  "kernelspec": {
   "display_name": "Python 3",
   "language": "python",
   "name": "python3"
  },
  "language_info": {
   "codemirror_mode": {
    "name": "ipython",
    "version": 3
   },
   "file_extension": ".py",
   "mimetype": "text/x-python",
   "name": "python",
   "nbconvert_exporter": "python",
   "pygments_lexer": "ipython3",
   "version": "3.11.4"
  }
 },
 "nbformat": 4,
 "nbformat_minor": 5
}
