{
  "cells": [
    {
      "cell_type": "markdown",
      "metadata": {
        "id": "37dUHJlpXM43"
      },
      "source": [
        "## Load Modules"
      ]
    },
    {
      "cell_type": "code",
      "execution_count": null,
      "metadata": {
        "id": "rubuTULDXMB0"
      },
      "outputs": [],
      "source": [
        "#!pip install pysal -q"
      ]
    },
    {
      "cell_type": "code",
      "execution_count": null,
      "metadata": {
        "id": "SJziHrXDXYAj"
      },
      "outputs": [],
      "source": [
        "import geopandas as gpd\n",
        "import matplotlib.pyplot as plt\n",
        "import mapclassify as mc\n",
        "import pandas as pd\n",
        "import numpy as np\n",
        "import seaborn as sns\n",
        "import contextily as ctx\n",
        "from shapely.geometry import Polygon\n",
        "from pysal.lib import cg as geometry\n",
        "from pysal.lib import weights"
      ]
    },
    {
      "cell_type": "markdown",
      "metadata": {
        "id": "DwU9UN5yXdJc"
      },
      "source": [
        "## Data Exploration"
      ]
    },
    {
      "cell_type": "code",
      "execution_count": null,
      "metadata": {
        "id": "UZufvtNjXlds"
      },
      "outputs": [],
      "source": [
        "scot = gpd.read_file(\"scot_obesity.gpkg\")\n",
        "scot = scot.set_index('GSS_CODEWD', drop=False)"
      ]
    },
    {
      "cell_type": "code",
      "execution_count": null,
      "metadata": {
        "id": "K6z8mZt0XqKL"
      },
      "outputs": [],
      "source": [
        "scot.head(2)"
      ]
    },
    {
      "cell_type": "code",
      "execution_count": null,
      "metadata": {},
      "outputs": [],
      "source": [
        "scot.explore()"
      ]
    },
    {
      "cell_type": "code",
      "execution_count": null,
      "metadata": {},
      "outputs": [],
      "source": [
        "wd_names = sorted(scot['WD_Name'].unique())"
      ]
    },
    {
      "cell_type": "code",
      "execution_count": null,
      "metadata": {},
      "outputs": [],
      "source": [
        "scot.describe()\n"
      ]
    },
    {
      "cell_type": "code",
      "execution_count": null,
      "metadata": {},
      "outputs": [],
      "source": [
        "scot.shape"
      ]
    },
    {
      "cell_type": "markdown",
      "metadata": {
        "id": "3ZYsIeq8DDhf"
      },
      "source": [
        "## Choropleth Maps and summary statistics"
      ]
    },
    {
      "cell_type": "code",
      "execution_count": null,
      "metadata": {
        "id": "NLf-mE39aUYs"
      },
      "outputs": [],
      "source": [
        "jenks = mc.NaturalBreaks(scot['Avg_Obesit'], k=5)"
      ]
    },
    {
      "cell_type": "code",
      "execution_count": null,
      "metadata": {},
      "outputs": [],
      "source": [
        "jenks"
      ]
    },
    {
      "cell_type": "markdown",
      "metadata": {},
      "source": [
        "you may want to change this to `mapclassify.EqualInterval()` or to `mapclassify.Quantiles()`"
      ]
    },
    {
      "cell_type": "code",
      "execution_count": null,
      "metadata": {},
      "outputs": [],
      "source": [
        "fig, ax = plt.subplots(1, 1, figsize=(10, 10))\n",
        "scot.plot(column=\"jenks_class\", \n",
        "        cmap='YlGnBu', # Choose a colormap\n",
        "        ax=ax, \n",
        "        legend=True,\n",
        "        classification_kwds={'bins': jenks.bins})\n",
        "ax.set_title('Choropleth Map with Jenks Classification')\n",
        "ax.axis('off')\n",
        "\n",
        "plt.show()"
      ]
    },
    {
      "cell_type": "markdown",
      "metadata": {
        "id": "UPlWza9WDRTy"
      },
      "source": [
        "## Global Moran's I"
      ]
    },
    {
      "cell_type": "markdown",
      "metadata": {},
      "source": [
        "### Building spatial weight"
      ]
    },
    {
      "cell_type": "code",
      "execution_count": null,
      "metadata": {
        "id": "CVsAoGU7DRzm"
      },
      "outputs": [],
      "source": [
        "# Build Queen contiguity\n",
        "queen = weights.contiguity.Queen.from_dataframe(scot, use_index=True)\n",
        "print(queen)\n",
        "\n",
        "# Build Rook contiguity\n",
        "rook = weights.contiguity.Rook.from_dataframe(scot, use_index=True)\n",
        "print(rook)"
      ]
    },
    {
      "cell_type": "code",
      "execution_count": null,
      "metadata": {},
      "outputs": [],
      "source": [
        "fig, axs = plt.subplots(1, 2, figsize=(12, 6))\n",
        "\n",
        "scot.plot(ax=axs[0], edgecolor='black', facecolor='lightgrey')\n",
        "queen.plot(scot, ax=axs[0], edge_kws=dict(color='red', linestyle=\":\", linewidth=1))\n",
        "axs[0].set_title(\"Queen Contiguity\")\n",
        "\n",
        "scot.plot(ax=axs[1], edgecolor='black', facecolor='lightgrey')\n",
        "rook.plot(scot, ax=axs[1], edge_kws=dict(color='blue', linestyle=\":\", linewidth=1))\n",
        "axs[1].set_title(\"Rook Contiguity\")\n",
        "\n",
        "plt.show()"
      ]
    },
    {
      "cell_type": "code",
      "execution_count": null,
      "metadata": {},
      "outputs": [],
      "source": [
        "print(queen.n) # n = the number of observations (spatial units) in your GeoDataFrame\n",
        "print(queen.pct_nonzero) # Percentage of non-zero entries in the spatial weight matrix\n",
        "print(rook.n)\n",
        "print(rook.pct_nonzero)"
      ]
    },
    {
      "cell_type": "code",
      "execution_count": null,
      "metadata": {},
      "outputs": [],
      "source": [
        "queen.cardinalities"
      ]
    },
    {
      "cell_type": "code",
      "execution_count": null,
      "metadata": {},
      "outputs": [],
      "source": [
        "card_series = pd.Series(queen.cardinalities)\n",
        "card_series.name = \"num_neighbours\"\n",
        "print(card_series.sort_values(ascending=False))\n",
        "print(card_series.describe())  # mean, std, min, max\n",
        "\n",
        "sns.displot(card_series, kde=True)\n",
        "#card_series.hist(bins=10)"
      ]
    },
    {
      "cell_type": "code",
      "execution_count": null,
      "metadata": {},
      "outputs": [],
      "source": [
        "from esda import Moran"
      ]
    },
    {
      "cell_type": "code",
      "execution_count": null,
      "metadata": {},
      "outputs": [],
      "source": [
        "scot = scot.reset_index(drop=True)"
      ]
    },
    {
      "cell_type": "code",
      "execution_count": null,
      "metadata": {},
      "outputs": [],
      "source": [
        "scot.explore(\n",
        "    \"Avg_Obesit\",\n",
        "    cmap=\"coolwarm\",\n",
        "    vmin=2,\n",
        "    vmax=17,\n",
        "    prefer_canvas=True,\n",
        "    tiles=\"CartoDB Positron\",\n",
        ")"
      ]
    },
    {
      "cell_type": "code",
      "execution_count": null,
      "metadata": {},
      "outputs": [],
      "source": [
        "y = scot[\"Avg_Obesit\"].values"
      ]
    },
    {
      "cell_type": "code",
      "execution_count": null,
      "metadata": {},
      "outputs": [],
      "source": [
        "# Using Queen contiguity\n",
        "moran_q = Moran(y, queen)\n",
        "print(f\"Queen Moran's I: {moran_q.I}, p-value: {moran_q.p_sim}\")\n",
        "\n",
        "# Using Rook contiguity\n",
        "moran_r = Moran(y, rook)\n",
        "print(f\"Rook Moran's I: {moran_r.I}, p-value: {moran_r.p_sim}\")"
      ]
    },
    {
      "cell_type": "code",
      "execution_count": null,
      "metadata": {},
      "outputs": [],
      "source": [
        "from splot.esda import moran_scatterplot"
      ]
    },
    {
      "cell_type": "code",
      "execution_count": null,
      "metadata": {},
      "outputs": [],
      "source": [
        "# Create Moran scatterplot\n",
        "fig, ax = moran_scatterplot(moran_q, aspect_equal=True)\n",
        "\n",
        "# Adjust plot\n",
        "ax.set_title(\"Moran Scatterplot: Average Obesity in Scotland\", fontsize=14)\n",
        "ax.set_xlabel(\"Average Obesity in Scotland (standardised)\", fontsize=12)\n",
        "ax.set_ylabel(\"Spatial Lag\", fontsize=12)\n",
        "plt.grid(True)\n",
        "plt.show()"
      ]
    },
    {
      "cell_type": "markdown",
      "metadata": {
        "id": "jfI0AgvuDSeR"
      },
      "source": [
        "## Local Moran’s I (LISA)"
      ]
    },
    {
      "cell_type": "code",
      "execution_count": null,
      "metadata": {
        "id": "6S3mi203DUX_"
      },
      "outputs": [],
      "source": [
        "from esda import Moran_Local\n",
        "from splot.esda import lisa_cluster"
      ]
    },
    {
      "cell_type": "code",
      "execution_count": null,
      "metadata": {},
      "outputs": [],
      "source": [
        "lisa = Moran_Local(y, queen)"
      ]
    },
    {
      "cell_type": "code",
      "execution_count": null,
      "metadata": {},
      "outputs": [],
      "source": [
        "lisa"
      ]
    },
    {
      "cell_type": "code",
      "execution_count": null,
      "metadata": {},
      "outputs": [],
      "source": [
        "lisa.plot_scatter()"
      ]
    },
    {
      "cell_type": "code",
      "execution_count": null,
      "metadata": {},
      "outputs": [],
      "source": [
        "scot['cluster'] = lisa.get_cluster_labels(crit_value=0.05)"
      ]
    },
    {
      "cell_type": "code",
      "execution_count": null,
      "metadata": {},
      "outputs": [],
      "source": [
        "# Frequency table (includes 'Not Significant')\n",
        "freq_table = scot['cluster'].value_counts()\n",
        "\n",
        "# Display\n",
        "print(freq_table)\n",
        "\n",
        "# Total number of electoral wards\n",
        "total_wards = freq_table.sum()\n",
        "print(f\"Total wards: {total_wards}\")"
      ]
    },
    {
      "cell_type": "code",
      "execution_count": null,
      "metadata": {},
      "outputs": [],
      "source": [
        "# Percentages\n",
        "percentages = (freq_table / total_wards) * 100\n",
        "\n",
        "freq_table_df = pd.DataFrame({\n",
        "    'Count': freq_table,\n",
        "    'Percentage': percentages.round(1)\n",
        "})\n",
        "\n",
        "# Display\n",
        "freq_table_df"
      ]
    },
    {
      "cell_type": "markdown",
      "metadata": {
        "id": "pSowxOk7DU48"
      },
      "source": [
        "## Getis-Ord Gi*"
      ]
    },
    {
      "cell_type": "code",
      "execution_count": null,
      "metadata": {},
      "outputs": [],
      "source": [
        "from esda import G_Local"
      ]
    },
    {
      "cell_type": "code",
      "execution_count": null,
      "metadata": {
        "id": "mtP7FYdVDWhb"
      },
      "outputs": [],
      "source": [
        "y = scot['Avg_Obesit'].astype(float).values\n",
        "# Calculate Local G (Gi*)\n",
        "gi = G_Local(y, queen, permutations=999)"
      ]
    },
    {
      "cell_type": "code",
      "execution_count": null,
      "metadata": {},
      "outputs": [],
      "source": [
        "# Attach results\n",
        "scot['GiZ'] = gi.z_sim\n",
        "scot['GiP'] = gi.p_sim\n",
        "scot['Gi_sig'] = scot['GiP'] < 0.05"
      ]
    },
    {
      "cell_type": "code",
      "execution_count": null,
      "metadata": {},
      "outputs": [],
      "source": [
        "# Categorise\n",
        "def hotspot_coldspot(z):\n",
        "    if z > 0:\n",
        "        return 'Hotspot'\n",
        "    else:\n",
        "        return 'Coldspot'\n",
        "\n",
        "scot['Gi_cluster'] = scot.apply(\n",
        "    lambda row: hotspot_coldspot(row['GiZ']) if row['Gi_sig'] else 'Not Significant',\n",
        "    axis=1\n",
        ")"
      ]
    },
    {
      "cell_type": "code",
      "execution_count": null,
      "metadata": {},
      "outputs": [],
      "source": [
        "# Define your custom colors\n",
        "colour_dict = {\n",
        "    'Hotspot': '#e31a1c',  # Strong Red\n",
        "    'Coldspot': '#1f78b4',  # Nice Blue\n",
        "    'Not Significant': '#d9d9d9'  # Light Grey\n",
        "}"
      ]
    },
    {
      "cell_type": "code",
      "execution_count": null,
      "metadata": {},
      "outputs": [],
      "source": [
        "fig, ax = plt.subplots(figsize=(10, 10))\n",
        "\n",
        "# Use the cluster column for plotting\n",
        "scot.plot(\n",
        "    column='Gi_cluster',\n",
        "    categorical=True,\n",
        "    legend=True,\n",
        "    cmap=None,  # Don't use default color maps\n",
        "    color=scot['Gi_cluster'].map(colour_dict),\n",
        "    edgecolor='black',\n",
        "    linewidth=0.5,\n",
        "    ax=ax\n",
        ")\n",
        "\n",
        "# Customise the plot\n",
        "plt.title('Getis-Ord Gi* Hotspots and Coldspots of Scottish Obesity', fontsize=15)\n",
        "plt.axis('off')\n",
        "plt.show()\n"
      ]
    },
    {
      "cell_type": "markdown",
      "metadata": {
        "id": "0AMR_rB1DYiE"
      },
      "source": [
        "## Other variables\n",
        "\n",
        "Test other variables for the Moran's I value, such as nocar, and socrent."
      ]
    }
  ],
  "metadata": {
    "colab": {
      "provenance": [],
      "toc_visible": true
    },
    "kernelspec": {
      "display_name": "Python 3",
      "name": "python3"
    },
    "language_info": {
      "codemirror_mode": {
        "name": "ipython",
        "version": 3
      },
      "file_extension": ".py",
      "mimetype": "text/x-python",
      "name": "python",
      "nbconvert_exporter": "python",
      "pygments_lexer": "ipython3",
      "version": "3.11.4"
    }
  },
  "nbformat": 4,
  "nbformat_minor": 0
}
