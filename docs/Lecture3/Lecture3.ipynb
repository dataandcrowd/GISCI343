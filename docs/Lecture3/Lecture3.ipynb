{
 "cells": [
  {
   "cell_type": "code",
   "execution_count": null,
   "metadata": {
    "vscode": {
     "languageId": "python"
    }
   },
   "outputs": [],
   "source": [
    "import pandas as pd\n",
    "import seaborn as sns \n",
    "from palmerpenguins import load_penguins\n",
    "sns.set_style('whitegrid')"
   ]
  },
  {
   "cell_type": "code",
   "execution_count": null,
   "metadata": {
    "vscode": {
     "languageId": "python"
    }
   },
   "outputs": [],
   "source": [
    "penguins = load_penguins()\n",
    "penguins.head()"
   ]
  },
  {
   "cell_type": "code",
   "execution_count": null,
   "metadata": {
    "vscode": {
     "languageId": "python"
    }
   },
   "outputs": [],
   "source": [
    "g = sns.boxplot(x = 'island',\n",
    "            y ='body_mass_g',\n",
    "            hue = 'species',\n",
    "            data = penguins,\n",
    "            palette=['#FF8C00','#159090','#A034F0'],\n",
    "            linewidth=0.3)\n",
    "g.set_xlabel('Island')\n",
    "g.set_ylabel('Body Mass')"
   ]
  },
  {
   "cell_type": "code",
   "execution_count": null,
   "metadata": {
    "vscode": {
     "languageId": "python"
    }
   },
   "outputs": [],
   "source": [
    "g = sns.lmplot(x=\"flipper_length_mm\",\n",
    "               y=\"body_mass_g\",\n",
    "               hue=\"species\",\n",
    "               height=7,\n",
    "               data=penguins,\n",
    "               palette=['#FF8C00','#159090','#A034F0'])\n",
    "g.set_xlabels('Flipper Length')\n",
    "g.set_ylabels('Body Mass')"
   ]
  },
  {
   "cell_type": "code",
   "execution_count": null,
   "metadata": {
    "vscode": {
     "languageId": "python"
    }
   },
   "outputs": [],
   "source": []
  }
 ],
 "metadata": {
  "language_info": {
   "name": "plaintext"
  }
 },
 "nbformat": 4,
 "nbformat_minor": 2
}
