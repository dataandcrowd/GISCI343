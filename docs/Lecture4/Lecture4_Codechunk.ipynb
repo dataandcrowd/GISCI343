{
 "cells": [
  {
   "cell_type": "markdown",
   "metadata": {
    "slideshow": {
     "slide_type": "slide"
    }
   },
   "source": [
    "# Lecture 4 - Geopandas\n",
    "![](images/panda.jpeg)"
   ]
  },
  {
   "cell_type": "markdown",
   "metadata": {
    "slideshow": {
     "slide_type": "slide"
    }
   },
   "source": [
    "## Geopandas uses the same strucutre but adds geometry\n",
    "![](images/geodataframe.png)\n",
    "- https://geopandas.org/getting_started/introduction.html"
   ]
  },
  {
   "cell_type": "markdown",
   "metadata": {
    "slideshow": {
     "slide_type": "slide"
    }
   },
   "source": [
    "### What is geometry?\n",
    "- Good question. \n",
    "  - The purpose of geopandas is to add geometry (spatial) data\n",
    "  - But its also to add spatial operations, too. \n",
    "- First however we do need to know what geometry is:\n",
    "  - Its a represenatation of a spatial location\n",
    "    - It can only have one CRS (coordinate reference system)\n",
    "  - It can come in several types, well beyond point, line, and polygon\n",
    "    - We can actually mix points, lines, and polygons in the same geodataframe\n",
    "      - I _really_ don't recommend this. It's like mixing array items, but worse\n",
    "  - Spatial inforamtion is stored as spatially encoded objects (using a library called _shapely_ but we don't really need to know about it, it in turn is built on GDAL)\n",
    "- Lets use an example we are familiar with and make it spatial"
   ]
  },
  {
   "cell_type": "markdown",
   "metadata": {
    "slideshow": {
     "slide_type": "slide"
    }
   },
   "source": [
    "### Loading data\n",
    "- Really easy to do with geopandas.\n",
    "- Here is how you load a shapefile\n",
    "  - Note here that we are actually loading a zip file!\n",
    "    - This is simply awesome that we can do this, as it means we no longer have to mess about with .shp .shx .prj .dbf\n",
    "    - You can actually store your entire dataset in a zip file with multiple folders and datasets. it is simply fantastic!\n"
   ]
  },
  {
   "cell_type": "code",
   "execution_count": null,
   "metadata": {},
   "outputs": [],
   "source": [
    "import geopandas as gpd\n",
    "import pandas as pd\n",
    "import matplotlib.pyplot as plt"
   ]
  },
  {
   "cell_type": "code",
   "execution_count": null,
   "metadata": {},
   "outputs": [],
   "source": [
    "nzpop = gpd.read_file('data/2023-census-population-change-by-ethnic-group-and-regional-c.shp')\n",
    "lookup = pd.read_csv('data/2023_census_population_change_by_ethnic_group_and_rc_lookup_table.csv')"
   ]
  },
  {
   "cell_type": "code",
   "execution_count": null,
   "metadata": {},
   "outputs": [],
   "source": [
    "print(nzpop)"
   ]
  },
  {
   "cell_type": "code",
   "execution_count": null,
   "metadata": {},
   "outputs": [],
   "source": [
    "nzpop.crs"
   ]
  },
  {
   "cell_type": "code",
   "execution_count": null,
   "metadata": {},
   "outputs": [],
   "source": [
    "lookup"
   ]
  },
  {
   "cell_type": "code",
   "execution_count": null,
   "metadata": {},
   "outputs": [],
   "source": [
    "nzpop.plot()"
   ]
  },
  {
   "cell_type": "code",
   "execution_count": null,
   "metadata": {},
   "outputs": [],
   "source": [
    "nzpop.boundary.plot()"
   ]
  },
  {
   "cell_type": "code",
   "execution_count": null,
   "metadata": {},
   "outputs": [],
   "source": [
    "nzpop.plot(column=\"VAR_1_23\")"
   ]
  },
  {
   "cell_type": "code",
   "execution_count": null,
   "metadata": {},
   "outputs": [],
   "source": [
    "nzpop.plot(column='VAR_1_23', legend=True,\n",
    "           legend_kwds={'label': \"Population in 2023\",\n",
    "                        'orientation': \"vertical\"},\n",
    "           cmap='OrRd')\n",
    "plt.title('Choropleth Map of Population in 2023')\n",
    "plt.show()"
   ]
  },
  {
   "cell_type": "code",
   "execution_count": null,
   "metadata": {},
   "outputs": [],
   "source": [
    "import mapclassify as mc"
   ]
  },
  {
   "cell_type": "code",
   "execution_count": null,
   "metadata": {},
   "outputs": [],
   "source": [
    "# Classify using Natural Breaks (Jenks)\n",
    "classifier = mc.NaturalBreaks(y=nzpop[\"VAR_1_23\"], k=5)  # k is the number of classes\n",
    "\n",
    "# Plot the choropleth map\n",
    "fig, ax = plt.subplots(1, 1, figsize=(10, 6))\n",
    "nzpop.plot(column=\"VAR_1_23\", cmap='OrRd', linewidth=0.8, ax=ax, edgecolor='0.8', \n",
    "           scheme='NaturalBreaks', classification_kwds={'k': 5}, legend=True)\n",
    "\n",
    "# Add a title\n",
    "plt.title('Choropleth Map of Population with Natural Breaks')\n",
    "\n",
    "# Show the plot\n",
    "plt.show()\n"
   ]
  },
  {
   "cell_type": "code",
   "execution_count": null,
   "metadata": {},
   "outputs": [],
   "source": [
    "nzpop.plot(kind=\"scatter\", x=\"VAR_1_15\", y=\"VAR_1_23\")"
   ]
  },
  {
   "cell_type": "code",
   "execution_count": null,
   "metadata": {},
   "outputs": [],
   "source": [
    "temp_df = nzpop.copy()\n",
    "temp_df['VAR_1_15_div'] = temp_df['VAR_1_15'] / 1000\n",
    "temp_df['VAR_1_23_div'] = temp_df['VAR_1_23'] / 1000"
   ]
  },
  {
   "cell_type": "code",
   "execution_count": null,
   "metadata": {},
   "outputs": [],
   "source": [
    "temp_df"
   ]
  },
  {
   "cell_type": "code",
   "execution_count": null,
   "metadata": {},
   "outputs": [],
   "source": [
    "# Plot using the temporary DataFrame\n",
    "temp_df.plot(kind=\"scatter\", x=\"VAR_1_23_div\", y=\"VAR_1_15_div\")\n",
    "\n",
    "# Optionally add labels and title\n",
    "ax = plt.gca() # get current axis\n",
    "ax.set_xlabel('Total Pop 2023 (in thousands)')\n",
    "ax.set_ylabel('Total Pop 2018 (in thousands)')\n",
    "ax.set_title('Census 2018 vs Census 2023')\n",
    "plt.show()"
   ]
  },
  {
   "cell_type": "code",
   "execution_count": null,
   "metadata": {},
   "outputs": [],
   "source": [
    "nzpop[[\"VAR_1_15\", \"VAR_1_23\", \"geometry\"]].plot.hist(alpha=.4)"
   ]
  },
  {
   "cell_type": "code",
   "execution_count": null,
   "metadata": {},
   "outputs": [],
   "source": [
    "# Select the columns you want to plot\n",
    "selected_columns = nzpop[[\"VAR_1_15\", \"VAR_1_23\"]]\n",
    "\n",
    "# Create a histogram for each selected column\n",
    "selected_columns.plot.hist(alpha=0.4, subplots=True, layout=(1, 2), figsize=(12, 6), bins=30)\n",
    "\n",
    "# Optionally adjust spacing\n",
    "plt.tight_layout()\n",
    "plt.show()"
   ]
  },
  {
   "cell_type": "code",
   "execution_count": null,
   "metadata": {},
   "outputs": [],
   "source": [
    "number = 1e6\n",
    "\n",
    "# Convert to normal number\n",
    "normal_number = '{:.0f}'.format(number)\n",
    "\n",
    "print(normal_number)  # Output: 1000000"
   ]
  },
  {
   "cell_type": "code",
   "execution_count": null,
   "metadata": {},
   "outputs": [],
   "source": [
    "# Create a figure with 1 row and 3 columns for subplots\n",
    "fig, (ax1, ax2) = plt.subplots(1, 2, figsize=(12, 6))\n",
    "\n",
    "# Plot the first variable\n",
    "nzpop.plot(column='VAR_1_15', ax=ax1, legend=True, cmap='OrRd')\n",
    "ax1.set_title('Population 2018')\n",
    "cbar1 = ax1.get_figure().get_axes()[2]  # Get the first colorbar axis\n",
    "cbar1.ticklabel_format(style='plain') # Access the colorbars (legends) and apply ticklabel_format\n",
    "\n",
    "# Plot the second variable\n",
    "nzpop.plot(column='VAR_1_23', ax=ax2, legend=True, cmap='YlGn')\n",
    "ax2.set_title('Population 2023')\n",
    "cbar2 = ax2.get_figure().get_axes()[3]  # Get the second colorbar axis\n",
    "cbar2.ticklabel_format(style='plain')\n",
    "\n",
    "# Adjust layout to prevent overlap\n",
    "plt.tight_layout()\n",
    "# Show the plot\n",
    "plt.show()"
   ]
  },
  {
   "cell_type": "code",
   "execution_count": null,
   "metadata": {},
   "outputs": [],
   "source": [
    "import geodatasets"
   ]
  },
  {
   "cell_type": "code",
   "execution_count": null,
   "metadata": {},
   "outputs": [],
   "source": [
    "chicago = gpd.read_file(geodatasets.get_path(\"geoda.chicago_commpop\"))\n",
    "groceries = gpd.read_file(geodatasets.get_path(\"geoda.groceries\"))"
   ]
  },
  {
   "cell_type": "code",
   "execution_count": null,
   "metadata": {},
   "outputs": [],
   "source": [
    "chicago"
   ]
  },
  {
   "cell_type": "code",
   "execution_count": null,
   "metadata": {},
   "outputs": [],
   "source": [
    "chicago_shapes = chicago[['geometry', 'NID']]\n",
    "chicago_names = chicago[['community', 'NID']]"
   ]
  },
  {
   "cell_type": "code",
   "execution_count": null,
   "metadata": {},
   "outputs": [],
   "source": [
    "chicago_shapes = chicago_shapes.merge(chicago_names, on='NID')"
   ]
  },
  {
   "cell_type": "code",
   "execution_count": null,
   "metadata": {},
   "outputs": [],
   "source": [
    "chicago.head()\n",
    "groceries.head()"
   ]
  },
  {
   "cell_type": "code",
   "execution_count": null,
   "metadata": {},
   "outputs": [],
   "source": [
    "groceries_with_community = groceries.sjoin(chicago, how=\"inner\", predicate='intersects')"
   ]
  },
  {
   "cell_type": "code",
   "execution_count": null,
   "metadata": {},
   "outputs": [],
   "source": [
    "groceries_with_community.head()"
   ]
  },
  {
   "cell_type": "markdown",
   "metadata": {},
   "source": [
    "The default spatial index in GeoPandas currently supports the following values for predicate which are defined in the Shapely documentation:\n",
    "\n",
    "* intersects\n",
    "* contains\n",
    "* within\n",
    "* touches\n",
    "* crosses\n",
    "* overlaps"
   ]
  },
  {
   "cell_type": "markdown",
   "metadata": {},
   "source": []
  }
 ],
 "metadata": {
  "celltoolbar": "Slideshow",
  "kernelspec": {
   "display_name": "Python 3 (ipykernel)",
   "language": "python",
   "name": "python3"
  },
  "language_info": {
   "codemirror_mode": {
    "name": "ipython",
    "version": 3
   },
   "file_extension": ".py",
   "mimetype": "text/x-python",
   "name": "python",
   "nbconvert_exporter": "python",
   "pygments_lexer": "ipython3",
   "version": "3.12.4"
  }
 },
 "nbformat": 4,
 "nbformat_minor": 2
}
