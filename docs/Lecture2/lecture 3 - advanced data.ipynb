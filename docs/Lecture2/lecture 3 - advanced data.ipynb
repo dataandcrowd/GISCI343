{
 "cells": [
  {
   "cell_type": "markdown",
   "metadata": {
    "slideshow": {
     "slide_type": "slide"
    }
   },
   "source": [
    "# Lecture 3 - Dictionaries, Pandas, and Geopandas\n",
    "![](images/panda.jpeg)"
   ]
  },
  {
   "cell_type": "markdown",
   "metadata": {
    "slideshow": {
     "slide_type": "slide"
    }
   },
   "source": [
    "![](images/UoA_missing_map_poster.png)"
   ]
  },
  {
   "cell_type": "markdown",
   "metadata": {
    "slideshow": {
     "slide_type": "slide"
    }
   },
   "source": [
    "### A cool thing I saw on the net this week:\n",
    "Open Street Map and LLMs (GPT)\n",
    "https://github.com/rowheat02/osm-gpt"
   ]
  },
  {
   "cell_type": "markdown",
   "metadata": {
    "slideshow": {
     "slide_type": "slide"
    }
   },
   "source": [
    "### Objectives\n",
    "- Dictionaries\n",
    "  - What, why, how\n",
    "- Pandas\n",
    "  - The industry and scientific standard means of tabular data handling*\n",
    "  - https://pandas.pydata.org/\n",
    "- Geopandas\n",
    "  - Making pandas spatial!\n",
    "  - https://geopandas.org/en/stable/"
   ]
  },
  {
   "cell_type": "markdown",
   "metadata": {
    "slideshow": {
     "slide_type": "slide"
    }
   },
   "source": [
    "### Dictionaries\n",
    "- A dictionary is another type of variable\n",
    "  - It is useful for storing loosely structured information\n",
    "  - It uses a key:value structure\n",
    "  - Denoted using curly brackets {}\n",
    "  - Often combined with a list\n",
    "  "
   ]
  },
  {
   "cell_type": "code",
   "execution_count": null,
   "metadata": {
    "scrolled": true,
    "slideshow": {
     "slide_type": "subslide"
    }
   },
   "outputs": [],
   "source": [
    "GISCI_dictionary = {\n",
    "                        \"apple\":\"a delicious round fruit\",\n",
    "                        \"bench\":\"a place to sit next to the footpath\",\n",
    "                        \"candy\":\"something thats tastey but causes cavities\",\n",
    "                        \"door\":\"a portal to another room\",\n",
    "                        \"entomologist\":\"somone that studies bugs\",\n",
    "                        \"farce\":\"a sausage meat mixture\",\n",
    "                        \"gas\":\"a petrochemical nearing end of life\",\n",
    "                        \"hatchback\":\"a car with a rear that enitrely opens\",\n",
    "                        \"ice\":\"the solid state of water\",\n",
    "                        \"juice\":\"a sugary taste fruit drink\",\n",
    "                        \"k****\":\"asdfasdf\",\n",
    "                     }\n",
    "GISCI_dictionary[\"bench\"]"
   ]
  },
  {
   "cell_type": "code",
   "execution_count": null,
   "metadata": {},
   "outputs": [],
   "source": [
    "GISCI_dictionary\n"
   ]
  },
  {
   "cell_type": "markdown",
   "metadata": {
    "slideshow": {
     "slide_type": "slide"
    }
   },
   "source": [
    "### Dictionary functions\n",
    "- mydict.keys() gives you the 'key' of the key:value pairing\n",
    "- mydict.items() give you the contents as a list\n",
    "- mydict.values() gives you the values"
   ]
  },
  {
   "cell_type": "code",
   "execution_count": null,
   "metadata": {
    "scrolled": true,
    "slideshow": {
     "slide_type": "subslide"
    }
   },
   "outputs": [],
   "source": [
    "# Uncomment each line of code one by one and check out what is returned by each function call\n",
    "webstersDictionary.keys()\n",
    "# webstersDictionary.values()\n",
    "# webstersDictionary.items()"
   ]
  },
  {
   "cell_type": "code",
   "execution_count": null,
   "metadata": {
    "scrolled": true,
    "slideshow": {
     "slide_type": "fragment"
    }
   },
   "outputs": [],
   "source": [
    "# We can use a for loop to run through the keys in dictionary:\n",
    "for i in webstersDictionary.keys():\n",
    "    print(i)"
   ]
  },
  {
   "cell_type": "code",
   "execution_count": null,
   "metadata": {
    "scrolled": true,
    "slideshow": {
     "slide_type": "slide"
    }
   },
   "outputs": [],
   "source": [
    "# Or we could use it as a way to format a printing of the entire dictionary\n",
    "for i in webstersDictionary.keys(): # using the key we get from this line...\n",
    "    print (i + \":\\n\\t\" + webstersDictionary[i]) # ...to call the item/value from the dictionary as we loop through it"
   ]
  },
  {
   "cell_type": "markdown",
   "metadata": {
    "slideshow": {
     "slide_type": "slide"
    }
   },
   "source": [
    "### Dictionaries are often multi layered (multi-dimensional)\n",
    "- Often dictionaries contain lists of dictionaries\n",
    "- Yes, it is confusing, but creates more freedom"
   ]
  },
  {
   "cell_type": "code",
   "execution_count": null,
   "metadata": {
    "scrolled": true,
    "slideshow": {
     "slide_type": "subslide"
    }
   },
   "outputs": [],
   "source": [
    "# Here a multi-level ditionary lets us store the variable 'people, \n",
    "# Within which we can then store more information about those people, in another dictionary.\n",
    "mydict = {\"people\":[\n",
    "            {\n",
    "                \"name\":\"michael\",\n",
    "                 \"role\":\"teacher\"\n",
    "            },\n",
    "            {\n",
    "                \"name\":\"sila\",\n",
    "                 \"role\":\"teacher\"\n",
    "            },\n",
    "            {\n",
    "                \"name\":\"amber\",\n",
    "                 \"role\":\"tutor\"\n",
    "            }    \n",
    "            ]}\n",
    "# print(mydict)\n",
    "print(mydict[\"people\"])\n"
   ]
  },
  {
   "cell_type": "code",
   "execution_count": null,
   "metadata": {
    "scrolled": true,
    "slideshow": {
     "slide_type": "subslide"
    }
   },
   "outputs": [],
   "source": [
    "# We can add another dictionary within that first one, that contains a totally different set of information...\n",
    "mydict = {\"people\":[\n",
    "            {\"name\":\"michael\",\"role\":\"teacher\"},\n",
    "            {\"name\":\"sila\",\"role\":\"teacher\"},\n",
    "            {\"name\":\"amber\",\"role\":\"tutor\"},    \n",
    "        ],\n",
    "         \"mascots\":[\n",
    "             {\"name\":\"pepper\",\"species\":\"dog\"},\n",
    "             {\"name\":\"pip\",\"species\":\"dog\"},\n",
    "             {\"name\":\"harriet\",\"species\":\"cat\"}\n",
    "         ]}\n",
    "# print(mydict)\n",
    "print(mydict[\"people\"])"
   ]
  },
  {
   "cell_type": "code",
   "execution_count": null,
   "metadata": {
    "scrolled": true,
    "slideshow": {
     "slide_type": "subslide"
    }
   },
   "outputs": [],
   "source": [
    "# Combine this multi-level dictionary with a for loop and a conditional statement...\n",
    "for i in mydict[\"mascots\"]: #for every 1st level dict with this key...\n",
    "    print(str(i))\n",
    "    if i[\"species\"] == \"cat\":        # Within that dict, if the value of the key 'species' is cat...\n",
    "        print (\"all hail our new ruler! bow to \"+i[\"name\"]+\"!\") # Do this...\n",
    "    else:\n",
    "        print (\"who\\'s the best? \\n\\t\"+i[\"name\"]+\"\\'s the best!\\n\") # Otherwise do this.\n",
    "        \n",
    "# And we get the ability to selectively call and use data from different levels within it."
   ]
  },
  {
   "cell_type": "markdown",
   "metadata": {
    "slideshow": {
     "slide_type": "slide"
    }
   },
   "source": [
    "### Why use dictionaries?\n",
    "- Dictionaries are really useful as they create a bit more freedom in our data strucutre.\n",
    "- In comparison, in array its a really bad idea to have mixed data types and uneven arrays, however dictionaries are great for this type of data.\n",
    "<br></br>\n",
    "- This moves us towards 'unstructured' data. Lots of the info we get from the web is fairly unstrucutred becasue it relies on non-complete datasets. \n",
    "  - For example: some data from Twitter (or X as it is now known, booooo) has geolocation, and some does not. \n",
    "  <br></br>\n",
    "- Having said that, using a dictionary doesn't mean _no_ structure, it just means that not all elements of the strucutre will be there. \n",
    "  - For example:"
   ]
  },
  {
   "cell_type": "code",
   "execution_count": null,
   "metadata": {
    "scrolled": true,
    "slideshow": {
     "slide_type": "subslide"
    }
   },
   "outputs": [],
   "source": [
    "# Here we have some pretty unstructured data as a dict...\n",
    "mydict = {\n",
    "    \"restaurants\":[\n",
    "        {\n",
    "            \"name\":\"McDonalds\",\n",
    "            \"nickname\":\"Maccas\",\n",
    "            \"known-for\":\"Big Mac\",\n",
    "            \"likely-result\":\"heart-Attack\",\n",
    "            \"rating\":3.3            \n",
    "        },\n",
    "        {\n",
    "            \"name\":\"Burger King\",\n",
    "            \"nickname\":\"The King\",\n",
    "            \"known-for\":\"Whopper\",\n",
    "            \"rating\":2\n",
    "        },\n",
    "        {\n",
    "            \"name\":\"Burger Wisconsin\",\n",
    "            \"nickname\":\"Burg-Wickies\",\n",
    "            \"known-for\":\"Expensive Trash!\",            \n",
    "        },\n",
    "    ]\n",
    "}\n",
    "\n",
    "# Here it is as a complex array but... \n",
    "restaurants = [\"McDonalds\",\"Burger King\",\"Burger Wisconsin\"]\n",
    "nicknames = [\"Maccas\",\"The King\",\"Burg-Wickies\"]\n",
    "known_for = [\"Big Mac\",\"Whopper\",\"Expensive Trash\"]\n",
    "likely_result = [\"heart attack\",None,None]\n",
    "rating = [3.3,2,None]\n",
    "\n",
    "# It's messy and not easy to access items"
   ]
  },
  {
   "cell_type": "code",
   "execution_count": null,
   "metadata": {
    "scrolled": true,
    "slideshow": {
     "slide_type": "subslide"
    }
   },
   "outputs": [],
   "source": [
    "# For example, let's try to get the info of the first record...\n",
    "print(restaurants[0]+\", nickname:\"+nicknames[0]+\", known for:\"+known_for[0]+\", likely result:\"+likely_result[0]+\", rating:\"+str(rating[0]))\n",
    "\n",
    "# Ok that worked, but what about the second record?\n",
    "#print(restaurants[1]+\", nickname:\"+nicknames[1]+\", known for:\"+known_for[1]+\", likely result:\"+likely_result[1]+\", rating:\"+str(rating[1]))\n"
   ]
  },
  {
   "cell_type": "code",
   "execution_count": null,
   "metadata": {
    "scrolled": true,
    "slideshow": {
     "slide_type": "subslide"
    }
   },
   "outputs": [],
   "source": [
    "# Let's compare that to using the key from a dictionary for the broad class and...\n",
    "# ... then an index call the specific record (try 0, then try 1)\n",
    "print(mydict.keys())\n",
    "mydict[\"restaurants\"][0]"
   ]
  },
  {
   "cell_type": "code",
   "execution_count": null,
   "metadata": {
    "scrolled": true,
    "slideshow": {
     "slide_type": "subslide"
    }
   },
   "outputs": [],
   "source": [
    "# In addition to accessing those individal records, when can of course call the whole dictionary\n",
    "print(mydict[\"restaurants\"])"
   ]
  },
  {
   "cell_type": "markdown",
   "metadata": {
    "slideshow": {
     "slide_type": "subslide"
    }
   },
   "source": [
    "## Pandas\n",
    "![](images/pandas_logo.jpg)\n",
    "\n",
    "- What is pandas?\n",
    "  - Pandas is a _very_ powerful data handling and processing library for Python. \n",
    "  - It has a blazing fast ability to load and save data from a wide variety of formats (csv,json,excel, etc)\n",
    "  - It can transform data very quickly, too.\n",
    "- How do I get it?\n",
    "  - Run command prompt from anaconda\n",
    "    - If you forget how, have a look at last week's lecture :)\n",
    "  - Type: pip install pandas\n",
    "    - if you are having toruble with this, check in with us in lecture or lab time"
   ]
  },
  {
   "cell_type": "markdown",
   "metadata": {
    "slideshow": {
     "slide_type": "subslide"
    }
   },
   "source": [
    "### Introducing, the dataframe\n",
    "- Pandas is all organized around a concept called a DataFrame\n",
    "- The dataframe is a powerful 2D array\n",
    "- Pandas brings data transformation, statistical analys, and plotting/visualization directly to you\n",
    "![](images/pandas_dataframe.jpg)"
   ]
  },
  {
   "cell_type": "code",
   "execution_count": null,
   "metadata": {
    "scrolled": true,
    "slideshow": {
     "slide_type": "subslide"
    }
   },
   "outputs": [],
   "source": [
    "# To get started, we need to import the pandas library\n",
    "# if you get lost in class today, I highly recommend the pandas website\n",
    "# the tutorials on the site are excellent!\n",
    "# https://pandas.pydata.org/docs/getting_started\n",
    "import pandas as pd"
   ]
  },
  {
   "cell_type": "code",
   "execution_count": 77,
   "metadata": {},
   "outputs": [],
   "source": [
    "df = pd.read_csv(\"data/Age.csv\")"
   ]
  },
  {
   "cell_type": "code",
   "execution_count": 76,
   "metadata": {},
   "outputs": [
    {
     "data": {
      "text/html": [
       "<div>\n",
       "<style scoped>\n",
       "    .dataframe tbody tr th:only-of-type {\n",
       "        vertical-align: middle;\n",
       "    }\n",
       "\n",
       "    .dataframe tbody tr th {\n",
       "        vertical-align: top;\n",
       "    }\n",
       "\n",
       "    .dataframe thead th {\n",
       "        text-align: right;\n",
       "    }\n",
       "</style>\n",
       "<table border=\"1\" class=\"dataframe\">\n",
       "  <thead>\n",
       "    <tr style=\"text-align: right;\">\n",
       "      <th></th>\n",
       "      <th>Code</th>\n",
       "      <th>Name</th>\n",
       "      <th>pop13_u15</th>\n",
       "      <th>pop13_1529</th>\n",
       "      <th>pop13_3064</th>\n",
       "      <th>pop13_ov65</th>\n",
       "      <th>pop13_tot</th>\n",
       "      <th>pop18_u15</th>\n",
       "      <th>pop18_1529</th>\n",
       "      <th>pop18_3064</th>\n",
       "      <th>pop18_ov65</th>\n",
       "      <th>pop18_tot</th>\n",
       "      <th>pop23_u15</th>\n",
       "      <th>pop23_1529</th>\n",
       "      <th>pop23_3064</th>\n",
       "      <th>pop23_ov65</th>\n",
       "      <th>pop23_tot</th>\n",
       "    </tr>\n",
       "  </thead>\n",
       "  <tbody>\n",
       "    <tr>\n",
       "      <th>0</th>\n",
       "      <td>3500</td>\n",
       "      <td>South Taranaki District</td>\n",
       "      <td>6078</td>\n",
       "      <td>4788</td>\n",
       "      <td>11802</td>\n",
       "      <td>3909</td>\n",
       "      <td>26580</td>\n",
       "      <td>6219</td>\n",
       "      <td>4719</td>\n",
       "      <td>12264</td>\n",
       "      <td>4332</td>\n",
       "      <td>27534</td>\n",
       "      <td>6171</td>\n",
       "      <td>4830</td>\n",
       "      <td>12906</td>\n",
       "      <td>5115</td>\n",
       "      <td>29025</td>\n",
       "    </tr>\n",
       "    <tr>\n",
       "      <th>1</th>\n",
       "      <td>2000</td>\n",
       "      <td>Waitomo District</td>\n",
       "      <td>2133</td>\n",
       "      <td>1584</td>\n",
       "      <td>3972</td>\n",
       "      <td>1218</td>\n",
       "      <td>8907</td>\n",
       "      <td>2082</td>\n",
       "      <td>1701</td>\n",
       "      <td>4071</td>\n",
       "      <td>1446</td>\n",
       "      <td>9303</td>\n",
       "      <td>2022</td>\n",
       "      <td>1668</td>\n",
       "      <td>4197</td>\n",
       "      <td>1698</td>\n",
       "      <td>9585</td>\n",
       "    </tr>\n",
       "    <tr>\n",
       "      <th>2</th>\n",
       "      <td>7500</td>\n",
       "      <td>Invercargill City</td>\n",
       "      <td>10254</td>\n",
       "      <td>9891</td>\n",
       "      <td>23250</td>\n",
       "      <td>8301</td>\n",
       "      <td>51696</td>\n",
       "      <td>10560</td>\n",
       "      <td>10053</td>\n",
       "      <td>24249</td>\n",
       "      <td>9345</td>\n",
       "      <td>54204</td>\n",
       "      <td>10233</td>\n",
       "      <td>10035</td>\n",
       "      <td>25083</td>\n",
       "      <td>10251</td>\n",
       "      <td>55599</td>\n",
       "    </tr>\n",
       "    <tr>\n",
       "      <th>3</th>\n",
       "      <td>7604</td>\n",
       "      <td>Kaipatiki Local Board Area</td>\n",
       "      <td>15993</td>\n",
       "      <td>17985</td>\n",
       "      <td>39051</td>\n",
       "      <td>9462</td>\n",
       "      <td>82494</td>\n",
       "      <td>16449</td>\n",
       "      <td>20094</td>\n",
       "      <td>41472</td>\n",
       "      <td>10251</td>\n",
       "      <td>88269</td>\n",
       "      <td>16125</td>\n",
       "      <td>17787</td>\n",
       "      <td>42936</td>\n",
       "      <td>11283</td>\n",
       "      <td>88128</td>\n",
       "    </tr>\n",
       "    <tr>\n",
       "      <th>4</th>\n",
       "      <td>7620</td>\n",
       "      <td>Papakura Local Board Area</td>\n",
       "      <td>11136</td>\n",
       "      <td>9864</td>\n",
       "      <td>19437</td>\n",
       "      <td>5196</td>\n",
       "      <td>45636</td>\n",
       "      <td>13632</td>\n",
       "      <td>13155</td>\n",
       "      <td>24786</td>\n",
       "      <td>6063</td>\n",
       "      <td>57636</td>\n",
       "      <td>17130</td>\n",
       "      <td>15429</td>\n",
       "      <td>32829</td>\n",
       "      <td>6933</td>\n",
       "      <td>72318</td>\n",
       "    </tr>\n",
       "    <tr>\n",
       "      <th>...</th>\n",
       "      <td>...</td>\n",
       "      <td>...</td>\n",
       "      <td>...</td>\n",
       "      <td>...</td>\n",
       "      <td>...</td>\n",
       "      <td>...</td>\n",
       "      <td>...</td>\n",
       "      <td>...</td>\n",
       "      <td>...</td>\n",
       "      <td>...</td>\n",
       "      <td>...</td>\n",
       "      <td>...</td>\n",
       "      <td>...</td>\n",
       "      <td>...</td>\n",
       "      <td>...</td>\n",
       "      <td>...</td>\n",
       "      <td>...</td>\n",
       "    </tr>\n",
       "    <tr>\n",
       "      <th>82</th>\n",
       "      <td>7615</td>\n",
       "      <td>Maungakiekie-Tamaki Local Board Area</td>\n",
       "      <td>15159</td>\n",
       "      <td>15456</td>\n",
       "      <td>32187</td>\n",
       "      <td>7203</td>\n",
       "      <td>70005</td>\n",
       "      <td>15381</td>\n",
       "      <td>18132</td>\n",
       "      <td>34659</td>\n",
       "      <td>8115</td>\n",
       "      <td>76284</td>\n",
       "      <td>14784</td>\n",
       "      <td>17079</td>\n",
       "      <td>36711</td>\n",
       "      <td>9531</td>\n",
       "      <td>78102</td>\n",
       "    </tr>\n",
       "    <tr>\n",
       "      <th>83</th>\n",
       "      <td>7612</td>\n",
       "      <td>Albert-Eden Local Board Area</td>\n",
       "      <td>17859</td>\n",
       "      <td>23340</td>\n",
       "      <td>44862</td>\n",
       "      <td>8634</td>\n",
       "      <td>94695</td>\n",
       "      <td>16710</td>\n",
       "      <td>25587</td>\n",
       "      <td>46386</td>\n",
       "      <td>9942</td>\n",
       "      <td>98622</td>\n",
       "      <td>15429</td>\n",
       "      <td>23328</td>\n",
       "      <td>46323</td>\n",
       "      <td>11550</td>\n",
       "      <td>96630</td>\n",
       "    </tr>\n",
       "    <tr>\n",
       "      <th>84</th>\n",
       "      <td>7613</td>\n",
       "      <td>Puketapapa Local Board Area</td>\n",
       "      <td>10032</td>\n",
       "      <td>13158</td>\n",
       "      <td>23601</td>\n",
       "      <td>6147</td>\n",
       "      <td>52938</td>\n",
       "      <td>10098</td>\n",
       "      <td>15078</td>\n",
       "      <td>25365</td>\n",
       "      <td>7014</td>\n",
       "      <td>57555</td>\n",
       "      <td>9549</td>\n",
       "      <td>13083</td>\n",
       "      <td>26040</td>\n",
       "      <td>8277</td>\n",
       "      <td>56949</td>\n",
       "    </tr>\n",
       "    <tr>\n",
       "      <th>85</th>\n",
       "      <td>7610</td>\n",
       "      <td>Waitemata Local Board Area</td>\n",
       "      <td>7881</td>\n",
       "      <td>29865</td>\n",
       "      <td>34473</td>\n",
       "      <td>4914</td>\n",
       "      <td>77136</td>\n",
       "      <td>7818</td>\n",
       "      <td>30387</td>\n",
       "      <td>38118</td>\n",
       "      <td>6543</td>\n",
       "      <td>82866</td>\n",
       "      <td>7206</td>\n",
       "      <td>26775</td>\n",
       "      <td>39333</td>\n",
       "      <td>8232</td>\n",
       "      <td>81546</td>\n",
       "    </tr>\n",
       "    <tr>\n",
       "      <th>86</th>\n",
       "      <td>2600</td>\n",
       "      <td>Kawerau District</td>\n",
       "      <td>1641</td>\n",
       "      <td>1134</td>\n",
       "      <td>2469</td>\n",
       "      <td>1122</td>\n",
       "      <td>6363</td>\n",
       "      <td>1716</td>\n",
       "      <td>1275</td>\n",
       "      <td>2733</td>\n",
       "      <td>1425</td>\n",
       "      <td>7146</td>\n",
       "      <td>1680</td>\n",
       "      <td>1332</td>\n",
       "      <td>2994</td>\n",
       "      <td>1527</td>\n",
       "      <td>7539</td>\n",
       "    </tr>\n",
       "  </tbody>\n",
       "</table>\n",
       "<p>87 rows × 17 columns</p>\n",
       "</div>"
      ],
      "text/plain": [
       "    Code                                  Name  pop13_u15  pop13_1529  \\\n",
       "0   3500               South Taranaki District       6078        4788   \n",
       "1   2000                      Waitomo District       2133        1584   \n",
       "2   7500                     Invercargill City      10254        9891   \n",
       "3   7604            Kaipatiki Local Board Area      15993       17985   \n",
       "4   7620             Papakura Local Board Area      11136        9864   \n",
       "..   ...                                   ...        ...         ...   \n",
       "82  7615  Maungakiekie-Tamaki Local Board Area      15159       15456   \n",
       "83  7612          Albert-Eden Local Board Area      17859       23340   \n",
       "84  7613           Puketapapa Local Board Area      10032       13158   \n",
       "85  7610            Waitemata Local Board Area       7881       29865   \n",
       "86  2600                      Kawerau District       1641        1134   \n",
       "\n",
       "    pop13_3064  pop13_ov65  pop13_tot  pop18_u15  pop18_1529  pop18_3064  \\\n",
       "0        11802        3909      26580       6219        4719       12264   \n",
       "1         3972        1218       8907       2082        1701        4071   \n",
       "2        23250        8301      51696      10560       10053       24249   \n",
       "3        39051        9462      82494      16449       20094       41472   \n",
       "4        19437        5196      45636      13632       13155       24786   \n",
       "..         ...         ...        ...        ...         ...         ...   \n",
       "82       32187        7203      70005      15381       18132       34659   \n",
       "83       44862        8634      94695      16710       25587       46386   \n",
       "84       23601        6147      52938      10098       15078       25365   \n",
       "85       34473        4914      77136       7818       30387       38118   \n",
       "86        2469        1122       6363       1716        1275        2733   \n",
       "\n",
       "    pop18_ov65  pop18_tot  pop23_u15  pop23_1529  pop23_3064  pop23_ov65  \\\n",
       "0         4332      27534       6171        4830       12906        5115   \n",
       "1         1446       9303       2022        1668        4197        1698   \n",
       "2         9345      54204      10233       10035       25083       10251   \n",
       "3        10251      88269      16125       17787       42936       11283   \n",
       "4         6063      57636      17130       15429       32829        6933   \n",
       "..         ...        ...        ...         ...         ...         ...   \n",
       "82        8115      76284      14784       17079       36711        9531   \n",
       "83        9942      98622      15429       23328       46323       11550   \n",
       "84        7014      57555       9549       13083       26040        8277   \n",
       "85        6543      82866       7206       26775       39333        8232   \n",
       "86        1425       7146       1680        1332        2994        1527   \n",
       "\n",
       "    pop23_tot  \n",
       "0       29025  \n",
       "1        9585  \n",
       "2       55599  \n",
       "3       88128  \n",
       "4       72318  \n",
       "..        ...  \n",
       "82      78102  \n",
       "83      96630  \n",
       "84      56949  \n",
       "85      81546  \n",
       "86       7539  \n",
       "\n",
       "[87 rows x 17 columns]"
      ]
     },
     "execution_count": 76,
     "metadata": {},
     "output_type": "execute_result"
    }
   ],
   "source": [
    "df"
   ]
  },
  {
   "cell_type": "code",
   "execution_count": null,
   "metadata": {},
   "outputs": [],
   "source": [
    "df.dtypes\n",
    "df.info()"
   ]
  },
  {
   "cell_type": "markdown",
   "metadata": {
    "slideshow": {
     "slide_type": "subslide"
    }
   },
   "source": [
    "### Query the table, asking for a single column of information\n",
    "- In pandas, a column is a 'series'"
   ]
  },
  {
   "cell_type": "code",
   "execution_count": null,
   "metadata": {
    "scrolled": true,
    "slideshow": {
     "slide_type": "fragment"
    }
   },
   "outputs": [],
   "source": [
    "# Get a series (column) of data\n",
    "df[\"Name\"]"
   ]
  },
  {
   "cell_type": "code",
   "execution_count": null,
   "metadata": {},
   "outputs": [],
   "source": [
    "df.loc[0:2, \"Name\"]"
   ]
  },
  {
   "cell_type": "code",
   "execution_count": null,
   "metadata": {},
   "outputs": [],
   "source": [
    "print(df[[\"Name\", \"pop23_ov65\"]])\n",
    "print(df.iloc[:, 3])"
   ]
  },
  {
   "cell_type": "code",
   "execution_count": null,
   "metadata": {},
   "outputs": [],
   "source": [
    "df.head()\n",
    "df[[\"Name\", \"pop23_ov65\"]]"
   ]
  },
  {
   "cell_type": "code",
   "execution_count": null,
   "metadata": {},
   "outputs": [],
   "source": [
    "df[df[\"Name\"] == \"Waitemata Local Board Area\"]"
   ]
  },
  {
   "cell_type": "code",
   "execution_count": null,
   "metadata": {},
   "outputs": [],
   "source": [
    "ov10m_old = df[(df[\"pop23_ov65\"] > 1000) & (df[\"Name\"] == \"Waitemata Local Board Area\") ]\n",
    "print(ov10m_old)"
   ]
  },
  {
   "cell_type": "code",
   "execution_count": null,
   "metadata": {},
   "outputs": [],
   "source": [
    "df.iloc[0:4, 2:5]\n",
    "print(df.head(20))"
   ]
  },
  {
   "cell_type": "markdown",
   "metadata": {
    "slideshow": {
     "slide_type": "subslide"
    }
   },
   "source": [
    "### Pandas makes statistically summarizing data easy"
   ]
  },
  {
   "cell_type": "code",
   "execution_count": null,
   "metadata": {
    "scrolled": true,
    "slideshow": {
     "slide_type": "fragment"
    }
   },
   "outputs": [],
   "source": [
    "# We can also simply ask pandas for stats\n",
    "# https://pandas.pydata.org/docs/getting_started/intro_tutorials/06_calculate_statistics.html\n",
    "df.describe()\n",
    "df[[\"pop18_u15\"]].describe()\n",
    "df.set_index('Name', inplace=True)"
   ]
  },
  {
   "cell_type": "code",
   "execution_count": null,
   "metadata": {},
   "outputs": [],
   "source": [
    "import matplotlib.pyplot as plt"
   ]
  },
  {
   "cell_type": "code",
   "execution_count": null,
   "metadata": {
    "scrolled": true,
    "slideshow": {
     "slide_type": "fragment"
    }
   },
   "outputs": [],
   "source": [
    "df[\"pop18_u15\"].plot(kind=\"bar\")\n",
    "plt.xlabel(\"Index\")\n",
    "plt.ylabel(\"Population under 15 in 2018\")\n",
    "plt.title(\"Population under 15 in 2018\")\n",
    "plt.show()"
   ]
  },
  {
   "cell_type": "code",
   "execution_count": null,
   "metadata": {},
   "outputs": [],
   "source": [
    "# Select the 'Name' and 'pop18_u15' columns\n",
    "df_selected = df[['Name', 'pop18_u15']]"
   ]
  },
  {
   "cell_type": "code",
   "execution_count": null,
   "metadata": {},
   "outputs": [],
   "source": [
    "df_selected"
   ]
  },
  {
   "cell_type": "code",
   "execution_count": null,
   "metadata": {},
   "outputs": [],
   "source": [
    "# Sort the DataFrame by the 'pop18_u15' column\n",
    "df_sorted = df_selected.sort_values(by='pop18_u15')\n",
    "\n",
    "# Set the 'Name' column as the index but keep it as a column\n",
    "df_sorted.set_index('Name', drop=False, inplace=True)\n",
    "\n",
    "# Plot the sorted DataFrame\n",
    "df_sorted['pop18_u15'].plot(kind='bar')\n",
    "plt.xlabel(\"Name\")\n",
    "plt.ylabel(\"Population under 15 in 2018\")\n",
    "plt.title(\"Population under 15 in 2018 (Sorted)\")\n",
    "plt.show()"
   ]
  },
  {
   "cell_type": "code",
   "execution_count": 63,
   "metadata": {},
   "outputs": [
    {
     "data": {
      "image/png": "[encoded data removed]",
      "text/plain": [
       "<Figure size 640x480 with 1 Axes>"
      ]
     },
     "metadata": {},
     "output_type": "display_data"
    }
   ],
   "source": [
    "df_sorted_new = df_sorted.head(15)\n",
    "\n",
    "# Plot the sorted DataFrame\n",
    "df_sorted_new['pop18_u15'].plot(kind='bar', color='skyblue', edgecolor='black')\n",
    "plt.xlabel(\"Name\")\n",
    "plt.ylabel(\"Population under 15 in 2018\")\n",
    "plt.title(\"Population under 15 in 2018 (Sorted)\")\n",
    "plt.show()"
   ]
  },
  {
   "cell_type": "markdown",
   "metadata": {
    "slideshow": {
     "slide_type": "slide"
    }
   },
   "source": [
    "### Groupby function\n",
    "- groupby allows us to summarize categorical values in a serries\n",
    "    - Excel has this function...\n",
    "    - Pandas does it better/on more data!\n",
    "        - The covid uk gov database... "
   ]
  },
  {
   "cell_type": "code",
   "execution_count": 81,
   "metadata": {
    "scrolled": true,
    "slideshow": {
     "slide_type": "slide"
    }
   },
   "outputs": [
    {
     "data": {
      "text/plain": [
       "City\n",
       "Auckland             71589.48\n",
       "Bay of Plenty        40127.08\n",
       "Canterbury           53384.84\n",
       "Gisborne             21454.20\n",
       "Hawke's Bay          33668.73\n",
       "Manawatu-Wanganui    34583.67\n",
       "Marlborough          29619.50\n",
       "Nelson               39973.50\n",
       "Northern Islands        72.00\n",
       "Northland            54405.60\n",
       "Otago                32924.33\n",
       "Southland            24943.12\n",
       "Taranaki             28077.86\n",
       "Tasman               30658.00\n",
       "Waikato              49930.74\n",
       "Wellington           52399.09\n",
       "West Coast           27166.25\n",
       "Name: pop23_tot, dtype: float64"
      ]
     },
     "execution_count": 81,
     "metadata": {},
     "output_type": "execute_result"
    }
   ],
   "source": [
    "df.groupby(\"City\")[\"pop23_tot\"].mean().round(2)"
   ]
  },
  {
   "cell_type": "code",
   "execution_count": 83,
   "metadata": {},
   "outputs": [
    {
     "data": {
      "text/plain": [
       "City\n",
       "Auckland             71589.48\n",
       "Bay of Plenty        40127.08\n",
       "Canterbury           53384.84\n",
       "Gisborne             21454.20\n",
       "Hawke's Bay          33668.73\n",
       "Manawatu-Wanganui    34583.67\n",
       "Marlborough          29619.50\n",
       "Nelson               39973.50\n",
       "Northern Islands        72.00\n",
       "Northland            54405.60\n",
       "Otago                32924.33\n",
       "Southland            24943.12\n",
       "Taranaki             28077.86\n",
       "Tasman               30658.00\n",
       "Waikato              49930.74\n",
       "Wellington           52399.09\n",
       "West Coast           27166.25\n",
       "Name: pop23_tot, dtype: float64"
      ]
     },
     "execution_count": 83,
     "metadata": {},
     "output_type": "execute_result"
    }
   ],
   "source": [
    "df.groupby(\"City\")[\"pop23_tot\"].mean().round(2)"
   ]
  },
  {
   "cell_type": "markdown",
   "metadata": {
    "slideshow": {
     "slide_type": "slide"
    }
   },
   "source": [
    "# Geopandas\n",
    "- Geopandas is the same as pandas with two important differences\n",
    "  1. it creates the 'geoSeries'\n",
    "  2. it creates the 'geoDataFrame'\n",
    "![](images/geopandas_logo.jpg)"
   ]
  },
  {
   "cell_type": "markdown",
   "metadata": {
    "slideshow": {
     "slide_type": "slide"
    }
   },
   "source": [
    "### First, install geopandas\n",
    "\n",
    "- Open the Anaconda Prompt\n",
    "  - conda install -c conda-forge geopandas\n",
    "- https://geopandas.org/getting_started.html\n",
    "\n",
    "<p style=\"background:black\">\n",
    "<code style=\"background:black;color:white\">(base) C:\\Users\\YOUR_USERNAME> conda install -c conda-forge geopandas\n",
    "</code>\n",
    "</p>"
   ]
  },
  {
   "cell_type": "markdown",
   "metadata": {
    "slideshow": {
     "slide_type": "fragment"
    }
   },
   "source": [
    "### Then test in the installation\n",
    "- To see if it works, just import the library"
   ]
  },
  {
   "cell_type": "markdown",
   "metadata": {
    "slideshow": {
     "slide_type": "slide"
    }
   },
   "source": [
    "### Useful packages\n",
    "- Geopandas (duh!)\n",
    "- folium (we will install this in a bit)\n",
    "  - if there is issue, ask in lab!\n",
    "- fiona (pre-installed: data import and export using GDAL tools)\n",
    "- PySAL (not needed yet: spatial analysis)\n",
    "- cartoPy (pre-installed:cartographic and projection)\n",
    "- shapely (pre-installed:already installed with pandas, but handles the geometery\n",
    "\n",
    "- remember pip and conda!\n",
    "<p style=\"background:black\">\n",
    "<code style=\"background:black;color:white\">(base) C:\\Users\\YOUR_USERNAME> pip install Descarts \n",
    "</code>\n",
    "</p>"
   ]
  },
  {
   "cell_type": "code",
   "execution_count": null,
   "metadata": {
    "scrolled": true,
    "slideshow": {
     "slide_type": "subslide"
    }
   },
   "outputs": [],
   "source": [
    "import pandas as pd\n",
    "import geopandas"
   ]
  },
  {
   "cell_type": "markdown",
   "metadata": {
    "slideshow": {
     "slide_type": "slide"
    }
   },
   "source": [
    "## Geopandas uses the same strucutre but adds geometry\n",
    "![](images/geodataframe.png)\n",
    "- https://geopandas.org/getting_started/introduction.html"
   ]
  },
  {
   "cell_type": "markdown",
   "metadata": {
    "slideshow": {
     "slide_type": "slide"
    }
   },
   "source": [
    "### What is geometry?\n",
    "- Good question. \n",
    "  - The purpose of geopandas is to add geometry (spatial) data\n",
    "  - But its also to add spatial operations, too. \n",
    "- First however we do need to know what geometry is:\n",
    "  - Its a represenatation of a spatial location\n",
    "    - It can only have one CRS (coordinate reference system)\n",
    "  - It can come in several types, well beyond point, line, and polygon\n",
    "    - We can actually mix points, lines, and polygons in the same geodataframe\n",
    "      - I _really_ don't recommend this. It's like mixing array items, but worse\n",
    "  - Spatial inforamtion is stored as spatially encoded objects (using a library called _shapely_ but we don't really need to know about it, it in turn is built on GDAL)\n",
    "- Lets use an example we are familiar with and make it spatial"
   ]
  },
  {
   "cell_type": "code",
   "execution_count": null,
   "metadata": {
    "scrolled": true,
    "slideshow": {
     "slide_type": "slide"
    }
   },
   "outputs": [],
   "source": [
    "# Return of our toy dict!\n",
    "mydict = {\n",
    "    \"restaurants\":[\n",
    "        {\n",
    "            \"name\":\"McDonalds\",\n",
    "            \"nickname\":\"Maccas\",\n",
    "            \"known-for\":\"Big Mac\",\n",
    "            \"likely-result\":\"heart-Attack\",\n",
    "            \"rating\":3            \n",
    "        },\n",
    "        {\n",
    "            \"name\":\"Burger King\",\n",
    "            \"nickname\":\"The King\",\n",
    "            \"known-for\":\"Whopper\",\n",
    "            \"rating\":2\n",
    "        },\n",
    "        {\n",
    "            \"name\":\"Burger Wisconsin\",\n",
    "            \"nickname\":\"Burg-Wickies\",\n",
    "            \"known-for\":\"Expensive Trash!\",            \n",
    "        },\n",
    "    ]\n",
    "}"
   ]
  },
  {
   "cell_type": "markdown",
   "metadata": {
    "slideshow": {
     "slide_type": "slide"
    }
   },
   "source": [
    "### Now add a spatial location for it\n",
    "- Ripped from Google Maps\n",
    "![](images/burger_location_gmaps.JPG)"
   ]
  },
  {
   "cell_type": "code",
   "execution_count": null,
   "metadata": {
    "scrolled": true,
    "slideshow": {
     "slide_type": "slide"
    }
   },
   "outputs": [],
   "source": [
    "# Add the lat/lon\n",
    "mydict = {\n",
    "    \"restaurants\":[\n",
    "        {\n",
    "            \"name\":\"McDonalds\",\n",
    "            \"nickname\":\"Maccas\",\n",
    "            \"known-for\":\"Big Mac\",\n",
    "            \"likely-result\":\"heart-Attack\",\n",
    "            \"rating\":3,\n",
    "            \"longitude\":174.7650551,\n",
    "            \"latitude\":-36.8500934,\n",
    "        },\n",
    "        {\n",
    "            \"name\":\"Burger King\",\n",
    "            \"nickname\":\"The King\",\n",
    "            \"known-for\":\"Whopper\",\n",
    "            \"rating\":2,\n",
    "            \"longitude\":174.76595,\n",
    "            \"latitude\":-36.8462059,\n",
    "        },\n",
    "        {\n",
    "            \"name\":\"Burger Wisconsin\",\n",
    "            \"nickname\":\"Burg-Wickies\",\n",
    "            \"known-for\":\"Expensive Trash!\",\n",
    "            \"longitude\":174.7459792,\n",
    "            \"latitude\":-36.855049\n",
    "        },\n",
    "    ]\n",
    "}"
   ]
  },
  {
   "cell_type": "markdown",
   "metadata": {
    "slideshow": {
     "slide_type": "slide"
    }
   },
   "source": [
    "### Convert to dataframe-like dict"
   ]
  },
  {
   "cell_type": "code",
   "execution_count": null,
   "metadata": {
    "scrolled": true,
    "slideshow": {
     "slide_type": "subslide"
    }
   },
   "outputs": [],
   "source": [
    "# Same again on the convert front...\n",
    "restos = {\n",
    "    \"name\":[],\n",
    "    \"nickname\":[],\n",
    "    \"known-for\":[],\n",
    "    \"likely-result\":[],\n",
    "    \"rating\":[],\n",
    "    \"latitude\":[],\n",
    "    \"longitude\":[],\n",
    "}\n",
    "\n",
    "for r in mydict[\"restaurants\"]:\n",
    "    restos[\"name\"].append(r.get(\"name\")) # the data is set to None if it does not exist\n",
    "    restos[\"nickname\"].append(r.get(\"nickname\"))\n",
    "    restos[\"known-for\"].append(r.get(\"known-for\"))\n",
    "    restos[\"likely-result\"].append(r.get(\"likely-result\"))\n",
    "    restos[\"rating\"].append(r.get(\"rating\")) \n",
    "    restos[\"latitude\"].append(r.get(\"latitude\")) \n",
    "    restos[\"longitude\"].append(r.get(\"longitude\")) \n"
   ]
  },
  {
   "cell_type": "code",
   "execution_count": null,
   "metadata": {
    "scrolled": true,
    "slideshow": {
     "slide_type": "subslide"
    }
   },
   "outputs": [],
   "source": [
    "restos_df = pd.DataFrame(restos) # make a dataframe\n",
    "\n",
    "# Use geopandas to take the raw floats of the lat lon and turn them into a geospatially meaningful object\n",
    "restos_gdf = geopandas.GeoDataFrame(\n",
    "    restos_df, geometry=geopandas.points_from_xy(restos_df.longitude, restos_df.latitude))\n",
    "\n",
    "# POINT\n",
    "print(restos_gdf)"
   ]
  },
  {
   "cell_type": "code",
   "execution_count": null,
   "metadata": {
    "scrolled": true,
    "slideshow": {
     "slide_type": "subslide"
    }
   },
   "outputs": [],
   "source": [
    "import matplotlib.pyplot as plt\n",
    "# Get the built in basic outlines... (soon to be depreceated but I will ignore until forced heh)\n",
    "world = geopandas.read_file(geopandas.datasets.get_path('naturalearth_lowres'))\n",
    "\n",
    "# We restrict to New Zealand\n",
    "ax = world[world.name == 'New Zealand'].plot(color='white', edgecolor='black')\n",
    "\n",
    "# We can now plot our ``GeoDataFrame``.\n",
    "restos_gdf.plot(ax=ax, color='red')\n",
    "\n",
    "plt.show()"
   ]
  },
  {
   "cell_type": "markdown",
   "metadata": {
    "slideshow": {
     "slide_type": "slide"
    }
   },
   "source": [
    "### Things we can do with geopandas\n",
    "- Geopandas is primarilly used for data manipulation. \n",
    "- Most of the analysis and cartographic operations are handled by other packages that integrate well with pandas \n",
    "- Pandas is great with spatial data mangement though and this means we can\n",
    "  - Join data (table join and spatial join) \n",
    "- Today we are just going to cover the basics. \n",
    "  - Getting data into geopandas\n",
    "    - Create some data from stractch (done!)\n",
    "    - Open some data in a csv file with x,y locations\n",
    "    - Open a shapefile\n",
    "  - Style the data with plots and background maps\n",
    "    - Take a look at folium\n",
    "  - Adding data to spatial data\n",
    "    - Table join\n",
    "    - Spatial join\n",
    "  - Basic geo-stats\n",
    "    - Just some little things for your assignments. nothing major.\n",
    "    - Area, length, overlay, search\n",
    "  \n",
    "    \n",
    "  "
   ]
  },
  {
   "cell_type": "markdown",
   "metadata": {
    "slideshow": {
     "slide_type": "slide"
    }
   },
   "source": [
    "### Loading data\n",
    "- Really easy to do with geopandas.\n",
    "- Here is how you load a shapefile\n",
    "  - Note here that we are actually loading a zip file!\n",
    "    - This is simply awesome that we can do this, as it means we no longer have to mess about with .shp .shx .prj .dbf\n",
    "    - You can actually store your entire dataset in a zip file with multiple folders and datasets. it is simply fantastic!\n"
   ]
  },
  {
   "cell_type": "code",
   "execution_count": null,
   "metadata": {
    "scrolled": true,
    "slideshow": {
     "slide_type": "subslide"
    }
   },
   "outputs": [],
   "source": [
    "# Requires fiona, conda install fiona\n",
    "import geopandas\n",
    "data_location = \"zip://data/doc-tracks.zip\" # a string to hold the file location (relative path!)\n",
    "tracks_gdf = geopandas.read_file(data_location) # read the file\n",
    "tracks_gdf.head()\n",
    "\n",
    "## helpful tip!\n",
    "# if you only want to test that things are working you can tell pandas to only load a few spatial features\n",
    "# all you have to do is send is the rows argument\n",
    "# https://geopandas.org/docs/user_guide/io.html\n",
    "#test_tracks_gdf = geopandas.read_file(data_location, rows=10)"
   ]
  },
  {
   "cell_type": "markdown",
   "metadata": {
    "slideshow": {
     "slide_type": "subslide"
    }
   },
   "source": [
    "- And we can have a look at the data too"
   ]
  },
  {
   "cell_type": "code",
   "execution_count": null,
   "metadata": {
    "scrolled": true,
    "slideshow": {
     "slide_type": "subslide"
    }
   },
   "outputs": [],
   "source": [
    "# tracks_gdf.head() # show me the rows\n",
    "\n",
    "import matplotlib.pyplot as plt\n",
    "world = geopandas.read_file(geopandas.datasets.get_path('naturalearth_lowres'))\n",
    "\n",
    "# We restrict to New Zealand - a spatial filtering operations!\n",
    "ax = world[world.name == 'New Zealand'].plot(\n",
    "    color='white', edgecolor='black')\n",
    "tracks_gdf.plot(ax=ax, color='red')\n",
    "plt.show()\n"
   ]
  },
  {
   "cell_type": "markdown",
   "metadata": {
    "slideshow": {
     "slide_type": "slide"
    }
   },
   "source": [
    "### The matplotlib map looks cool in a retro way\n",
    "- What we really want is to make it look like a modern web map\n",
    "- We can use the folium library\n",
    "- Install folium using\n",
    "\n",
    "<p style=\"background:black\">\n",
    "<code style=\"background:black;color:white\">(base) C:\\Users\\YOUR_USERNAME> pip install folium \n",
    "</code>\n",
    "</p>\n",
    "\n",
    "- or if you are using the geo_env (on a lab computer)\n",
    "\n",
    "<p style=\"background:black\">\n",
    "<code style=\"background:black;color:white\">(geo_env) C:\\Users\\YOUR_USERNAME> conda install -c conda-forge folium \n",
    "</code>\n",
    "</p>\n",
    "\n",
    "- Folium also works great with the Python API for GEE map display, just for those folks interested in that side of things"
   ]
  },
  {
   "cell_type": "code",
   "execution_count": null,
   "metadata": {
    "scrolled": true,
    "slideshow": {
     "slide_type": "subslide"
    }
   },
   "outputs": [],
   "source": [
    "import pandas as pd\n",
    "import geopandas\n",
    "import folium # this requires folium to be installed. from cmd.exe prompt use: pip install folium\n",
    "import matplotlib.pyplot as plt\n",
    "\n",
    "from shapely.geometry import Point\n"
   ]
  },
  {
   "cell_type": "code",
   "execution_count": null,
   "metadata": {
    "scrolled": true,
    "slideshow": {
     "slide_type": "subslide"
    }
   },
   "outputs": [],
   "source": [
    "# Other maps to try: tiles='OpenStreetMap' , tiles='Stamen Toner' , 'cartodbpositron'\n",
    "map = folium.Map(location = [-39.8,174.7], tiles = \"Stamen Terrain\", zoom_start = 6)\n",
    "\n",
    "# folium is a lot like leaflet\n",
    "# folium only accepts geojson files\n",
    "gjson = tracks_gdf.to_crs(epsg='4326').to_json() # convert to geojson, and make sure the shapfile is in WGS84 (SRID:4326)\n",
    "lines = folium.features.GeoJson(gjson) # use the geojson variable, and create the features in folium format\n",
    "\n",
    "map.add_child(lines) # add the data to folium, 'child' is what folium calls layers\n",
    "map # show the map, ooo it be interactive!\n"
   ]
  },
  {
   "cell_type": "markdown",
   "metadata": {
    "slideshow": {
     "slide_type": "subslide"
    }
   },
   "source": [
    "- If you want to know more, I found [this website useful](https://ocefpaf.github.io/python4oceanographers/blog/2015/12/14/geopandas_folium/)"
   ]
  },
  {
   "cell_type": "markdown",
   "metadata": {
    "slideshow": {
     "slide_type": "slide"
    }
   },
   "source": [
    "### Geodataframes are pandas dataframes too\n",
    "- Because the geodataframe is built on top of the pandas library, we can actually do everything we could do with pandas before.\n",
    "  - For example, we could describe and plot!"
   ]
  },
  {
   "cell_type": "code",
   "execution_count": null,
   "metadata": {
    "scrolled": true,
    "slideshow": {
     "slide_type": "subslide"
    }
   },
   "outputs": [],
   "source": [
    "tracks_gdf.describe()\n"
   ]
  },
  {
   "cell_type": "code",
   "execution_count": null,
   "metadata": {
    "scrolled": true,
    "slideshow": {
     "slide_type": "subslide"
    }
   },
   "outputs": [],
   "source": [
    "tracks_gdf[\"STLength\"].plot.line()\n"
   ]
  },
  {
   "cell_type": "markdown",
   "metadata": {
    "slideshow": {
     "slide_type": "slide"
    }
   },
   "source": [
    "### What about csv, thanks.\n",
    "- Yes csv are totally possible too. \n",
    "  - Open the csv as a pandas dataframe\n",
    "  - Convert to geopandas \n",
    "  - Et Volia!"
   ]
  },
  {
   "cell_type": "code",
   "execution_count": null,
   "metadata": {
    "scrolled": true,
    "slideshow": {
     "slide_type": "subslide"
    }
   },
   "outputs": [],
   "source": [
    "file_location = 'data/myLocations.csv'\n",
    "\n",
    "import pandas as pd\n",
    "\n",
    "myLocations_df = pd.read_csv(file_location)\n",
    "\n",
    "myLocations_df\n"
   ]
  },
  {
   "cell_type": "code",
   "execution_count": null,
   "metadata": {
    "scrolled": true,
    "slideshow": {
     "slide_type": "subslide"
    }
   },
   "outputs": [],
   "source": [
    "myLocations_gdf = geopandas.GeoDataFrame(myLocations_df,geometry=geopandas.points_from_xy(myLocations_df.x,myLocations_df.y),crs='EPSG:4326')\n",
    "myLocations_gdf.head()\n"
   ]
  },
  {
   "cell_type": "code",
   "execution_count": null,
   "metadata": {
    "scrolled": true,
    "slideshow": {
     "slide_type": "subslide"
    }
   },
   "outputs": [],
   "source": [
    "# other maps to try: tiles='OpenStreetMap' , tiles='Stamen Toner' , 'cartodbpositron'\n",
    "myLocations_map = folium.Map(location = [-39.8,174.7], tiles = \"Stamen Toner\", zoom_start = 6)\n",
    "\n",
    "myLocations_gjson = myLocations_gdf.to_json() # convert to geojson (it is already in wgs84)\n",
    "myLocations_points = folium.features.GeoJson(myLocations_gjson) # use the geojson variable, and create the features in folium format\n",
    "\n",
    "myLocations_map.add_child(myLocations_points) # add the data to folium\n",
    "myLocations_map # show the map\n",
    "\n",
    "# fun fact! \n",
    "# if you need to create random coordiates, use the following excel equations\n",
    "# =RANDBETWEEN(-4160,-3700)/100\n",
    "# =RANDBETWEEN(17300,17800)/100"
   ]
  },
  {
   "cell_type": "markdown",
   "metadata": {
    "slideshow": {
     "slide_type": "slide"
    }
   },
   "source": [
    "## Adding data using a join\n",
    "- Before now, we haven't used any kind of data joins. \n",
    "- But, as you may know, joining data is a big thing in GIS\n",
    "  - Joins allow us to link multiple datasets together\n",
    "  - Joins allow us to easily make non-spatial data -> spatial"
   ]
  },
  {
   "cell_type": "markdown",
   "metadata": {
    "slideshow": {
     "slide_type": "fragment"
    }
   },
   "source": [
    "- Doing table joins is actually not a geopandas thing, its a pandas thing.\n",
    "  - We could have done this before the break, but we didn't really need to \n",
    "  - Using pandas, we can table joins realtively easily.\n",
    "- Lets consider the previous geopandas data table, and some data we want to join to it  "
   ]
  },
  {
   "cell_type": "code",
   "execution_count": null,
   "metadata": {
    "scrolled": true,
    "slideshow": {
     "slide_type": "subslide"
    }
   },
   "outputs": [],
   "source": [
    "myLocations_gdf\n"
   ]
  },
  {
   "cell_type": "code",
   "execution_count": null,
   "metadata": {
    "scrolled": true,
    "slideshow": {
     "slide_type": "subslide"
    }
   },
   "outputs": [],
   "source": [
    "myLocations_joinData_df = pd.read_csv('data/myLocations_tableJoin.csv')\n",
    "myLocations_joinData_df\n"
   ]
  },
  {
   "cell_type": "markdown",
   "metadata": {
    "slideshow": {
     "slide_type": "slide"
    }
   },
   "source": [
    "### In Geopandas we use merge for a table join\n",
    "- Furthermore, we use a 'left join'\n",
    "  - A left join means that the features on the left (original) table will be preserved\n",
    "  - More on this when we talk about databases...\n",
    "- The operation is done 'on' the geodataframe\n",
    "- The result of the operation makes a new geoDataFrame"
   ]
  },
  {
   "cell_type": "code",
   "execution_count": null,
   "metadata": {
    "scrolled": true,
    "slideshow": {
     "slide_type": "subslide"
    }
   },
   "outputs": [],
   "source": [
    "# To make things simple, make the joining fields have the same name.\n",
    "myLocations_joinData_df\n",
    "joined_gdf = myLocations_gdf.merge(myLocations_joinData_df,how='left',left_on='name',right_on='location_name')\n",
    "joined_gdf\n"
   ]
  },
  {
   "cell_type": "markdown",
   "metadata": {
    "slideshow": {
     "slide_type": "slide"
    }
   },
   "source": [
    "### Okay, but we want spatial joins!\n",
    "- We are a gis class after all.\n",
    "- In the data folder, I've included the SA2 (statistical Area 2 shapefile)\n",
    "- In our Spatial Join, we are going to append the names of the SA2 to the random locations that we've been adding to above"
   ]
  },
  {
   "cell_type": "code",
   "execution_count": null,
   "metadata": {
    "scrolled": true,
    "slideshow": {
     "slide_type": "subslide"
    }
   },
   "outputs": [],
   "source": [
    "# First we need to open our shapefile\n",
    "data_location = \"zip://data/SA2.zip\" # a string to hold the file location\n",
    "\n",
    "# Note that we are taking it straight from the zip. PANDAS POWER!\n",
    "SA2_gdf = geopandas.read_file(data_location,crs='EPSG:4326') # read the file\n",
    "SA2_gdf.head()\n"
   ]
  },
  {
   "cell_type": "markdown",
   "metadata": {
    "slideshow": {
     "slide_type": "subslide"
    }
   },
   "source": [
    "- The operation name for a spatial join is sjoin\n",
    "  - Info on [sjoin](https://geopandas.org/docs/user_guide/mergingdata.html)\n",
    "  - sjoin takes the parameter 'op' to represent the topology rule for the spatial join\n",
    "    - For example: intersects, contains, within, touches, overlaps\n",
    "  - It also uses 'how' and we'll use the same as before 'left' for a left join"
   ]
  },
  {
   "cell_type": "code",
   "execution_count": null,
   "metadata": {
    "scrolled": true,
    "slideshow": {
     "slide_type": "subslide"
    }
   },
   "outputs": [],
   "source": [
    "# Note the left join again, and the spatial style of operation (op)\n",
    "sjoined_gdf = geopandas.sjoin(joined_gdf, SA2_gdf, op='intersects',how='left')\n",
    "\n",
    "sjoined_gdf.head(10)\n"
   ]
  },
  {
   "cell_type": "markdown",
   "metadata": {
    "slideshow": {
     "slide_type": "slide"
    }
   },
   "source": [
    "### Last Thing.\n",
    "- Can we do analysis with geopandas?\n",
    "  - yes we can :)\n",
    "  - buffer\n",
    "  - dissolve\n",
    "  - area/length"
   ]
  },
  {
   "cell_type": "markdown",
   "metadata": {
    "slideshow": {
     "slide_type": "fragment"
    }
   },
   "source": [
    "- Back to our trusty doc-tracks"
   ]
  },
  {
   "cell_type": "code",
   "execution_count": null,
   "metadata": {
    "scrolled": true,
    "slideshow": {
     "slide_type": "subslide"
    }
   },
   "outputs": [],
   "source": [
    "import geopandas\n",
    "data_location = \"zip://data/doc-tracks.zip\" # a string to hold the file location\n",
    "tracks_gdf = geopandas.read_file(data_location) # read the file, but really lets not go overboard\n",
    "tracks_gdf = tracks_gdf.head(100)\n",
    "tracks_gdf\n"
   ]
  },
  {
   "cell_type": "markdown",
   "metadata": {
    "slideshow": {
     "slide_type": "slide"
    }
   },
   "source": [
    "### Buffer\n",
    "- This falls under ['Geometric Manipluations'](https://geopandas.org/docs/user_guide/geometric_manipulations.html)\n",
    "  - Other similar operations include:\n",
    "    - envelope (extent)\n",
    "    - centroid (center)\n",
    "    - simplify\n",
    "    - intersection"
   ]
  },
  {
   "cell_type": "code",
   "execution_count": null,
   "metadata": {
    "scrolled": true,
    "slideshow": {
     "slide_type": "subslide"
    }
   },
   "outputs": [],
   "source": [
    "# first change to NZTM 2000 so we can measure properly in meters\n",
    "tracks_gdf = tracks_gdf.to_crs(epsg=\"2193\")\n"
   ]
  },
  {
   "cell_type": "code",
   "execution_count": null,
   "metadata": {
    "scrolled": true,
    "slideshow": {
     "slide_type": "fragment"
    }
   },
   "outputs": [],
   "source": [
    "# buffer the tracks, in map units (will be defined by your CRS)\n",
    "buffer_tracks = tracks_gdf.buffer(1000)\n"
   ]
  },
  {
   "cell_type": "code",
   "execution_count": null,
   "metadata": {
    "scrolled": true,
    "slideshow": {
     "slide_type": "subslide"
    }
   },
   "outputs": [],
   "source": [
    "# Other maps to try: tiles='OpenStreetMap' , tiles='Stamen Toner' , 'cartodbpositron'\n",
    "map = folium.Map(location = [-39.8,174.7], tiles = \"Stamen Terrain\", zoom_start = 6)\n",
    "\n",
    "gjson = buffer_tracks.to_crs(epsg='4326').to_json() # convert to geojson, and make sure the shapfile is in WGS84 (SRID:4326)\n",
    "lines = folium.features.GeoJson(gjson) # use the geojson variable, and create the features in folium format\n",
    "\n",
    "map.add_child(lines) # add the data to folium\n",
    "map # show the map\n"
   ]
  },
  {
   "cell_type": "markdown",
   "metadata": {
    "slideshow": {
     "slide_type": "slide"
    }
   },
   "source": [
    "### Dissolve\n",
    "- Dissolve is both a spatial dissolve and a aggregate function, like groupby. \n",
    "  - As a result, we need to give it a attribute field (series) to groupby, even if we don't need it.\n",
    "  - We can append a series that just equals 1 for the whole column for our purposes.\n",
    "  "
   ]
  },
  {
   "cell_type": "code",
   "execution_count": null,
   "metadata": {
    "scrolled": true,
    "slideshow": {
     "slide_type": "subslide"
    }
   },
   "outputs": [],
   "source": [
    "buffer_tracks = geopandas.GeoDataFrame(geometry=buffer_tracks.geometry)\n",
    "\n",
    "buffer_tracks['disfield'] =1 # dummy value\n",
    "b= buffer_tracks.dissolve(by='disfield') # Note the type of geometry that this generates\n",
    "b.head()\n"
   ]
  },
  {
   "cell_type": "code",
   "execution_count": null,
   "metadata": {
    "scrolled": true,
    "slideshow": {
     "slide_type": "subslide"
    }
   },
   "outputs": [],
   "source": [
    "# other maps to try: tiles='OpenStreetMap' , tiles='Stamen Toner' , 'cartodbpositron'\n",
    "map = folium.Map(location = [-39.8,174.7], tiles = \"Stamen Terrain\", zoom_start = 6)\n",
    "\n",
    "# folium is a lot like leaflet\n",
    "# folium only accepts geojson files\n",
    "gjson = b.to_crs(epsg='4326').to_json() # convert to geojson, and make sure the shapfile is in WGS84 (SRID:4326)\n",
    "lines = folium.features.GeoJson(gjson) # use the geojson variable, and create the features in folium format\n",
    "\n",
    "map.add_child(lines) # add the data to folium\n",
    "map # show the map\n"
   ]
  },
  {
   "cell_type": "markdown",
   "metadata": {
    "slideshow": {
     "slide_type": "slide"
    }
   },
   "source": [
    "### Area and Length\n",
    "- These are built in pretty easily\n",
    "- For area of a polygon"
   ]
  },
  {
   "cell_type": "code",
   "execution_count": null,
   "metadata": {
    "scrolled": true,
    "slideshow": {
     "slide_type": "fragment"
    }
   },
   "outputs": [],
   "source": [
    "buffer_tracks.head(5)\n",
    "buffer_tracks.area\n"
   ]
  },
  {
   "cell_type": "code",
   "execution_count": null,
   "metadata": {
    "scrolled": true,
    "slideshow": {
     "slide_type": "subslide"
    }
   },
   "outputs": [],
   "source": [
    "buffer_tracks[\"area\"] = buffer_tracks.area\n"
   ]
  },
  {
   "cell_type": "code",
   "execution_count": null,
   "metadata": {
    "scrolled": true,
    "slideshow": {
     "slide_type": "fragment"
    }
   },
   "outputs": [],
   "source": [
    "buffer_tracks.head(5)\n"
   ]
  },
  {
   "cell_type": "markdown",
   "metadata": {
    "slideshow": {
     "slide_type": "slide"
    }
   },
   "source": [
    "### Length\n",
    "- Length is the same thing, but we need to use a line\n",
    "  - We can use the tracks file"
   ]
  },
  {
   "cell_type": "code",
   "execution_count": null,
   "metadata": {
    "scrolled": true,
    "slideshow": {
     "slide_type": "subslide"
    }
   },
   "outputs": [],
   "source": [
    "data_location = \"zip://data/doc-tracks.zip\" # a string to hold the file location\n",
    "tracks_gdf = geopandas.read_file(data_location) # read the file\n",
    "tracks_gdf.head()\n",
    "\n",
    "final_example = tracks_gdf.head(10).to_crs(epsg='4326') # Expect a red box to pop up due to this...\n",
    "final_example[\"length_of_track\"] = final_example.length\n",
    "final_example\n"
   ]
  },
  {
   "cell_type": "markdown",
   "metadata": {
    "slideshow": {
     "slide_type": "slide"
    }
   },
   "source": [
    "### Wait a second... \n",
    "- those length values are off. why?"
   ]
  },
  {
   "cell_type": "code",
   "execution_count": null,
   "metadata": {
    "scrolled": true,
    "slideshow": {
     "slide_type": "subslide"
    }
   },
   "outputs": [],
   "source": [
    "data_location = \"zip://data/doc-tracks.zip\" # a string to hold the file location\n",
    "tracks_gdf = geopandas.read_file(data_location) # read the file\n",
    "tracks_gdf.head()\n",
    "# first change to NZTM 2000 so we can measure properly in meters\n",
    "tracks_gdf = tracks_gdf.to_crs(epsg=\"2193\")\n",
    "\n",
    "\n",
    "final_example = tracks_gdf.head(10).copy() # easier if we copy of the object to keep things clean...\n",
    "final_example[\"length_of_track\"] = final_example.length\n",
    "final_example\n"
   ]
  },
  {
   "cell_type": "markdown",
   "metadata": {
    "slideshow": {
     "slide_type": "slide"
    }
   },
   "source": [
    "### Searching for a specific item in the Geopandas Dataframe\n",
    "- One of the important things you can do with pandas is to use the 'loc' function. it allows us to 'search' in out data. \n",
    "  - You can find a specific name, or evaluate a boolean. \n",
    "    - The boolean operations allo use to 'select' data like, find all highways with a speed limit of 100kph or higher."
   ]
  },
  {
   "cell_type": "code",
   "execution_count": null,
   "metadata": {
    "scrolled": true,
    "slideshow": {
     "slide_type": "subslide"
    }
   },
   "outputs": [],
   "source": [
    "data_location = \"zip://data/SA2.zip\" # A string to hold the file location\n",
    "SA2_gdf = geopandas.read_file(data_location,crs='EPSG:4326') # Read the file\n",
    "poly = SA2_gdf.loc[SA2_gdf['SA22018__1']=='Coromandel'] # Find a specific SA2 by name\n",
    "poly\n"
   ]
  },
  {
   "cell_type": "code",
   "execution_count": null,
   "metadata": {
    "scrolled": true,
    "slideshow": {
     "slide_type": "subslide"
    }
   },
   "outputs": [],
   "source": [
    "# Find all of the really large land areas of SA2's\n",
    "poly = SA2_gdf.loc[SA2_gdf['LAND_AREA_']>5000]\n",
    "poly\n"
   ]
  },
  {
   "cell_type": "markdown",
   "metadata": {
    "slideshow": {
     "slide_type": "slide"
    }
   },
   "source": [
    "### And thats all, folks!\n",
    "- We covered a lot of ground today\n",
    "  - Dictionaries\n",
    "  - Pandas\n",
    "  - Geopandas"
   ]
  },
  {
   "cell_type": "markdown",
   "metadata": {
    "slideshow": {
     "slide_type": "slide"
    }
   },
   "source": [
    "# Homework\n",
    "\n",
    "### 1. Create a pandas dataframe from the dictionary in the cell below, then tell me Michael's average in the series \"karma\". Round down to the nearest whole number."
   ]
  },
  {
   "cell_type": "code",
   "execution_count": null,
   "metadata": {
    "scrolled": false,
    "slideshow": {
     "slide_type": "subslide"
    }
   },
   "outputs": [],
   "source": [
    "postdata = {'posts': [{'author': 'Michael', 'postid': 22, 'karma': 15},\n",
    "  {'author': 'Michael', 'postid': 23, 'karma': 15},\n",
    "  {'author': 'Michael', 'postid': 25, 'karma': 6},\n",
    "  {'author': 'Michael', 'postid': 26, 'karma': 200},\n",
    "  {'author': 'Michael', 'postid': 27, 'karma': 76},\n",
    "  {'author': 'Michael', 'postid': 28, 'karma': 2},\n",
    "  {'author': 'Sila', 'postid': 29, 'karma': 73},\n",
    "  {'author': 'Michael', 'postid': 30, 'karma': 3},\n",
    "  {'author': 'Michael', 'postid': 31, 'karma': 1},\n",
    "  {'author': 'Michael', 'postid': 32, 'karma': 5},\n",
    "  {'author': 'Michael', 'postid': 33, 'karma': 15},\n",
    "  {'author': 'Michael', 'postid': 34, 'karma': 54},\n",
    "  {'author': 'Amber', 'postid': 35, 'karma': 15},\n",
    "  {'author': 'Michael', 'postid': 36, 'karma': 16},\n",
    "  {'author': 'Michael', 'postid': 37, 'karma': 65},\n",
    "  {'author': 'Michael', 'postid': 38, 'karma': 25},\n",
    "  {'author': 'Michael', 'postid': 39, 'karma': 66},\n",
    "  {'author': 'Michael', 'postid': 40, 'karma': 12},\n",
    "  {'author': 'Amber', 'postid': 41, 'karma': 32},\n",
    "  {'author': 'Michael', 'postid': 42, 'karma': 61},\n",
    "  {'author': 'Michael', 'postid': 43, 'karma': 63},\n",
    "  {'author': 'Michael', 'postid': 44, 'karma': 78},\n",
    "  {'author': 'Sila', 'postid': 45, 'karma': 63},\n",
    "  {'author': 'Michael', 'postid': 46, 'karma': 98},\n",
    "  {'author': 'Michael', 'postid': 47, 'karma': 97},\n",
    "  {'author': 'Michael', 'postid': 48, 'karma': 16},\n",
    "  {'author': 'Sila', 'postid': 49, 'karma': 96},\n",
    "  {'author': 'Michael', 'postid': 50, 'karma': 22},\n",
    "  {'author': 'Michael', 'postid': 51, 'karma': 33},\n",
    "  {'author': 'Michael', 'postid': 52, 'karma': 6},\n",
    "  {'author': 'Amber', 'postid': 53, 'karma': 66},\n",
    "  {'author': 'Michael', 'postid': 54, 'karma': 47},\n",
    "  {'author': 'Michael', 'postid': 55, 'karma': 32},\n",
    "  {'author': 'Michael', 'postid': 56, 'karma': 15}]}"
   ]
  },
  {
   "cell_type": "markdown",
   "metadata": {
    "slideshow": {
     "slide_type": "subslide"
    }
   },
   "source": [
    "### 2. In the supplied zip file \"doc-regions\" (in the data directory), What is the name of the smallest region by area?"
   ]
  }
 ],
 "metadata": {
  "celltoolbar": "Slideshow",
  "kernelspec": {
   "display_name": "Python 3 (ipykernel)",
   "language": "python",
   "name": "python3"
  },
  "language_info": {
   "codemirror_mode": {
    "name": "ipython",
    "version": 3
   },
   "file_extension": ".py",
   "mimetype": "text/x-python",
   "name": "python",
   "nbconvert_exporter": "python",
   "pygments_lexer": "ipython3",
   "version": "3.11.4"
  }
 },
 "nbformat": 4,
 "nbformat_minor": 2
}
