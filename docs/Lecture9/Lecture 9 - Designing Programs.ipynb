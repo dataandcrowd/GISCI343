{
 "cells": [
  {
   "cell_type": "markdown",
   "metadata": {
    "slideshow": {
     "slide_type": "slide"
    }
   },
   "source": [
    "# Lecture 9 - Designing Programs\n",
    "![](images/designer-user_models.jpg)"
   ]
  },
  {
   "cell_type": "markdown",
   "metadata": {
    "slideshow": {
     "slide_type": "slide"
    }
   },
   "source": [
    "## Concepts\n",
    "- Mental Models (of everyday things)\n",
    "  - Activity\n",
    "- User Centered Design\n",
    "- Personas\n",
    "  - Activity\n",
    "- User Scenarios\n",
    "  - Activity\n",
    "- Graphical User Interfaces (GUI)\n",
    "  - Paper prototyping\n",
    "    - Activity"
   ]
  },
  {
   "cell_type": "markdown",
   "metadata": {
    "slideshow": {
     "slide_type": "slide"
    }
   },
   "source": [
    "# Mental models\n",
    "### Mental models are the way we see how something works in our minds\n",
    "- When confronted with an object we need to think about how it works.\n",
    "- We can often operate something if our mental model is wrong, but having the correct mental model is what allows us to modify the system correctly\n"
   ]
  },
  {
   "cell_type": "markdown",
   "metadata": {
    "slideshow": {
     "slide_type": "slide"
    }
   },
   "source": [
    "![](images/larson.jpg)"
   ]
  },
  {
   "cell_type": "markdown",
   "metadata": {
    "slideshow": {
     "slide_type": "slide"
    }
   },
   "source": [
    "### We laugh at this cartoon, but the design of doors is really important!\n",
    "<img src=\"images/norman-cover.jpg\" width=\"300px\" />"
   ]
  },
  {
   "cell_type": "markdown",
   "metadata": {
    "slideshow": {
     "slide_type": "slide"
    }
   },
   "source": [
    "### Norman explains that confusion between models and design cause signficant problems\n",
    "\n",
    "<img src=\"images/postoffice.jpg\" width=\"1000px\" />"
   ]
  },
  {
   "cell_type": "markdown",
   "metadata": {
    "slideshow": {
     "slide_type": "slide"
    }
   },
   "source": [
    "### Affordances\n",
    "- _\"Plates are for pushing, knobs are for turning. Slots are for inserting things, balls are for thowing or bouncing things. When affordances are taken advantage of, the user knows what to do without instruction\"\n",
    "    - This is an example of a heuristic\n",
    "- Example of the 'psychology of materials'\n",
    "  - Bus shelters made of glass vs. plywood\n"
   ]
  },
  {
   "cell_type": "markdown",
   "metadata": {
    "slideshow": {
     "slide_type": "slide"
    }
   },
   "source": [
    "<img src=\"images/affordances.jpg\" width=\"600px\" />"
   ]
  },
  {
   "cell_type": "markdown",
   "metadata": {
    "slideshow": {
     "slide_type": "slide"
    }
   },
   "source": [
    "### Conceptual Models\n",
    "- Conceptual models give us an idea of how the object should work. we can see instantly _how_ it works, or doesn't. we understand why it does, or doesn't\n",
    "![](images/tandem-bicycle.jpg)"
   ]
  },
  {
   "cell_type": "markdown",
   "metadata": {
    "slideshow": {
     "slide_type": "slide"
    }
   },
   "source": [
    "#### Consider scissors\n",
    "![](images/scissors.jpg)"
   ]
  },
  {
   "cell_type": "markdown",
   "metadata": {
    "slideshow": {
     "slide_type": "slide"
    }
   },
   "source": [
    "### There are devices / objects that have conceptual models everywhere\n",
    "- A toaster\n",
    "- A projector\n",
    "- A keyboard\n",
    "- A folded chair\n",
    "- A lectern projection device selector\n",
    "- Watches\n"
   ]
  },
  {
   "cell_type": "markdown",
   "metadata": {
    "slideshow": {
     "slide_type": "slide"
    }
   },
   "source": [
    "<img src=\"images/fridge1.jpg\" width=\"600px\" />"
   ]
  },
  {
   "cell_type": "markdown",
   "metadata": {
    "slideshow": {
     "slide_type": "slide"
    }
   },
   "source": [
    "<img src=\"images/fridge2.jpg\" width=\"600px\" />"
   ]
  },
  {
   "cell_type": "markdown",
   "metadata": {
    "slideshow": {
     "slide_type": "slide"
    }
   },
   "source": [
    "<img src=\"images/fridge3.jpg\" width=\"600px\" />"
   ]
  },
  {
   "cell_type": "markdown",
   "metadata": {
    "slideshow": {
     "slide_type": "slide"
    }
   },
   "source": [
    "![](images/designer-user_models.jpg)"
   ]
  },
  {
   "cell_type": "markdown",
   "metadata": {
    "slideshow": {
     "slide_type": "slide"
    }
   },
   "source": [
    "## Mapping and Feedback\n",
    "- The goal of the designer is to make things clear and simple. to make design dissapear.\n",
    "- Mapping is the assigning of a function onto an object. \n",
    "- Feedback is the connection between an action (pressing a button) and something happening\n",
    "  - Good use of mapping and feedback makes for a great concept model!\n"
   ]
  },
  {
   "cell_type": "markdown",
   "metadata": {
    "slideshow": {
     "slide_type": "slide"
    }
   },
   "source": [
    "1. Is it obvious?\n",
    "2. Does it meet the needs of the user?\n",
    "  - Can it be used in the dark?\n",
    "  - Could you change the settings by mistake? \n",
    "  \n",
    "  \n",
    "- Final point is that complexity can't be avoided as functionality is added, but clever designs can minimize them."
   ]
  },
  {
   "cell_type": "markdown",
   "metadata": {
    "slideshow": {
     "slide_type": "slide"
    }
   },
   "source": [
    "# User Centered Design\n",
    "- The point that Norman and much of the field of design and human-computer interaction (HCI) is trying to make is that design has big impacts on the 'usability' of a particlar device, or software.\n",
    "- It doesn't matter if the software has a million bells and whistles, if no one can make a model in their head of how it all works. \n",
    "\n",
    "### 90% of Microsoft Word users use 10% of Word's capabilities \n"
   ]
  },
  {
   "cell_type": "markdown",
   "metadata": {
    "slideshow": {
     "slide_type": "slide"
    }
   },
   "source": [
    "### User centered design puts the end user in the drivers seat.\n",
    "- The point of user centered design is to not make software that meets a design goal\n",
    "  - It is to make software that meets a <b>user need</b>."
   ]
  },
  {
   "cell_type": "markdown",
   "metadata": {
    "slideshow": {
     "slide_type": "fragment"
    }
   },
   "source": [
    "- This is different than designing for a engineering challenge. \n",
    "  - I'm losing market share in my environmetnal enginering company. I need to make an algorithm that processes data at 10x speed of previous method like Acme Corp and integrate new sensor data. How would i do that?"
   ]
  },
  {
   "cell_type": "markdown",
   "metadata": {
    "slideshow": {
     "slide_type": "fragment"
    }
   },
   "source": [
    "  - Is different to, I'm losing market share to my competitors who might do less functions but make it easy to do"
   ]
  },
  {
   "cell_type": "markdown",
   "metadata": {
    "slideshow": {
     "slide_type": "fragment"
    }
   },
   "source": [
    "- Often the challange is not what can you do, but how does your solution work for those who it was designed to work for."
   ]
  },
  {
   "cell_type": "markdown",
   "metadata": {
    "slideshow": {
     "slide_type": "slide"
    }
   },
   "source": [
    "### User experience (UX) vs User Interface (UI)\n",
    "- User experience and user interface are often used interchangably\n",
    "- User Experience is linked to coonceptually to the 'feel' of a product, i.e. the mental model behind it. \n",
    "- While most rush into designing a user interface, the design of the user experience is the key starting point.\n",
    "  - This can be as simple as, \"how does what I'm making get the user what they want to see\" \n",
    "  - Or more complicated, how does this experience allow us to convert freemium users into paid subscribers, driving our key performance indicators (KPI)\n",
    "    - What are the user's pain points with the current competitors?\n",
    "    - What are the experience gaps in the current products available?"
   ]
  },
  {
   "cell_type": "markdown",
   "metadata": {
    "slideshow": {
     "slide_type": "slide"
    }
   },
   "source": [
    "![](images/ux-honey.jpg)\n",
    "- [the honeycomb of user experience](http://semanticstudios.com/user_experience_design/)\n"
   ]
  },
  {
   "cell_type": "markdown",
   "metadata": {
    "slideshow": {
     "slide_type": "slide"
    }
   },
   "source": [
    "### Modern ux will work with changing requirements\n",
    "- The number of form factors changes constantly in modern devices, from 4k TVs to iPhone Mini. \n",
    "  - But the UX does not (usually).\n",
    "      - e.g. IoS\n",
    "  - Try out the Google Chrome Developers tools on modern websites"
   ]
  },
  {
   "cell_type": "markdown",
   "metadata": {
    "slideshow": {
     "slide_type": "fragment"
    }
   },
   "source": [
    "- Ux can also remain when design trends change\n",
    "- Ux can also remain when new interface frameworks change\n",
    "- _but it must change when the users needs change_"
   ]
  },
  {
   "cell_type": "markdown",
   "metadata": {
    "slideshow": {
     "slide_type": "slide"
    }
   },
   "source": [
    "## How do you design for UX ?\n",
    "- First you have to know who your users are.\n",
    "  - How do you do that? Often with market research\n"
   ]
  },
  {
   "cell_type": "markdown",
   "metadata": {
    "slideshow": {
     "slide_type": "fragment"
    }
   },
   "source": [
    "  - In the vaccuum of expensive and time consuming data collection we can use a shortcut\n",
    "    - Personas"
   ]
  },
  {
   "cell_type": "markdown",
   "metadata": {
    "slideshow": {
     "slide_type": "slide"
    }
   },
   "source": [
    "### Personas \n",
    "- Personas were promoted and championed by Mircosoft in the early 2000s and have been adopted pretty widely by the UX community\n",
    "- They are the creation of 'fake people'\n",
    "  - but they have names, ages, locations\n",
    "  - they have interests, hobbies, and education\n",
    "  - they have software needs, expectations, and past experiences\n",
    "  - they have techno-literacy\n",
    "  - they have history\n",
    "\n"
   ]
  },
  {
   "cell_type": "markdown",
   "metadata": {
    "slideshow": {
     "slide_type": "slide"
    }
   },
   "source": [
    "![](images/bill-persona.jpg)"
   ]
  },
  {
   "cell_type": "markdown",
   "metadata": {
    "slideshow": {
     "slide_type": "slide"
    }
   },
   "source": [
    "![](images/persona-alex.jpg)\n",
    "- https://careerfoundry.com/en/blog/ux-design/persona-spectrums/"
   ]
  },
  {
   "cell_type": "markdown",
   "metadata": {
    "slideshow": {
     "slide_type": "slide"
    }
   },
   "source": [
    "![](images/persona-clark.png)\n",
    "- https://xd.adobe.com/ideas/process/user-research/putting-personas-to-work-in-ux-design/"
   ]
  },
  {
   "cell_type": "markdown",
   "metadata": {
    "slideshow": {
     "slide_type": "slide"
    }
   },
   "source": [
    "![](images/persona-charlotte.png)\n",
    "- https://www.justinmind.com/blog/user-persona-templates/"
   ]
  },
  {
   "cell_type": "markdown",
   "metadata": {
    "slideshow": {
     "slide_type": "slide"
    }
   },
   "source": [
    "### Why use personas?\n",
    "- Personas allow us to talk about 1's and 0's that don't exist yet\n",
    "- They allow us to talk passionately about how a user might encounter a piece of software\n",
    "- They give us a change to step outside of ourselves to imagine how others might see product and interact with it"
   ]
  },
  {
   "cell_type": "markdown",
   "metadata": {
    "slideshow": {
     "slide_type": "slide"
    }
   },
   "source": [
    "### Activity\n",
    "- Design a user persona for a new GIS program\n",
    "  - Assume the program is something that fills a missing niche in GIS that you wish was there, but isn't yet!\n",
    "  - The program itself doesn't matter that much"
   ]
  },
  {
   "cell_type": "markdown",
   "metadata": {
    "slideshow": {
     "slide_type": "slide"
    }
   },
   "source": [
    "### Persona caveats\n",
    "- However, its important that your personas reflect the users you have in mind\n",
    "  - Who do you envision your product being used by?\n",
    "  - Who are your current users, and what does your research show?\n",
    "  - Can you integrate real-quotes from real users into your personas?\n",
    "- It can be  <i>all-too-easy</i> to embed stereotypes and <b>normative</b> people into your personas\n",
    "  - Some are calling for the use of <b>persona spectrums</b>\n",
    "  - These are to combat designing for the norm, because the norm doesn't exist!\n",
    "    - _In the 1950s, the US Air Force conducted a famous study on pilot size. They measured the physical dimensions of more than 4,000 pilots and calculated the average size along 140 dimensions, like height and chest circumference. They arrived at an average range for all 140 dimensions and theorized that most pilots would fit within that range. As it turns out, not a single pilot of all 4,000 fit within the average range for all 10 dimensions._\n",
    "    - _The consequences of designing for the average pilot were potentially deadly. The ergonomics of planes, which were built based on “average” pilot size, were so off that pilots were crashing as a result. The planes were created for everyone but really no one at all._\n",
    "    \n",
    "- https://medium.com/microsoft-design/kill-your-personas-1c332d4908cc"
   ]
  },
  {
   "cell_type": "markdown",
   "metadata": {
    "slideshow": {
     "slide_type": "slide"
    }
   },
   "source": [
    "#### Designing personas that reflect multiple abilities and situations\n",
    "- Try to augment your personas to try to reflect the changing nature of situations that your imagined users may face\n",
    "  - Are these temporary or permanent situations?\n",
    "![](images/persona-spectrums.jpg)\n",
    "- https://medium.com/microsoft-design/kill-your-personas-1c332d4908cc"
   ]
  },
  {
   "cell_type": "markdown",
   "metadata": {
    "slideshow": {
     "slide_type": "slide"
    }
   },
   "source": [
    "## User Scenarios\n",
    "- Scenarios are where personas get put into action\n",
    "- They allow us to see how our software might be used\n",
    "\n",
    "#### Creating a scenario\n",
    "- For each of your personas think through \n",
    "  - Why the persona would use the software\n",
    "  - How it fits into their life, and the competitors/complementary products\n",
    "  - When they would use it and the context of the situation\n",
    "  - How they would use the software: devices but also intefaces and tech-depth\n",
    "    - Think through a workflow of a task they would undertake\n",
    "  - What might prevent them from using it more or at all"
   ]
  },
  {
   "cell_type": "markdown",
   "metadata": {
    "slideshow": {
     "slide_type": "fragment"
    }
   },
   "source": [
    "### Activity\n",
    "- As a group pick one of the GIS apps you had in mind\n",
    "  - Go through and apply each of the personas you've made and as a group discuss how the persona would do each of the above points"
   ]
  },
  {
   "cell_type": "markdown",
   "metadata": {
    "slideshow": {
     "slide_type": "slide"
    }
   },
   "source": [
    "# User Centered Prototyping\n",
    "- One of the things that mental models (with affordances and mappings), UX, personas, and scenarios help us to undestand is how users might encounter an interface\n",
    "- But they don't really help us to make them!\n",
    "  - Its all talk until we have to defend our design!\n",
    "- Interface design is really hard. it is <i>easy</i> to critique. \n",
    "  - Part of it is fashion\n",
    "  - But the other side of it is function.\n",
    "  \n",
    "  "
   ]
  },
  {
   "cell_type": "markdown",
   "metadata": {
    "slideshow": {
     "slide_type": "slide"
    }
   },
   "source": [
    "### Enter: Paper Prototyping\n",
    "- Paper prototyping is a method that allows us rapidly design how we want to accomplish a task\n",
    "- We go through 3 phases\n",
    "  1. Workflow definition\n",
    "    - What steps and features are we going to implement to accomplish the task we identified for our user modelling\n",
    "  2. Create a mockup of the interface\n",
    "    - Pull out paper, pens, sticky-notes.\n",
    "      - Make a box for the outside of the interface\n",
    "      - Add any static buttons for things the user will see and interact with\n",
    "      - Use sticky notes for dialog boxes or temporary items that users might interact with and full pages for changes to the interface\n",
    "  3. Testing...\n",
    "      "
   ]
  },
  {
   "cell_type": "markdown",
   "metadata": {
    "slideshow": {
     "slide_type": "slide"
    }
   },
   "source": [
    "![](images/paper-prototype.jpg)"
   ]
  },
  {
   "cell_type": "markdown",
   "metadata": {
    "slideshow": {
     "slide_type": "slide"
    }
   },
   "source": [
    "### Activity: Paper Prototyping\n",
    "- paper prototyping is a method that allows us rapidly design how we want to accomplish a task\n",
    "- we go through 3 phases\n",
    "  1. workflow definition\n",
    "    - define a user objective for your interface (one sentence).\n",
    "    - what steps and features are we going to implement to accomplish the task we identified for our user modelling\n",
    "  2. create a mockup of the interface\n",
    "    - pull out paper, pens, sticky-notes.\n",
    "      - make a box for the outside of the interface\n",
    "      - add any static buttons for things the user will see and interact with\n",
    "      - use sticky notes for dialog boxes or temporary items that users might interact with\n",
    "      - and full pages for changes to the interface\n",
    "      \n",
    "      <p></p>\n",
    "- You can make it about the same or a different interface idea than the one you've been using so far.\n",
    "- we will test your interfaces next, so don't give away how they work!\n",
    "      "
   ]
  },
  {
   "cell_type": "markdown",
   "metadata": {
    "slideshow": {
     "slide_type": "slide"
    }
   },
   "source": [
    "### Last Activity: testing your interface\n",
    "- In this last activity there are 3 key roles. \n",
    "1. The observer (you)\n",
    "2. The computer\n",
    "  - Tell a person in your group how your interface works. Tell then when to place a sticky note and when to change pages.\n",
    "3. The user\n",
    "  - You are _not_ privvy to what the computer and designer/observer talk about. \n",
    "  - You are to play with the interface. The computer MAY NOT say anything to the user or the computer. \n",
    "  \n",
    " #### Spend 5 minutes trying to accomlish the objective that drove the design. "
   ]
  },
  {
   "cell_type": "markdown",
   "metadata": {},
   "source": [
    "### Wrap Up\n",
    "- Creating user experiences that make the function of an interface obvious without explaining is hard\n",
    "\n",
    "- How often do you read a software user manual?\n",
    "  - If you can name a software you read the manual for, what was it?\n",
    "  "
   ]
  }
 ],
 "metadata": {
  "celltoolbar": "Slideshow",
  "kernelspec": {
   "display_name": "Python 3 (ipykernel)",
   "language": "python",
   "name": "python3"
  },
  "language_info": {
   "codemirror_mode": {
    "name": "ipython",
    "version": 3
   },
   "file_extension": ".py",
   "mimetype": "text/x-python",
   "name": "python",
   "nbconvert_exporter": "python",
   "pygments_lexer": "ipython3",
   "version": "3.10.10"
  }
 },
 "nbformat": 4,
 "nbformat_minor": 4
}
