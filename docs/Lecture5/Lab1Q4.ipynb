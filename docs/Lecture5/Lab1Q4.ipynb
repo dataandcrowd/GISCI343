{
 "cells": [
  {
   "cell_type": "code",
   "execution_count": null,
   "metadata": {},
   "outputs": [],
   "source": [
    "import pandas as pd\n",
    "import numpy as np"
   ]
  },
  {
   "cell_type": "code",
   "execution_count": null,
   "metadata": {},
   "outputs": [],
   "source": [
    "auckland_railway_stations = {\n",
    "    \"Western Line\": [\n",
    "        \"Britomart\", \"Maungawhau / Mount Eden\", \"Kingsland\", \"Morningside\", \"Baldwin Avenue\",\n",
    "        \"Mount Albert\", \"Avondale\", \"New Lynn\", \"Fruitvale Road\", \"Glen Eden\", \"Sunnyvale\",\n",
    "        \"Henderson\", \"Sturges Road\", \"Ranui\", \"Swanson\"\n",
    "    ],\n",
    "    \"Southern Line\": [\n",
    "        \"Britomart\", \"Maungawhau / Mount Eden\", \"Newmarket\", \"Remuera\", \"Greenlane\",\n",
    "        \"Ellerslie\", \"Penrose\", \"Te Papapa\", \"Onehunga\",  # Part of Onehunga Branch\n",
    "        \"Penrose\", \"Otahuhu\", \"Middlemore\", \"Papatoetoe\", \"Puhinui\", \"Manukau\",  # Branch to Manukau\n",
    "        \"Homai\", \"Manurewa\", \"Te Mahia\", \"Takanini\", \"Papakura\", \"Drury (under construction)\",\n",
    "        \"Paerata (under construction)\", \"Pukekohe\"\n",
    "    ],\n",
    "    \"Eastern Line\": [\n",
    "        \"Britomart\", \"Parnell\", \"Orakei\", \"Meadowbank\", \"Glen Innes\", \"Panmure\", \"Sylvia Park\",\n",
    "        \"Otahuhu\", \"Middlemore\", \"Papatoetoe\", \"Puhinui\", \"Manukau\"\n",
    "    ],\n",
    "    \"Onehunga Line\": [\n",
    "        \"Britomart\", \"Maungawhau / Mount Eden\", \"Newmarket\", \"Remuera\", \"Greenlane\",\n",
    "        \"Ellerslie\", \"Penrose\", \"Te Papapa\", \"Onehunga\"\n",
    "    ]\n",
    "}\n"
   ]
  },
  {
   "cell_type": "code",
   "execution_count": null,
   "metadata": {},
   "outputs": [],
   "source": [
    "type(auckland_railway_stations)"
   ]
  },
  {
   "cell_type": "code",
   "execution_count": null,
   "metadata": {},
   "outputs": [],
   "source": [
    "auckland_railway_stations_count = {\n",
    "    \"southern line\": len(auckland_railway_stations['Western Line']),\n",
    "    \"western line\": len(auckland_railway_stations['Southern Line']),\n",
    "    \"eastern line\": len(auckland_railway_stations['Eastern Line']),\n",
    "    \"onehunga line\": len(auckland_railway_stations['Onehunga Line'])\n",
    "}"
   ]
  },
  {
   "cell_type": "code",
   "execution_count": null,
   "metadata": {},
   "outputs": [],
   "source": [
    "auckland_railway_stations_count"
   ]
  },
  {
   "cell_type": "code",
   "execution_count": null,
   "metadata": {},
   "outputs": [],
   "source": [
    "auckland_railway_stations.keys()\n",
    "auckland_railway_stations.items()"
   ]
  },
  {
   "cell_type": "code",
   "execution_count": null,
   "metadata": {},
   "outputs": [],
   "source": [
    "rows = []\n",
    "for line, stations in auckland_railway_stations.items():\n",
    "    for station in stations:\n",
    "        rows.append({\"Line\": line, \"Station\": station})\n",
    "\n",
    "df = pd.DataFrame(rows)"
   ]
  },
  {
   "cell_type": "code",
   "execution_count": null,
   "metadata": {},
   "outputs": [],
   "source": [
    "df"
   ]
  },
  {
   "cell_type": "code",
   "execution_count": null,
   "metadata": {},
   "outputs": [],
   "source": [
    "df['colour'] = df.apply(\n",
    "    lambda row: 'green' if row['line'] == 'Western Line'\n",
    "    else 'yellow' if row['line'] == 'Eastern Line'\n",
    "    else 'red' if row['line'] == 'Southern Line'\n",
    "    else 'blue' if row['line'] == 'Onehunga Line'\n",
    "    else 'grey',\n",
    "    axis=1\n",
    ")"
   ]
  },
  {
   "cell_type": "markdown",
   "metadata": {},
   "source": [
    "alternative and intuitive"
   ]
  },
  {
   "cell_type": "code",
   "execution_count": null,
   "metadata": {},
   "outputs": [],
   "source": [
    "df['colour'] = \"\"\n",
    "\n",
    "df.loc[df[\"Line\"] == \"Western Line\", \"Colour\"] = \"green\"\n",
    "df.loc[df[\"Line\"] == \"Eastern Line\", \"Colour\"] = \"blue\"\n",
    "df.loc[df[\"Line\"] == \"Southern Line\", \"Colour\"] = \"yellow\"\n",
    "df.loc[df[\"Line\"] == \"Onehunga Line\", \"Colour\"] = \"red\""
   ]
  },
  {
   "cell_type": "code",
   "execution_count": null,
   "metadata": {},
   "outputs": [],
   "source": [
    "df"
   ]
  },
  {
   "cell_type": "code",
   "execution_count": null,
   "metadata": {},
   "outputs": [],
   "source": [
    "df.groupby(\"Colour\").size().reset_index(name = 'count')"
   ]
  },
  {
   "cell_type": "markdown",
   "metadata": {},
   "source": [
    "## alternative way"
   ]
  },
  {
   "cell_type": "code",
   "execution_count": null,
   "metadata": {},
   "outputs": [],
   "source": [
    "auckland_railway_stations_count"
   ]
  },
  {
   "cell_type": "code",
   "execution_count": null,
   "metadata": {},
   "outputs": [],
   "source": [
    "df2 = pd.DataFrame(auckland_railway_stations_count.items(), columns=['Line', 'station_count'])\n",
    "print(df2)"
   ]
  },
  {
   "cell_type": "code",
   "execution_count": null,
   "metadata": {},
   "outputs": [],
   "source": [
    "df2 = pd.DataFrame.from_dict(auckland_railway_stations_count, orient='index', columns=['station_count'])\n",
    "df2.reset_index(inplace=True)\n",
    "df2.rename(columns={'index': 'Line'}, inplace=True)"
   ]
  },
  {
   "cell_type": "code",
   "execution_count": null,
   "metadata": {},
   "outputs": [],
   "source": [
    "df2"
   ]
  },
  {
   "cell_type": "code",
   "execution_count": null,
   "metadata": {},
   "outputs": [],
   "source": [
    "df2['colour'] = \"\"\n",
    "\n",
    "df2.loc[df2[\"Line\"] == \"western line\", \"colour\"] = \"green\"\n",
    "df2.loc[df2[\"Line\"] == \"eastern line\", \"colour\"] = \"blue\"\n",
    "df2.loc[df2[\"Line\"] == \"southern line\", \"colour\"] = \"yellow\"\n",
    "df2.loc[df2[\"Line\"] == \"onehunga line\", \"colour\"] = \"red\""
   ]
  },
  {
   "cell_type": "code",
   "execution_count": null,
   "metadata": {},
   "outputs": [],
   "source": [
    "df2"
   ]
  },
  {
   "cell_type": "code",
   "execution_count": null,
   "metadata": {},
   "outputs": [],
   "source": [
    "#df2.drop(columns=['Colour'], inplace=True)"
   ]
  },
  {
   "cell_type": "markdown",
   "metadata": {},
   "source": [
    "# if you already created a wide format"
   ]
  },
  {
   "cell_type": "code",
   "execution_count": null,
   "metadata": {},
   "outputs": [],
   "source": [
    "# Determine the max length among all line lists\n",
    "max_len = max(len(stations) for stations in auckland_railway_stations.values())\n",
    "\n",
    "# Pad lists to equal length\n",
    "padded_data = {\n",
    "    line: stations + [None] * (max_len - len(stations))\n",
    "    for line, stations in auckland_railway_stations.items()\n",
    "}\n",
    "\n",
    "# Create wide DataFrame\n",
    "df_wide = pd.DataFrame(padded_data)\n",
    "\n",
    "print(df_wide.head())"
   ]
  },
  {
   "cell_type": "code",
   "execution_count": null,
   "metadata": {},
   "outputs": [],
   "source": [
    "df_wide"
   ]
  },
  {
   "cell_type": "code",
   "execution_count": null,
   "metadata": {},
   "outputs": [],
   "source": [
    "# df_wide already created in previous step\n",
    "df_long = df_wide.reset_index().melt(\n",
    "    id_vars='index',\n",
    "    var_name='line',\n",
    "    value_name='station'\n",
    ").rename(columns={'index': 'position'})\n",
    "\n",
    "# Optional: drop missing stations\n",
    "df_long = df_long.dropna(subset=['station'])\n"
   ]
  },
  {
   "cell_type": "code",
   "execution_count": null,
   "metadata": {},
   "outputs": [],
   "source": [
    "df_long"
   ]
  }
 ],
 "metadata": {
  "kernelspec": {
   "display_name": "Python 3",
   "language": "python",
   "name": "python3"
  },
  "language_info": {
   "codemirror_mode": {
    "name": "ipython",
    "version": 3
   },
   "file_extension": ".py",
   "mimetype": "text/x-python",
   "name": "python",
   "nbconvert_exporter": "python",
   "pygments_lexer": "ipython3",
   "version": "3.11.4"
  }
 },
 "nbformat": 4,
 "nbformat_minor": 2
}
