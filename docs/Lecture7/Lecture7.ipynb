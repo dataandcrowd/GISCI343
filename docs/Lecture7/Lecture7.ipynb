{
 "cells": [
  {
   "cell_type": "code",
   "execution_count": 2,
   "metadata": {},
   "outputs": [
    {
     "name": "stdout",
     "output_type": "stream",
     "text": [
      "Honda\n",
      "Civic\n",
      "2021\n",
      "blue\n",
      "This Civic is driving\n",
      "This Civic is stopped\n"
     ]
    }
   ],
   "source": [
    "from cars import Car\n",
    "\n",
    "car_1 = Car(\"Honda\",\"Civic\",2021,\"blue\")\n",
    "car_2 = Car(\"Ford\",\"Mustang\",2022,\"red\")\n",
    "\n",
    "\n",
    "\n",
    "print(car_1.make)\n",
    "print(car_1.model)\n",
    "print(car_1.year)\n",
    "print(car_1.colour)\n",
    "\n",
    "car_1.drive()\n",
    "car_1.stop()"
   ]
  },
  {
   "cell_type": "code",
   "execution_count": 3,
   "metadata": {},
   "outputs": [
    {
     "data": {
      "text/plain": [
       "<cars.Car at 0x1124d2d20>"
      ]
     },
     "execution_count": 3,
     "metadata": {},
     "output_type": "execute_result"
    }
   ],
   "source": [
    "car_1"
   ]
  },
  {
   "cell_type": "code",
   "execution_count": 4,
   "metadata": {},
   "outputs": [
    {
     "name": "stdout",
     "output_type": "stream",
     "text": [
      "Scooby\n"
     ]
    }
   ],
   "source": [
    "class Animal:\n",
    "    def __init__(self, name):\n",
    "        self.name = name\n",
    "        self.is_alive = True\n",
    "    \n",
    "    def eat(self):\n",
    "        print(f\"{self.name} is eating\")\n",
    "\n",
    "    def sleep(self):\n",
    "        print(f\"{self.name} is sleeping\")\n",
    "\n",
    "class Dog(Animal):\n",
    "    pass\n",
    "\n",
    "class Cat(Animal):\n",
    "    pass\n",
    "\n",
    "class Mouse(Animal):\n",
    "    pass\n",
    "\n",
    "dog = Dog(\"Scooby\")\n",
    "#cat = Cat(\"Garfield\")\n",
    "#mouse = Mouse(\"Mickey\")\n",
    "\n",
    "\n",
    "print(dog.name)"
   ]
  }
 ],
 "metadata": {
  "kernelspec": {
   "display_name": "Python 3",
   "language": "python",
   "name": "python3"
  },
  "language_info": {
   "codemirror_mode": {
    "name": "ipython",
    "version": 3
   },
   "file_extension": ".py",
   "mimetype": "text/x-python",
   "name": "python",
   "nbconvert_exporter": "python",
   "pygments_lexer": "ipython3",
   "version": "3.12.3"
  }
 },
 "nbformat": 4,
 "nbformat_minor": 2
}
