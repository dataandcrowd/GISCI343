{
 "cells": [
  {
   "cell_type": "markdown",
   "id": "947a3b34",
   "metadata": {},
   "source": [
    "# OOP Part 2"
   ]
  },
  {
   "cell_type": "markdown",
   "id": "53b72993",
   "metadata": {},
   "source": [
    "Here’s a set of Object-Oriented Programming (OOP) examples designed for a GIS class, focusing on core GIS concepts like layers, spatial data, and geoprocessing tasks. \n",
    "These examples introduce the four pillars of OOP (encapsulation, inheritance, polymorphism, and abstraction)"
   ]
  },
  {
   "cell_type": "markdown",
   "id": "7dabe93f",
   "metadata": {},
   "source": [
    "## Import Library"
   ]
  },
  {
   "cell_type": "code",
   "execution_count": 1,
   "id": "1ff824e4",
   "metadata": {},
   "outputs": [],
   "source": [
    "import matplotlib.pyplot as plt\n",
    "import geopandas as gpd\n",
    "import pandas as pd"
   ]
  },
  {
   "cell_type": "markdown",
   "id": "538c6333",
   "metadata": {},
   "source": [
    "## Encapsulation \n",
    "\n",
    "* Representing a Geospatial Point\n",
    "* Encapsulation is shown through the private attributes `__x` and `__y`, and methods `get_coordinates()` and `set_coordinates()` to access or modify these attributes."
   ]
  },
  {
   "cell_type": "code",
   "execution_count": 2,
   "id": "9a427492",
   "metadata": {},
   "outputs": [],
   "source": [
    "\n",
    "class Point:\n",
    "    def __init__(self, x, y):\n",
    "        self.__x = x  # Private attribute\n",
    "        self.__y = y  # Private attribute\n",
    "\n",
    "    def get_coordinates(self):\n",
    "        return (____, ____)  # Students to fill in\n",
    "\n",
    "    def set_coordinates(self, x, y):\n",
    "        self.__x = x\n",
    "        self.__y = y\n"
   ]
  },
  {
   "cell_type": "code",
   "execution_count": null,
   "id": "7fc9b62b",
   "metadata": {},
   "outputs": [],
   "source": [
    "point = Point(10, 20)\n",
    "x, y = point.get_coordinates()\n",
    "\n",
    "plt.scatter(x, y, color='blue')\n",
    "plt.title(\"Point Plot\")\n",
    "plt.xlabel(\"X Coordinate\")\n",
    "plt.ylabel(\"Y Coordinate\")\n",
    "plt.grid(True)\n",
    "plt.show()"
   ]
  },
  {
   "cell_type": "markdown",
   "id": "2d739ad0",
   "metadata": {},
   "source": [
    "## Inheritance (Creating Different Spatial Layers)"
   ]
  },
  {
   "cell_type": "code",
   "execution_count": 24,
   "id": "14e55faa",
   "metadata": {},
   "outputs": [],
   "source": [
    "\n",
    "class GISlayer:\n",
    "    def __init__(self, name, feature_type, filepath):\n",
    "        self.name = name\n",
    "        self.feature_type = feature_type\n",
    "        self.filepath = filepath  # Path to the GIS file\n",
    "        \n",
    "    def get_info(self):\n",
    "        return f\"{self.name} is a {self.feature_type} layer.\"\n",
    "        \n",
    "# Students to create subclasses for different spatial layers\n"
   ]
  },
  {
   "cell_type": "code",
   "execution_count": null,
   "id": "49cf68fd",
   "metadata": {},
   "outputs": [],
   "source": [
    "vector1 = GISlayer(\"Auckland Roads\", \"Line\", \"GISfiles/auckland_road.shp\")\n",
    "vector1.plot_layer()"
   ]
  },
  {
   "cell_type": "code",
   "execution_count": null,
   "id": "88c4b281",
   "metadata": {},
   "outputs": [],
   "source": [
    "vector2 = GISlayer(\"Auckland Buildings\", \"Line\", \"GISfiles/auckland_buildings.shp\")\n",
    "vector2.plot_layer(color='green')"
   ]
  },
  {
   "cell_type": "markdown",
   "id": "5b36f43a",
   "metadata": {},
   "source": [
    "## Using GIS Tool in OOP: Buffered Layer"
   ]
  },
  {
   "cell_type": "code",
   "execution_count": 28,
   "id": "9a1f4549",
   "metadata": {},
   "outputs": [],
   "source": [
    "\n",
    "class Buffer:\n",
    "    def __init__(self, input_layer, distance):\n",
    "        self.input_layer = input_layer\n",
    "        self.distance = _____  # Students to fill in\n",
    "    \n",
    "    def run(self):\n",
    "        gdf_input = gpd.read_file(self.input_layer.filepath)\n",
    "        buffered = gdf_input.buffer(______)  # Students to fill in\n",
    "        return buffered\n",
    "\n",
    "class Clip:\n",
    "    def __init__(self, input_layer, clip_layer):\n",
    "        self.input_layer = input_layer\n",
    "        self.clip_layer = clip_layer\n",
    "\n",
    "    def run(self):\n",
    "        gdf_input = gpd.read_file(self.input_layer.filepath)\n",
    "        gdf_clip = gpd.read_file(self.clip_layer.filepath)\n",
    "        clipped = gpd.clip(gdf_input, gdf_clip)  # Students to fill in\n",
    "        return clipped\n"
   ]
  },
  {
   "cell_type": "code",
   "execution_count": null,
   "id": "4f1f2a14",
   "metadata": {},
   "outputs": [],
   "source": [
    "\n",
    "class Buffer:\n",
    "    def __init__(self, input_layer, distance):\n",
    "        self.input_layer = input_layer\n",
    "        self.distance = _____  # Students to fill in\n",
    "    \n",
    "    def run(self):\n",
    "        gdf_input = gpd.read_file(self.input_layer.filepath)\n",
    "        buffered = gdf_input.buffer(______)  # Students to fill in\n",
    "        return buffered\n",
    "\n",
    "class Clip:\n",
    "    def __init__(self, input_layer, clip_layer):\n",
    "        self.input_layer = input_layer\n",
    "        self.clip_layer = clip_layer\n",
    "\n",
    "    def run(self):\n",
    "        gdf_input = gpd.read_file(self.input_layer.filepath)\n",
    "        gdf_clip = gpd.read_file(self.clip_layer.filepath)\n",
    "        clipped = gpd.clip(gdf_input, gdf_clip)  # Students to fill in\n",
    "        return clipped\n"
   ]
  },
  {
   "cell_type": "code",
   "execution_count": null,
   "id": "5f379a1d",
   "metadata": {},
   "outputs": [],
   "source": [
    "print(type(buffer_task))\n",
    "print(dir(buffer_task))\n",
    "print(vars(buffer_task))\n",
    "print(buffer_task.info())\n"
   ]
  },
  {
   "cell_type": "markdown",
   "id": "cca5a065",
   "metadata": {},
   "source": [
    "## Polymorphism (Handling Different Spatial Data Types)"
   ]
  },
  {
   "cell_type": "code",
   "execution_count": 34,
   "id": "e475751d",
   "metadata": {},
   "outputs": [],
   "source": [
    "\n",
    "class Point:\n",
    "    def __init__(self, x, y):\n",
    "        self.__x = x  # Private attribute\n",
    "        self.__y = y  # Private attribute\n",
    "\n",
    "    def get_coordinates(self):\n",
    "        return (____, ____)  # Students to fill in\n",
    "\n",
    "    def set_coordinates(self, x, y):\n",
    "        self.__x = x\n",
    "        self.__y = y\n"
   ]
  },
  {
   "cell_type": "code",
   "execution_count": null,
   "id": "7e5a74f4",
   "metadata": {},
   "outputs": [],
   "source": [
    "# Example usage in a real GIS context\n",
    "point_layer = PointLayer(\"Cities\", 100)  # Cities dataset\n",
    "line_layer = LineLayer(\"Roads\", 500)     # Roads dataset\n",
    "polygon_layer = PolygonLayer(\"Parcels\", 1500)  # Land parcels dataset\n",
    "\n",
    "# Collect all layers\n",
    "layers = [point_layer, line_layer, polygon_layer]\n",
    "\n",
    "# Polymorphic behaviour\n",
    "for layer in layers:\n",
    "    print(layer.info())\n"
   ]
  },
  {
   "cell_type": "markdown",
   "id": "527d3258",
   "metadata": {},
   "source": [
    "## Abstraction"
   ]
  },
  {
   "cell_type": "markdown",
   "id": "3d233381",
   "metadata": {},
   "source": [
    "In a GIS system, you often need to perform geoprocessing tasks like buffering, clipping, or intersection. You can abstract these tasks into a general GeoprocessingTask class and implement specific tasks like Buffer and Clip."
   ]
  },
  {
   "cell_type": "code",
   "execution_count": 55,
   "id": "5b22eefa",
   "metadata": {},
   "outputs": [],
   "source": [
    "\n",
    "class Buffer:\n",
    "    def __init__(self, input_layer, distance):\n",
    "        self.input_layer = input_layer\n",
    "        self.distance = _____  # Students to fill in\n",
    "    \n",
    "    def run(self):\n",
    "        gdf_input = gpd.read_file(self.input_layer.filepath)\n",
    "        buffered = gdf_input.buffer(______)  # Students to fill in\n",
    "        return buffered\n",
    "\n",
    "class Clip:\n",
    "    def __init__(self, input_layer, clip_layer):\n",
    "        self.input_layer = input_layer\n",
    "        self.clip_layer = clip_layer\n",
    "\n",
    "    def run(self):\n",
    "        gdf_input = gpd.read_file(self.input_layer.filepath)\n",
    "        gdf_clip = gpd.read_file(self.clip_layer.filepath)\n",
    "        clipped = gpd.clip(gdf_input, gdf_clip)  # Students to fill in\n",
    "        return clipped\n"
   ]
  },
  {
   "cell_type": "code",
   "execution_count": 62,
   "id": "5a206484",
   "metadata": {},
   "outputs": [],
   "source": [
    "\n",
    "class Buffer:\n",
    "    def __init__(self, input_layer, distance):\n",
    "        self.input_layer = input_layer\n",
    "        self.distance = _____  # Students to fill in\n",
    "    \n",
    "    def run(self):\n",
    "        gdf_input = gpd.read_file(self.input_layer.filepath)\n",
    "        buffered = gdf_input.buffer(______)  # Students to fill in\n",
    "        return buffered\n",
    "\n",
    "class Clip:\n",
    "    def __init__(self, input_layer, clip_layer):\n",
    "        self.input_layer = input_layer\n",
    "        self.clip_layer = clip_layer\n",
    "\n",
    "    def run(self):\n",
    "        gdf_input = gpd.read_file(self.input_layer.filepath)\n",
    "        gdf_clip = gpd.read_file(self.clip_layer.filepath)\n",
    "        clipped = gpd.clip(gdf_input, gdf_clip)  # Students to fill in\n",
    "        return clipped\n"
   ]
  },
  {
   "cell_type": "code",
   "execution_count": null,
   "id": "70a852bb",
   "metadata": {},
   "outputs": [],
   "source": [
    "# Run tasks\n",
    "buffered_roads = buffer_task.run()\n",
    "clipped_roads = clip_task.run()\n",
    "\n",
    "clip_task.plot()  # Plot the original and clipped layers"
   ]
  },
  {
   "cell_type": "code",
   "execution_count": null,
   "id": "ed68ced3",
   "metadata": {},
   "outputs": [],
   "source": []
  }
 ],
 "metadata": {
  "kernelspec": {
   "display_name": "Python 3",
   "language": "python",
   "name": "python3"
  },
  "language_info": {
   "codemirror_mode": {
    "name": "ipython",
    "version": 3
   },
   "file_extension": ".py",
   "mimetype": "text/x-python",
   "name": "python",
   "nbconvert_exporter": "python",
   "pygments_lexer": "ipython3",
   "version": "3.12.3"
  }
 },
 "nbformat": 4,
 "nbformat_minor": 5
}
