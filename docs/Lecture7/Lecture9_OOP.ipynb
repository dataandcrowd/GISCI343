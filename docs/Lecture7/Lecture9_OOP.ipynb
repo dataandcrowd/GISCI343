{
 "cells": [
  {
   "cell_type": "markdown",
   "metadata": {},
   "source": [
    "# OOP Part 2"
   ]
  },
  {
   "cell_type": "markdown",
   "metadata": {},
   "source": [
    "Here’s a set of Object-Oriented Programming (OOP) examples designed for a GIS class, focusing on core GIS concepts like layers, spatial data, and geoprocessing tasks. \n",
    "These examples introduce the four pillars of OOP (encapsulation, inheritance, polymorphism, and abstraction)"
   ]
  },
  {
   "cell_type": "markdown",
   "metadata": {},
   "source": [
    "## Import Library"
   ]
  },
  {
   "cell_type": "code",
   "execution_count": 1,
   "metadata": {},
   "outputs": [],
   "source": [
    "import matplotlib.pyplot as plt\n",
    "import geopandas as gpd\n",
    "import pandas as pd"
   ]
  },
  {
   "cell_type": "markdown",
   "metadata": {},
   "source": [
    "## Encapsulation \n",
    "\n",
    "* Representing a Geospatial Point\n",
    "* Encapsulation is shown through the private attributes `__x` and `__y`, and methods `get_coordinates()` and `set_coordinates()` to access or modify these attributes."
   ]
  },
  {
   "cell_type": "code",
   "execution_count": 2,
   "metadata": {},
   "outputs": [],
   "source": [
    "class Point:\n",
    "    def __init__(self, x, y):\n",
    "        self.__x = x  # Private attribute\n",
    "        self.__y = y  # Private attribute\n",
    "\n",
    "    def get_coordinates(self):\n",
    "        return (self.__x, self.__y)\n",
    "\n",
    "    def set_coordinates(self, x, y):\n",
    "        self.__x = x\n",
    "        self.__y = y"
   ]
  },
  {
   "cell_type": "code",
   "execution_count": null,
   "metadata": {},
   "outputs": [],
   "source": [
    "point = Point(10, 20)\n",
    "x, y = point.get_coordinates()\n",
    "\n",
    "plt.scatter(x, y, color='blue')\n",
    "plt.title(\"Point Plot\")\n",
    "plt.xlabel(\"X Coordinate\")\n",
    "plt.ylabel(\"Y Coordinate\")\n",
    "plt.grid(True)\n",
    "plt.show()"
   ]
  },
  {
   "cell_type": "markdown",
   "metadata": {},
   "source": [
    "## Inheritance (Creating Different Spatial Layers)"
   ]
  },
  {
   "cell_type": "code",
   "execution_count": 24,
   "metadata": {},
   "outputs": [],
   "source": [
    "class GISlayer:\n",
    "    def __init__(self, name, feature_type, filepath):\n",
    "        self.name = name\n",
    "        self.feature_type = feature_type\n",
    "        self.filepath = filepath\n",
    "\n",
    "    def plot_layer(self, color='blue'):  # Add color parameter with a default value\n",
    "        gdf = gpd.read_file(self.filepath)  # Load the GeoDataFrame\n",
    "        gdf.plot(color=color)  # Apply the specified color to all features\n",
    "        plt.title(f\"Layer: {self.name}\")\n",
    "        plt.show()"
   ]
  },
  {
   "cell_type": "code",
   "execution_count": null,
   "metadata": {},
   "outputs": [],
   "source": [
    "vector1 = GISlayer(\"Auckland Roads\", \"Line\", \"GISfiles/auckland_road.shp\")\n",
    "vector1.plot_layer()"
   ]
  },
  {
   "cell_type": "code",
   "execution_count": null,
   "metadata": {},
   "outputs": [],
   "source": [
    "vector2 = GISlayer(\"Auckland Buildings\", \"Line\", \"GISfiles/auckland_buildings.shp\")\n",
    "vector2.plot_layer(color='green')"
   ]
  },
  {
   "cell_type": "markdown",
   "metadata": {},
   "source": [
    "## Using GIS Tool in OOP: Buffered Layer"
   ]
  },
  {
   "cell_type": "code",
   "execution_count": 28,
   "metadata": {},
   "outputs": [],
   "source": [
    "class Buffer:\n",
    "    def __init__(self, layer, distance):  # Initializing with a layer and buffer distance\n",
    "        self.layer = layer  # Assigning the layer (e.g., roads)\n",
    "        self.distance = distance  # Assigning the buffer distance (e.g., 1000 meters)\n",
    "\n",
    "    def run(self):  # The run method will perform the buffer operation\n",
    "        gdf = gpd.read_file(self.layer.filepath)  # Reading the spatial file (Shapefile) into a GeoDataFrame\n",
    "        buffered = gdf.buffer(self.distance)  # Creating the buffer based on the specified distance\n",
    "        return buffered  # Returning the buffered layer\n",
    "\n",
    "    def plot(self):  # The plot method will visualize the results\n",
    "        gdf = gpd.read_file(self.layer.filepath)  # Reading the original spatial layer\n",
    "        buffered = gdf.buffer(self.distance)  # Creating the buffer for visualization\n",
    "        fig, ax = plt.subplots()  # Creating a figure and axes for the plot\n",
    "        gdf.plot(ax=ax, color=\"blue\", alpha=0.5)  # Plotting the original layer in blue\n",
    "        buffered.plot(ax=ax, color=\"green\", alpha=0.5)  # Plotting the buffer in green\n",
    "        plt.title(f\"Buffered Layer: {self.layer.name} by {self.distance} units\")  # Adding a title\n",
    "        plt.show()  # Displaying the plot\n",
    "    \n",
    "    def info(self):\n",
    "        return f\"Layer: {self.layer.name}, Buffer Distance: {self.distance} units\"    "
   ]
  },
  {
   "cell_type": "code",
   "execution_count": null,
   "metadata": {},
   "outputs": [],
   "source": [
    "vector = GISlayer(\"Roads\", \"Line\", \"GISfiles/auckland_road.shp\")\n",
    "buffer_task = Buffer(vector, 100)\n",
    "buffer_task.plot()"
   ]
  },
  {
   "cell_type": "code",
   "execution_count": null,
   "metadata": {},
   "outputs": [],
   "source": [
    "print(type(buffer_task))\n",
    "print(dir(buffer_task))\n",
    "print(vars(buffer_task))\n",
    "print(buffer_task.info())\n"
   ]
  },
  {
   "cell_type": "markdown",
   "metadata": {},
   "source": [
    "## Polymorphism (Handling Different Spatial Data Types)"
   ]
  },
  {
   "cell_type": "code",
   "execution_count": 34,
   "metadata": {},
   "outputs": [],
   "source": [
    "class SpatialLayer:\n",
    "    def info(self):\n",
    "        pass\n",
    "\n",
    "class PointLayer(SpatialLayer):\n",
    "    def __init__(self, name, num_points):\n",
    "        self.name = name\n",
    "        self.num_points = num_points\n",
    "\n",
    "    def info(self):\n",
    "        return f\"Point Layer: {self.name}, contains {self.num_points} points.\"\n",
    "\n",
    "class LineLayer(SpatialLayer):\n",
    "    def __init__(self, name, length):\n",
    "        self.name = name\n",
    "        self.length = length\n",
    "\n",
    "    def info(self):\n",
    "        return f\"Line Layer: {self.name}, total length: {self.length} km.\"\n",
    "\n",
    "class PolygonLayer(SpatialLayer):\n",
    "    def __init__(self, name, area):\n",
    "        self.name = name\n",
    "        self.area = area\n",
    "\n",
    "    def info(self):\n",
    "        return f\"Polygon Layer: {self.name}, total area: {self.area} square km.\""
   ]
  },
  {
   "cell_type": "code",
   "execution_count": null,
   "metadata": {},
   "outputs": [],
   "source": [
    "# Example usage in a real GIS context\n",
    "point_layer = PointLayer(\"Cities\", 100)  # Cities dataset\n",
    "line_layer = LineLayer(\"Roads\", 500)     # Roads dataset\n",
    "polygon_layer = PolygonLayer(\"Parcels\", 1500)  # Land parcels dataset\n",
    "\n",
    "# Collect all layers\n",
    "layers = [point_layer, line_layer, polygon_layer]\n",
    "\n",
    "# Polymorphic behaviour\n",
    "for layer in layers:\n",
    "    print(layer.info())\n"
   ]
  },
  {
   "cell_type": "markdown",
   "metadata": {},
   "source": [
    "## Abstraction"
   ]
  },
  {
   "cell_type": "markdown",
   "metadata": {},
   "source": [
    "In a GIS system, you often need to perform geoprocessing tasks like buffering, clipping, or intersection. You can abstract these tasks into a general GeoprocessingTask class and implement specific tasks like Buffer and Clip."
   ]
  },
  {
   "cell_type": "code",
   "execution_count": 55,
   "metadata": {},
   "outputs": [],
   "source": [
    "from abc import ABC, abstractmethod\n",
    "import geopandas as gpd\n",
    "\n",
    "class GeoprocessingTask(ABC):\n",
    "    @abstractmethod\n",
    "    def run(self):\n",
    "        pass\n",
    "\n",
    "class Buffer(GeoprocessingTask):\n",
    "    def __init__(self, input_layer, distance):\n",
    "        self.input_layer = input_layer\n",
    "        self.distance = distance\n",
    "\n",
    "    def run(self):\n",
    "        gdf = gpd.read_file(self.input_layer.filepath)\n",
    "        buffered = gdf.buffer(self.distance)\n",
    "        return buffered\n",
    "\n",
    "class Clip(GeoprocessingTask):\n",
    "    def __init__(self, input_layer, clip_layer):\n",
    "        self.input_layer = input_layer\n",
    "        self.clip_layer = clip_layer\n",
    "\n",
    "    def run(self):\n",
    "        gdf_input = gpd.read_file(self.input_layer.filepath)\n",
    "        gdf_clip = gpd.read_file(self.clip_layer.filepath)\n",
    "        clipped = gpd.clip(gdf_input, gdf_clip)\n",
    "        return clipped\n",
    "    \n",
    "    def plot(self):\n",
    "        # Perform the clip and plot only the clipped result\n",
    "        gdf_input = gpd.read_file(self.input_layer.filepath)\n",
    "        gdf_clip = gpd.read_file(self.clip_layer.filepath)\n",
    "        clipped = gpd.clip(gdf_input, gdf_clip)\n",
    "        \n",
    "        # Plot only the clipped result\n",
    "        clipped.plot(color='green', alpha=0.7)\n",
    "        plt.title(f\"Clipped {self.input_layer.name} within {self.clip_layer.name}\")\n",
    "        plt.show()"
   ]
  },
  {
   "cell_type": "code",
   "execution_count": 62,
   "metadata": {},
   "outputs": [],
   "source": [
    "# Example usage\n",
    "roads_layer = GISlayer(\"Roads\", \"Line\", \"GISfiles/auckland_road.shp\")  # Input layer (roads)\n",
    "boundary_layer = GISlayer(\"CBD\", \"Polygon\", \"GISfiles/auckland_cbd_boundary.shp\")  # Clip layer (city boundary)\n",
    "\n",
    "buffer_task = Buffer(roads_layer, 100)  # Buffer task to create a 500m buffer\n",
    "clip_task = Clip(roads_layer, boundary_layer)  # Clip task to clip roads within the city boundary"
   ]
  },
  {
   "cell_type": "code",
   "execution_count": null,
   "metadata": {},
   "outputs": [],
   "source": [
    "# Run tasks\n",
    "buffered_roads = buffer_task.run()\n",
    "clipped_roads = clip_task.run()\n",
    "\n",
    "clip_task.plot()  # Plot the original and clipped layers"
   ]
  }
 ],
 "metadata": {
  "kernelspec": {
   "display_name": "Python 3",
   "language": "python",
   "name": "python3"
  },
  "language_info": {
   "codemirror_mode": {
    "name": "ipython",
    "version": 3
   },
   "file_extension": ".py",
   "mimetype": "text/x-python",
   "name": "python",
   "nbconvert_exporter": "python",
   "pygments_lexer": "ipython3",
   "version": "3.12.3"
  }
 },
 "nbformat": 4,
 "nbformat_minor": 2
}
