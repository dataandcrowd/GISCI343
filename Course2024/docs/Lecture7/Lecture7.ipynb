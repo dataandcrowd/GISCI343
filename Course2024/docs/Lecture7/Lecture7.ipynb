{
 "cells": [
  {
   "cell_type": "markdown",
   "metadata": {},
   "source": [
    "## Basic Exercise"
   ]
  },
  {
   "cell_type": "code",
   "execution_count": null,
   "metadata": {},
   "outputs": [],
   "source": [
    "class Car:\n",
    "    pass"
   ]
  },
  {
   "cell_type": "code",
   "execution_count": null,
   "metadata": {},
   "outputs": [],
   "source": [
    "from cars import Car\n",
    "\n",
    "car_1 = Car(\"Honda\",\"Civic\",2021,\"blue\")\n",
    "car_2 = Car(\"Ford\",\"Mustang\",2022,\"red\")\n",
    "\n",
    "print(car_1.make)\n",
    "print(car_1.model)\n",
    "print(car_1.year)\n",
    "print(car_1.colour)\n",
    "\n",
    "car_1.drive()\n",
    "car_1.stop()"
   ]
  },
  {
   "cell_type": "code",
   "execution_count": null,
   "metadata": {},
   "outputs": [],
   "source": [
    "car_1"
   ]
  },
  {
   "cell_type": "markdown",
   "metadata": {},
   "source": [
    "## Inheritance"
   ]
  },
  {
   "cell_type": "code",
   "execution_count": 1,
   "metadata": {},
   "outputs": [
    {
     "name": "stdout",
     "output_type": "stream",
     "text": [
      "Scooby\n"
     ]
    }
   ],
   "source": [
    "class Animal:\n",
    "    def __init__(self, name):\n",
    "        self.name = name\n",
    "        self.is_alive = True\n",
    "    \n",
    "    def eat(self):\n",
    "        print(f\"{self.name} is eating\")\n",
    "\n",
    "    def sleep(self):\n",
    "        print(f\"{self.name} is sleeping\")\n",
    "\n",
    "class Dog(Animal):\n",
    "    pass\n",
    "\n",
    "class Cat(Animal):\n",
    "    pass\n",
    "\n",
    "class Mouse(Animal):\n",
    "    pass\n",
    "\n",
    "dog = Dog(\"Scooby\")\n",
    "#cat = Cat(\"Garfield\")\n",
    "#mouse = Mouse(\"Mickey\")\n",
    "\n",
    "\n",
    "print(dog.name)"
   ]
  },
  {
   "cell_type": "markdown",
   "metadata": {},
   "source": [
    "## Multiple Inheritance"
   ]
  },
  {
   "cell_type": "markdown",
   "metadata": {},
   "source": [
    "multiple inheritance = when a child class is derived from more than one parent class"
   ]
  },
  {
   "cell_type": "code",
   "execution_count": null,
   "metadata": {},
   "outputs": [],
   "source": [
    "class Prey:\n",
    "\n",
    "    def flee(self):\n",
    "        print(\"This animal flees\")\n",
    "\n",
    "class Predator:\n",
    "\n",
    "    def hunt(self):\n",
    "        print(\"This animal is hunting\")\n",
    "\n",
    "class Rabbit(Prey):\n",
    "    pass\n",
    "\n",
    "class Hawk(Predator):\n",
    "    pass\n",
    "\n",
    "class Fish(Prey, Predator):\n",
    "    pass\n",
    "\n",
    "\n",
    "rabbit = Rabbit()\n",
    "hawk = Hawk()\n",
    "fish = Fish()\n",
    "\n",
    "# rabbit.flee()\n",
    "# hawk.hunt()\n",
    "fish.flee()\n",
    "fish.hunt()"
   ]
  },
  {
   "cell_type": "code",
   "execution_count": null,
   "metadata": {},
   "outputs": [],
   "source": [
    "class Animal:\n",
    "\n",
    "    alive = True\n",
    "\n",
    "    def eat(self):\n",
    "        print(\"This animal is eating\")\n",
    "\n",
    "    def sleep(self):\n",
    "        print(\"This animal is sleeping\")\n",
    "\n",
    "class Rabbit(Animal):\n",
    "\n",
    "    def run(self):\n",
    "        print(\"This rabbit is running\")\n",
    "\n",
    "class Fish(Animal):\n",
    "\n",
    "    def swim(self):\n",
    "        print(\"This fish is swimming\")\n",
    "\n",
    "class Hawk(Animal):\n",
    "\n",
    "    def fly(self):\n",
    "        print(\"This hawk is flying\")\n",
    "\n",
    "\n",
    "rabbit = Rabbit()\n",
    "fish = Fish()\n",
    "hawk = Hawk()\n",
    "\n",
    "print(rabbit.alive)\n",
    "fish.eat()\n",
    "hawk.sleep()\n",
    "\n",
    "rabbit.run()\n",
    "fish.swim()\n",
    "hawk.fly()"
   ]
  },
  {
   "cell_type": "markdown",
   "metadata": {},
   "source": [
    "## Polymorphism"
   ]
  },
  {
   "cell_type": "markdown",
   "metadata": {},
   "source": [
    "integers"
   ]
  },
  {
   "cell_type": "code",
   "execution_count": null,
   "metadata": {},
   "outputs": [],
   "source": [
    "num1 = 1\n",
    "num2 = 2\n",
    "print(num1+num2)"
   ]
  },
  {
   "cell_type": "markdown",
   "metadata": {},
   "source": [
    "Strings"
   ]
  },
  {
   "cell_type": "code",
   "execution_count": null,
   "metadata": {},
   "outputs": [],
   "source": [
    "str1 = \"Python\"\n",
    "str2 = \"Programming\"\n",
    "print(str1+\" \"+str2)"
   ]
  },
  {
   "cell_type": "markdown",
   "metadata": {},
   "source": [
    "Functions"
   ]
  },
  {
   "cell_type": "code",
   "execution_count": null,
   "metadata": {},
   "outputs": [],
   "source": [
    "print(len(\"GISCI343\"))\n",
    "print(len([\"Python\", \"Java\", \"R\"]))\n",
    "print(len({\"Name\": \"John\", \"Address\": \"New Zealand\"}))"
   ]
  },
  {
   "cell_type": "markdown",
   "metadata": {},
   "source": [
    "Polymorphism in Class Methods \n",
    "(f means formatted string literals)"
   ]
  },
  {
   "cell_type": "code",
   "execution_count": null,
   "metadata": {},
   "outputs": [],
   "source": [
    "class Cat:\n",
    "    def __init__(self, name, age):\n",
    "        self.name = name\n",
    "        self.age = age\n",
    "\n",
    "    def info(self):\n",
    "        print(f\"I am a cat. My name is {self.name}. I am {self.age} years old.\")\n",
    "\n",
    "    def make_sound(self):\n",
    "        print(\"Meow\")\n",
    "\n",
    "\n",
    "class Dog:\n",
    "    def __init__(self, name, age):\n",
    "        self.name = name\n",
    "        self.age = age\n",
    "\n",
    "    def info(self):\n",
    "        print(f\"I am a dog. My name is {self.name}. I am {self.age} years old.\")\n",
    "\n",
    "    def make_sound(self):\n",
    "        print(\"Bark\")\n",
    "\n",
    "\n",
    "cat1 = Cat(\"Kitty\", 2.5)\n",
    "dog1 = Dog(\"Fluffy\", 4)\n",
    "\n",
    "for animal in (cat1, dog1):\n",
    "    animal.make_sound()\n",
    "    animal.info()\n",
    "    animal.make_sound()\n"
   ]
  },
  {
   "cell_type": "markdown",
   "metadata": {},
   "source": [
    "## Encapsulation"
   ]
  },
  {
   "cell_type": "code",
   "execution_count": null,
   "metadata": {},
   "outputs": [],
   "source": [
    "class Dog:\n",
    "    def __init__(self, name):\n",
    "        self.__name = name  # Private attribute\n",
    "\n",
    "    def bark(self):\n",
    "        print(f\"{self.__name} says woof!\")\n",
    "\n",
    "    def get_name(self):\n",
    "        return self.__name\n",
    "\n",
    "    def set_name(self, new_name):\n",
    "        self.__name = new_name\n",
    "\n",
    "# Example usage:\n",
    "my_dog = Dog(\"Buddy\")\n",
    "my_dog.bark()  # Output: Buddy says woof!\n",
    "\n",
    "# Accessing the name through a method:\n",
    "print(my_dog.get_name())  # Output: Buddy\n",
    "\n",
    "# Changing the name using a method:\n",
    "my_dog.set_name(\"Max\")\n",
    "my_dog.bark()  # Output: Max says woof!\n"
   ]
  },
  {
   "cell_type": "markdown",
   "metadata": {},
   "source": [
    "Why is it helpful to make some attributes private in a class?"
   ]
  },
  {
   "cell_type": "markdown",
   "metadata": {},
   "source": [
    "Making some attributes private in a class is helpful because it allows you to control how those attributes are accessed and modified. By making an attribute private, you can ensure that it's only changed in specific, intended ways. This prevents accidental or harmful changes to the data, which can lead to bugs or unexpected behavior in your program.\n",
    "\n",
    "For example, if you have a bank account class, you wouldn't want anyone to directly change the balance without any checks in place. By making the balance private, you can ensure that any changes to it go through proper methods that might include checks, such as ensuring that the withdrawal amount doesn't exceed the balance."
   ]
  },
  {
   "cell_type": "markdown",
   "metadata": {},
   "source": [
    "Real-World Example of Encapsulation:"
   ]
  },
  {
   "cell_type": "markdown",
   "metadata": {},
   "source": [
    "Imagine you’re building software for a coffee shop. You might have a class that represents a coffee machine. The coffee machine has many internal components, like water levels, temperature settings, and a coffee bean grinder.\n",
    "\n",
    "Here’s how encapsulation would be useful:\n",
    "\n",
    "Water Level and Temperature: The water level and temperature are critical for making good coffee. You wouldn’t want the barista (or anyone using the machine) to change these values directly because they might set the temperature too high or too low, or they might use the machine without enough water, which could damage it. Instead, you provide methods like brew_coffee() that internally check these conditions before making the coffee.\n",
    "\n",
    "Grinder Settings: The coffee bean grinder might need to be set to a specific fineness for different types of coffee. However, you don't want anyone changing this setting randomly. By encapsulating the grinder settings, you can provide specific methods like set_grind_for_espresso() or set_grind_for_french_press() to adjust the grinder correctly, ensuring consistent quality."
   ]
  },
  {
   "cell_type": "markdown",
   "metadata": {},
   "source": [
    "## Abstraction"
   ]
  },
  {
   "cell_type": "code",
   "execution_count": null,
   "metadata": {},
   "outputs": [],
   "source": [
    "from abc import ABC, abstractmethod\n",
    "\n",
    "# Abstract class\n",
    "class Car(ABC):\n",
    "\n",
    "    @abstractmethod\n",
    "    def car_model(self):\n",
    "        pass\n",
    "\n",
    "# Creating an implementation class\n",
    "class Tesla(Car):\n",
    "    def car_model(self):\n",
    "        print('This Tesla model is Y')\n",
    "\n",
    "# Creating an implementation class\n",
    "class BMW(Car):\n",
    "    def car_model(self):\n",
    "        print('This BMW model is X6')\n",
    "\n",
    "# Instantiating the objects in the implementation classes\n",
    "y = Tesla()\n",
    "y.car_model()\n",
    "x = BMW()\n",
    "x.car_model()"
   ]
  },
  {
   "cell_type": "markdown",
   "metadata": {},
   "source": [
    "So in the above code, the abstract class sets a standard that every car subclass should have a model — car_model (method). This is implemented by the subclasses (Tesla and BMW). Basically, the abstraction class ensures that the focus is on WHAT should be implemented (That is, every car should have a model) and not HOW it is implemented. The implementation is left to the subclasses."
   ]
  }
 ],
 "metadata": {
  "kernelspec": {
   "display_name": "Python 3",
   "language": "python",
   "name": "python3"
  },
  "language_info": {
   "codemirror_mode": {
    "name": "ipython",
    "version": 3
   },
   "file_extension": ".py",
   "mimetype": "text/x-python",
   "name": "python",
   "nbconvert_exporter": "python",
   "pygments_lexer": "ipython3",
   "version": "3.11.4"
  }
 },
 "nbformat": 4,
 "nbformat_minor": 2
}
